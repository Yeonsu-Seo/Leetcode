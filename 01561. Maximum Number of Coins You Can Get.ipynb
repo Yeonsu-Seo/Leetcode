{
 "cells": [
  {
   "cell_type": "code",
   "execution_count": null,
   "id": "0a8142db-6ba7-40a8-8ca0-d03d113141b2",
   "metadata": {},
   "outputs": [],
   "source": [
    "class Solution:\n",
    "    def maxCoins(self, piles: List[int]) -> int:\n",
    "        piles.sort(reverse=True)\n",
    "        result = 0\n",
    "        for i in range(len(piles)//3):\n",
    "            result += piles[1+i*2]\n",
    "        return result"
   ]
  }
 ],
 "metadata": {
  "kernelspec": {
   "display_name": "Python 3 (ipykernel)",
   "language": "python",
   "name": "python3"
  },
  "language_info": {
   "codemirror_mode": {
    "name": "ipython",
    "version": 3
   },
   "file_extension": ".py",
   "mimetype": "text/x-python",
   "name": "python",
   "nbconvert_exporter": "python",
   "pygments_lexer": "ipython3",
   "version": "3.11.7"
  }
 },
 "nbformat": 4,
 "nbformat_minor": 5
}
