{
 "cells": [
  {
   "cell_type": "code",
   "execution_count": 69,
   "id": "57048617-fc39-428b-ba61-1d07768a29cc",
   "metadata": {},
   "outputs": [],
   "source": [
    "class Solution:\n",
    "    def convertToTitle(self, columnNumber: int) -> str:\n",
    "        columnList = [chr(i) for i in range(65, 91)]\n",
    "        column = \"\"\n",
    "    \n",
    "        while columnNumber > 0:\n",
    "            column += columnList[(columnNumber-1)%26]\n",
    "            columnNumber = (columnNumber-1)//26\n",
    "    \n",
    "        return column[::-1]"
   ]
  }
 ],
 "metadata": {
  "kernelspec": {
   "display_name": "Python 3 (ipykernel)",
   "language": "python",
   "name": "python3"
  },
  "language_info": {
   "codemirror_mode": {
    "name": "ipython",
    "version": 3
   },
   "file_extension": ".py",
   "mimetype": "text/x-python",
   "name": "python",
   "nbconvert_exporter": "python",
   "pygments_lexer": "ipython3",
   "version": "3.11.7"
  }
 },
 "nbformat": 4,
 "nbformat_minor": 5
}
