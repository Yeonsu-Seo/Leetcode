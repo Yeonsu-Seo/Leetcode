{
 "cells": [
  {
   "cell_type": "code",
   "execution_count": null,
   "id": "ad794500-e6a2-4682-9094-faf5de0d770f",
   "metadata": {},
   "outputs": [],
   "source": [
    "class Solution:\n",
    "    def isUgly(self, n: int) -> bool:\n",
    "        if n == 0:\n",
    "            return False\n",
    "        \n",
    "        for i in [2, 3, 5]:\n",
    "            while n%i==0:\n",
    "                n //= i\n",
    "        if n == 1:\n",
    "            return True\n",
    "        return False"
   ]
  }
 ],
 "metadata": {
  "kernelspec": {
   "display_name": "Python 3 (ipykernel)",
   "language": "python",
   "name": "python3"
  },
  "language_info": {
   "codemirror_mode": {
    "name": "ipython",
    "version": 3
   },
   "file_extension": ".py",
   "mimetype": "text/x-python",
   "name": "python",
   "nbconvert_exporter": "python",
   "pygments_lexer": "ipython3",
   "version": "3.11.7"
  }
 },
 "nbformat": 4,
 "nbformat_minor": 5
}
