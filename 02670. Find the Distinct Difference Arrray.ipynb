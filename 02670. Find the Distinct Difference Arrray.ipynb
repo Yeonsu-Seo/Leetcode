{
 "cells": [
  {
   "cell_type": "code",
   "execution_count": null,
   "id": "3ebc287c-41a2-468f-9984-a9ce6aba24d5",
   "metadata": {},
   "outputs": [],
   "source": [
    "class Solution:\n",
    "    def distinctDifferenceArray(self, nums: List[int]) -> List[int]:\n",
    "        result = []\n",
    "        for i in range(len(nums)):\n",
    "            prefix = nums[:i+1]\n",
    "            suffix = nums[i+1:]\n",
    "            result.append(len(set(prefix))-len(set(suffix)))\n",
    "        return result"
   ]
  }
 ],
 "metadata": {
  "kernelspec": {
   "display_name": "Python 3 (ipykernel)",
   "language": "python",
   "name": "python3"
  },
  "language_info": {
   "codemirror_mode": {
    "name": "ipython",
    "version": 3
   },
   "file_extension": ".py",
   "mimetype": "text/x-python",
   "name": "python",
   "nbconvert_exporter": "python",
   "pygments_lexer": "ipython3",
   "version": "3.11.7"
  }
 },
 "nbformat": 4,
 "nbformat_minor": 5
}
