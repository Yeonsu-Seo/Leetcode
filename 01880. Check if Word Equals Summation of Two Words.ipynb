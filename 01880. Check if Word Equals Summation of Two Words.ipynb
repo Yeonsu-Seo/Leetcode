{
 "cells": [
  {
   "cell_type": "code",
   "execution_count": null,
   "id": "fde81512-e8c3-4000-a306-6997a096f746",
   "metadata": {},
   "outputs": [],
   "source": [
    "class Solution:\n",
    "    def isSumEqual(self, firstWord: str, secondWord: str, targetWord: str) -> bool:\n",
    "        nums = []\n",
    "\n",
    "        for i in [firstWord, secondWord, targetWord]:\n",
    "            num = \"\"\n",
    "            for j in i:\n",
    "                num += str(ord(j)-97)\n",
    "            nums.append(int(num))\n",
    "\n",
    "        return nums[0]+nums[1]==nums[2]"
   ]
  }
 ],
 "metadata": {
  "kernelspec": {
   "display_name": "Python 3 (ipykernel)",
   "language": "python",
   "name": "python3"
  },
  "language_info": {
   "codemirror_mode": {
    "name": "ipython",
    "version": 3
   },
   "file_extension": ".py",
   "mimetype": "text/x-python",
   "name": "python",
   "nbconvert_exporter": "python",
   "pygments_lexer": "ipython3",
   "version": "3.11.7"
  }
 },
 "nbformat": 4,
 "nbformat_minor": 5
}
