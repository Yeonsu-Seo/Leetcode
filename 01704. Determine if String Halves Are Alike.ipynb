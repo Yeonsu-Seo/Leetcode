{
 "cells": [
  {
   "cell_type": "code",
   "execution_count": null,
   "id": "827c801a-3347-4bf5-887b-fc49a6725621",
   "metadata": {},
   "outputs": [],
   "source": [
    "class Solution:\n",
    "    def halvesAreAlike(self, s: str) -> bool:\n",
    "        vowels = ['a', 'e', 'i', 'o', 'u', 'A', 'E', 'I', 'O', 'U']\n",
    "\n",
    "        s = list(s)\n",
    "        a = s[:len(s)//2]\n",
    "        b = s[len(s)//2:]\n",
    "        countA = 0\n",
    "        countB = 0\n",
    "\n",
    "        for i in a:\n",
    "            if i in vowels:\n",
    "                countA += 1\n",
    "        for i in b:\n",
    "            if i in vowels:\n",
    "                countB += 1\n",
    "        \n",
    "        return countA == countB"
   ]
  }
 ],
 "metadata": {
  "kernelspec": {
   "display_name": "Python 3 (ipykernel)",
   "language": "python",
   "name": "python3"
  },
  "language_info": {
   "codemirror_mode": {
    "name": "ipython",
    "version": 3
   },
   "file_extension": ".py",
   "mimetype": "text/x-python",
   "name": "python",
   "nbconvert_exporter": "python",
   "pygments_lexer": "ipython3",
   "version": "3.11.7"
  }
 },
 "nbformat": 4,
 "nbformat_minor": 5
}
