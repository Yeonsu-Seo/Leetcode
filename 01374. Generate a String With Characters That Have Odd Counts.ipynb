{
 "cells": [
  {
   "cell_type": "code",
   "execution_count": null,
   "id": "3bfbd731-c7d7-4872-8cf7-bf7bf5d7c200",
   "metadata": {},
   "outputs": [],
   "source": [
    "class Solution:\n",
    "    def generateTheString(self, n: int) -> str:\n",
    "        if (n%4==1) or (n%4==3):\n",
    "            return \"s\"*n\n",
    "        elif n%4==0:\n",
    "            return \"s\"*(n//2+1)+\"t\"*(n//2-1)\n",
    "        else:\n",
    "            return \"s\"*(n//2)+\"t\"*(n//2)"
   ]
  }
 ],
 "metadata": {
  "kernelspec": {
   "display_name": "Python 3 (ipykernel)",
   "language": "python",
   "name": "python3"
  },
  "language_info": {
   "codemirror_mode": {
    "name": "ipython",
    "version": 3
   },
   "file_extension": ".py",
   "mimetype": "text/x-python",
   "name": "python",
   "nbconvert_exporter": "python",
   "pygments_lexer": "ipython3",
   "version": "3.11.7"
  }
 },
 "nbformat": 4,
 "nbformat_minor": 5
}
