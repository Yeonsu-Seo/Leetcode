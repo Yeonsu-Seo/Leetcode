{
 "cells": [
  {
   "cell_type": "code",
   "execution_count": null,
   "id": "0a20c3fb-07d9-4fcc-8c55-5ea6e81e9d31",
   "metadata": {},
   "outputs": [],
   "source": [
    "class Solution:\n",
    "    def largestLocal(self, grid: List[List[int]]) -> List[List[int]]:\n",
    "        def max3x3(arr, row, col):\n",
    "            nums = []\n",
    "            for k in range(3):\n",
    "                nums += arr[row+k][col:col+3]\n",
    "            return max(nums)\n",
    "        \n",
    "        result = []\n",
    "        for i in range(len(grid)-2):\n",
    "            temp = []\n",
    "            for j in range(len(grid)-2):\n",
    "                temp.append(max3x3(grid, i, j))\n",
    "            result.append(temp)\n",
    "        return result"
   ]
  }
 ],
 "metadata": {
  "kernelspec": {
   "display_name": "Python 3 (ipykernel)",
   "language": "python",
   "name": "python3"
  },
  "language_info": {
   "codemirror_mode": {
    "name": "ipython",
    "version": 3
   },
   "file_extension": ".py",
   "mimetype": "text/x-python",
   "name": "python",
   "nbconvert_exporter": "python",
   "pygments_lexer": "ipython3",
   "version": "3.11.7"
  }
 },
 "nbformat": 4,
 "nbformat_minor": 5
}
