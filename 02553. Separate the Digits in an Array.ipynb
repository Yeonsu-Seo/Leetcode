{
 "cells": [
  {
   "cell_type": "code",
   "execution_count": null,
   "id": "32f313a2-c0a8-44bb-8de6-f202d44c7bfd",
   "metadata": {},
   "outputs": [],
   "source": [
    "class Solution:\n",
    "    def separateDigits(self, nums: List[int]) -> List[int]:\n",
    "        result = []\n",
    "        for i in nums:\n",
    "            for j in str(i):\n",
    "                result.append(int(j))\n",
    "        return result"
   ]
  }
 ],
 "metadata": {
  "kernelspec": {
   "display_name": "Python 3 (ipykernel)",
   "language": "python",
   "name": "python3"
  },
  "language_info": {
   "codemirror_mode": {
    "name": "ipython",
    "version": 3
   },
   "file_extension": ".py",
   "mimetype": "text/x-python",
   "name": "python",
   "nbconvert_exporter": "python",
   "pygments_lexer": "ipython3",
   "version": "3.11.7"
  }
 },
 "nbformat": 4,
 "nbformat_minor": 5
}
