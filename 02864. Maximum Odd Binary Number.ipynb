{
 "cells": [
  {
   "cell_type": "code",
   "execution_count": null,
   "id": "347ef244-3d58-4c15-860f-9a2fcaac8372",
   "metadata": {},
   "outputs": [],
   "source": [
    "class Solution:\n",
    "    def maximumOddBinaryNumber(self, s: str) -> str:\n",
    "        num = s.count(\"1\")\n",
    "        if num == 1:\n",
    "            return \"0\"*(len(s)-1) + \"1\"\n",
    "        return \"1\"*(num-1) + \"0\"*(len(s)-num) + \"1\""
   ]
  }
 ],
 "metadata": {
  "kernelspec": {
   "display_name": "Python 3 (ipykernel)",
   "language": "python",
   "name": "python3"
  },
  "language_info": {
   "codemirror_mode": {
    "name": "ipython",
    "version": 3
   },
   "file_extension": ".py",
   "mimetype": "text/x-python",
   "name": "python",
   "nbconvert_exporter": "python",
   "pygments_lexer": "ipython3",
   "version": "3.11.7"
  }
 },
 "nbformat": 4,
 "nbformat_minor": 5
}
