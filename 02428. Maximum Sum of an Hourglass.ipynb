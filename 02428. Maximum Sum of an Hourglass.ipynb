{
 "cells": [
  {
   "cell_type": "code",
   "execution_count": null,
   "id": "435ccf98-b4c8-4c9a-a030-0a30c50a80d5",
   "metadata": {},
   "outputs": [],
   "source": [
    "class Solution:\r\n",
    "    def maxSum(self, grid: List[List[int]]) -> int:\r\n",
    "        result = []\r\n",
    "\r\n",
    "        row = 0\r\n",
    "        col = 0\r\n",
    "        for i in range((len(grid)-2)*(len(grid[0])-2)):\r\n",
    "            temp = 0\r\n",
    "            temp += sum(grid[row][col:col+3])\r\n",
    "            temp += grid[row+1][col+1]\r\n",
    "            temp += sum(grid[row+2][col:col+3])\r\n",
    "            result.append(temp)\r\n",
    "\r\n",
    "            col += 1\r\n",
    "            if col >= len(grid[0])-2:\r\n",
    "                col = 0\r\n",
    "                row += 1\r\n",
    "\r\n",
    "        return max(result)"
   ]
  }
 ],
 "metadata": {
  "kernelspec": {
   "display_name": "Python 3 (ipykernel)",
   "language": "python",
   "name": "python3"
  },
  "language_info": {
   "codemirror_mode": {
    "name": "ipython",
    "version": 3
   },
   "file_extension": ".py",
   "mimetype": "text/x-python",
   "name": "python",
   "nbconvert_exporter": "python",
   "pygments_lexer": "ipython3",
   "version": "3.11.7"
  }
 },
 "nbformat": 4,
 "nbformat_minor": 5
}
