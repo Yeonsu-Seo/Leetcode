{
 "cells": [
  {
   "cell_type": "code",
   "execution_count": null,
   "id": "5a15fcb0-8031-45f8-b87b-26b8bd8896ea",
   "metadata": {},
   "outputs": [],
   "source": [
    "class Solution:\n",
    "    def majorityElement(self, nums: List[int]) -> int:\n",
    "        numDict = {}\n",
    "        for i in nums:\n",
    "            if i in numDict.keys():\n",
    "                numDict[i] += 1\n",
    "            else:\n",
    "                numDict[i] = 1\n",
    "        \n",
    "        maxTime = max(numDict.values())\n",
    "        for k, v in numDict.items():\n",
    "            if v == maxTime:\n",
    "                return k"
   ]
  }
 ],
 "metadata": {
  "kernelspec": {
   "display_name": "Python 3 (ipykernel)",
   "language": "python",
   "name": "python3"
  },
  "language_info": {
   "codemirror_mode": {
    "name": "ipython",
    "version": 3
   },
   "file_extension": ".py",
   "mimetype": "text/x-python",
   "name": "python",
   "nbconvert_exporter": "python",
   "pygments_lexer": "ipython3",
   "version": "3.11.7"
  }
 },
 "nbformat": 4,
 "nbformat_minor": 5
}
