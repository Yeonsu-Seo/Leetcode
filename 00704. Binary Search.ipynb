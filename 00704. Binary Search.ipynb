{
 "cells": [
  {
   "cell_type": "code",
   "execution_count": null,
   "id": "45553d67-559b-4b51-b5a2-cf6350ae66be",
   "metadata": {},
   "outputs": [],
   "source": [
    "class Solution:\n",
    "    def search(self, nums: List[int], target: int) -> int:\n",
    "        if len(nums)==1:\n",
    "            if nums[0] == target:\n",
    "                return 0\n",
    "            else:\n",
    "                return -1\n",
    "\n",
    "        low = 0\n",
    "        high = len(nums)-1\n",
    "        while low < high:\n",
    "            mid = (low + high)//2\n",
    "            if nums[mid] < target:\n",
    "                low = mid+1\n",
    "            elif nums[mid] > target:\n",
    "                high = mid-1\n",
    "            else:\n",
    "                return mid\n",
    "            \n",
    "        if nums[low] == target:\n",
    "            return low\n",
    "        else:\n",
    "            return -1"
   ]
  }
 ],
 "metadata": {
  "kernelspec": {
   "display_name": "Python 3 (ipykernel)",
   "language": "python",
   "name": "python3"
  },
  "language_info": {
   "codemirror_mode": {
    "name": "ipython",
    "version": 3
   },
   "file_extension": ".py",
   "mimetype": "text/x-python",
   "name": "python",
   "nbconvert_exporter": "python",
   "pygments_lexer": "ipython3",
   "version": "3.11.7"
  }
 },
 "nbformat": 4,
 "nbformat_minor": 5
}
