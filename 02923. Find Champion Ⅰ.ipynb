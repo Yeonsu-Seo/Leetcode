{
 "cells": [
  {
   "cell_type": "code",
   "execution_count": null,
   "id": "78ee410d-f385-49d0-ace9-b77a83982a5a",
   "metadata": {},
   "outputs": [],
   "source": [
    "    def findChampion(self, grid: List[List[int]]) -> int:\n",
    "        for i in range(len(grid)):\n",
    "            count = 0\n",
    "            for j in range(len(grid)):\n",
    "                if i == j:\n",
    "                    pass\n",
    "                count += grid[i][j]\n",
    "            if count == len(grid)-1:\n",
    "                return i"
   ]
  }
 ],
 "metadata": {
  "kernelspec": {
   "display_name": "Python 3 (ipykernel)",
   "language": "python",
   "name": "python3"
  },
  "language_info": {
   "codemirror_mode": {
    "name": "ipython",
    "version": 3
   },
   "file_extension": ".py",
   "mimetype": "text/x-python",
   "name": "python",
   "nbconvert_exporter": "python",
   "pygments_lexer": "ipython3",
   "version": "3.11.7"
  }
 },
 "nbformat": 4,
 "nbformat_minor": 5
}
