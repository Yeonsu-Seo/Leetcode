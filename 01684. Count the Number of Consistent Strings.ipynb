{
 "cells": [
  {
   "cell_type": "code",
   "execution_count": null,
   "id": "6e49d3b5-feb9-42de-9ffe-0c9dd9aa85af",
   "metadata": {},
   "outputs": [],
   "source": [
    "class Solution:\n",
    "    def countConsistentStrings(self, allowed: str, words: List[str]) -> int:\n",
    "        result = 0\n",
    "        for i in range(len(words)):\n",
    "            word = set(list(words[i]))\n",
    "            al = set(list(allowed))\n",
    "            check = list(word.difference(al))\n",
    "            if len(check)==0:\n",
    "                result += 1\n",
    "            \n",
    "        return result"
   ]
  }
 ],
 "metadata": {
  "kernelspec": {
   "display_name": "Python 3 (ipykernel)",
   "language": "python",
   "name": "python3"
  },
  "language_info": {
   "codemirror_mode": {
    "name": "ipython",
    "version": 3
   },
   "file_extension": ".py",
   "mimetype": "text/x-python",
   "name": "python",
   "nbconvert_exporter": "python",
   "pygments_lexer": "ipython3",
   "version": "3.11.7"
  }
 },
 "nbformat": 4,
 "nbformat_minor": 5
}
