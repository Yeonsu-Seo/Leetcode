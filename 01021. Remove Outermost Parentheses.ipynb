{
 "cells": [
  {
   "cell_type": "code",
   "execution_count": null,
   "id": "75fa7093-22fb-49ca-8aab-c6338ebd16bc",
   "metadata": {},
   "outputs": [],
   "source": [
    "class Solution:\n",
    "    def removeOuterParentheses(self, s: str) -> str:\n",
    "        result = \"\"\n",
    "        count = 0\n",
    "        temp = \"\"\n",
    "        for i in range(len(s)):\n",
    "            if s[i] == \"(\":\n",
    "                count += 1\n",
    "            else:\n",
    "                count -= 1\n",
    "            temp += s[i]\n",
    "            if count == 0:\n",
    "                result += temp[1:len(temp)-1]\n",
    "                temp = \"\"\n",
    "            \n",
    "        return result"
   ]
  }
 ],
 "metadata": {
  "kernelspec": {
   "display_name": "Python 3 (ipykernel)",
   "language": "python",
   "name": "python3"
  },
  "language_info": {
   "codemirror_mode": {
    "name": "ipython",
    "version": 3
   },
   "file_extension": ".py",
   "mimetype": "text/x-python",
   "name": "python",
   "nbconvert_exporter": "python",
   "pygments_lexer": "ipython3",
   "version": "3.11.7"
  }
 },
 "nbformat": 4,
 "nbformat_minor": 5
}
