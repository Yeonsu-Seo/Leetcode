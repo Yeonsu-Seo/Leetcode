{
 "cells": [
  {
   "cell_type": "code",
   "execution_count": null,
   "id": "181548ed-dcfb-48d3-9e2c-78067800f575",
   "metadata": {},
   "outputs": [],
   "source": [
    "class Solution:\n",
    "    def hasTrailingZeros(self, nums: List[int]) -> bool:\n",
    "        count = 0\n",
    "        for i in nums:\n",
    "            if i%2==0:\n",
    "                count += 1\n",
    "            if count == 2:\n",
    "                return True\n",
    "        return False"
   ]
  }
 ],
 "metadata": {
  "kernelspec": {
   "display_name": "Python 3 (ipykernel)",
   "language": "python",
   "name": "python3"
  },
  "language_info": {
   "codemirror_mode": {
    "name": "ipython",
    "version": 3
   },
   "file_extension": ".py",
   "mimetype": "text/x-python",
   "name": "python",
   "nbconvert_exporter": "python",
   "pygments_lexer": "ipython3",
   "version": "3.11.7"
  }
 },
 "nbformat": 4,
 "nbformat_minor": 5
}
