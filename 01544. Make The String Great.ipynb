{
 "cells": [
  {
   "cell_type": "code",
   "execution_count": null,
   "id": "e420eb14-278b-4950-9b45-b178854d771e",
   "metadata": {},
   "outputs": [],
   "source": [
    "class Solution:\n",
    "    def makeGood(self, s: str) -> str:\n",
    "        while True:\n",
    "            new = s.lower()\n",
    "            temp = 0\n",
    "            for i in set(list(new)):\n",
    "                check1 = i+i.upper()\n",
    "                if check1 in s:\n",
    "                    s = \"\".join(s.split(check1))\n",
    "                    temp += 1\n",
    "                check2 = i.upper()+i\n",
    "                if check2 in s:\n",
    "                    s = \"\".join(s.split(check2))\n",
    "                    temp += 1\n",
    "            if temp == 0:\n",
    "                break\n",
    "        return s"
   ]
  }
 ],
 "metadata": {
  "kernelspec": {
   "display_name": "Python 3 (ipykernel)",
   "language": "python",
   "name": "python3"
  },
  "language_info": {
   "codemirror_mode": {
    "name": "ipython",
    "version": 3
   },
   "file_extension": ".py",
   "mimetype": "text/x-python",
   "name": "python",
   "nbconvert_exporter": "python",
   "pygments_lexer": "ipython3",
   "version": "3.11.7"
  }
 },
 "nbformat": 4,
 "nbformat_minor": 5
}
