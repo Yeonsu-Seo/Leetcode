{
 "cells": [
  {
   "cell_type": "code",
   "execution_count": null,
   "id": "f5191e00-78e8-4d63-9a45-9cf2ce3a30c2",
   "metadata": {},
   "outputs": [],
   "source": [
    "class Solution:\n",
    "    def romanToInt(self, s: str) -> int:\n",
    "        num = 0\n",
    "        for i in range(len(s)):\n",
    "            if s[i] == 'I':\n",
    "                if 'V' in s[i:]:\n",
    "                    num -= 1\n",
    "                elif 'X' in s[i:]:\n",
    "                    num -= 1\n",
    "                else:\n",
    "                    num += 1\n",
    "            elif s[i] == 'V':\n",
    "                num += 5\n",
    "            elif s[i] == 'X':\n",
    "                if 'L' in s[i:]:\n",
    "                    num -= 10\n",
    "                elif 'C' in s[i:]:\n",
    "                    num -= 10\n",
    "                else:\n",
    "                    num += 10\n",
    "            elif s[i] == 'L':\n",
    "                num += 50\n",
    "            elif s[i] == 'C':\n",
    "                if 'D' in s[i:]:\n",
    "                    num -= 100\n",
    "                elif 'M' in s[i:]:\n",
    "                    num -= 100\n",
    "                else:\n",
    "                    num += 100\n",
    "            elif s[i] == 'D':\n",
    "                num += 500\n",
    "            elif s[i] == 'M':\n",
    "                num += 1000\n",
    "        return num        "
   ]
  }
 ],
 "metadata": {
  "kernelspec": {
   "display_name": "Python 3 (ipykernel)",
   "language": "python",
   "name": "python3"
  },
  "language_info": {
   "codemirror_mode": {
    "name": "ipython",
    "version": 3
   },
   "file_extension": ".py",
   "mimetype": "text/x-python",
   "name": "python",
   "nbconvert_exporter": "python",
   "pygments_lexer": "ipython3",
   "version": "3.11.7"
  }
 },
 "nbformat": 4,
 "nbformat_minor": 5
}
