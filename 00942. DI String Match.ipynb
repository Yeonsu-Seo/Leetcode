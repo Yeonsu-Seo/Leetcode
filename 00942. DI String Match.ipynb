{
 "cells": [
  {
   "cell_type": "code",
   "execution_count": null,
   "id": "97715790-ffe5-4876-a4f0-f4d3ded7b261",
   "metadata": {},
   "outputs": [],
   "source": [
    "class Solution:\n",
    "    def diStringMatch(self, s: str) -> List[int]:\n",
    "        num = s.count(\"I\")\n",
    "        num1 = [i for i in range(0, num+1)]\n",
    "        num2 = [i for i in range(num+1, len(s)+1)]\n",
    "        num2 = num2[::-1]\n",
    "        \n",
    "        for i in range(len(s)):\n",
    "            if s[i] == \"D\":\n",
    "                n = num2.pop(0)\n",
    "                num1.insert(i, n)\n",
    "        return num1"
   ]
  }
 ],
 "metadata": {
  "kernelspec": {
   "display_name": "Python 3 (ipykernel)",
   "language": "python",
   "name": "python3"
  },
  "language_info": {
   "codemirror_mode": {
    "name": "ipython",
    "version": 3
   },
   "file_extension": ".py",
   "mimetype": "text/x-python",
   "name": "python",
   "nbconvert_exporter": "python",
   "pygments_lexer": "ipython3",
   "version": "3.11.7"
  }
 },
 "nbformat": 4,
 "nbformat_minor": 5
}
