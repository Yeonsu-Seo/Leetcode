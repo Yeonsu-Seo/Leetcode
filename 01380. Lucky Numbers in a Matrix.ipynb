{
 "cells": [
  {
   "cell_type": "code",
   "execution_count": null,
   "id": "27467573-3732-4a16-a820-09ba73f256a2",
   "metadata": {},
   "outputs": [],
   "source": [
    "class Solution:\n",
    "    def luckyNumbers (self, matrix: List[List[int]]) -> List[int]:\n",
    "        result = []\n",
    "        for i in range(len(matrix)):\n",
    "            miniRow = min(matrix[i])\n",
    "            index = matrix[i].index(miniRow)\n",
    "            for j in range(len(matrix)):\n",
    "                if miniRow < matrix[j][index]:\n",
    "                    break\n",
    "            else:\n",
    "                result.append(miniRow)\n",
    "        return result"
   ]
  }
 ],
 "metadata": {
  "kernelspec": {
   "display_name": "Python 3 (ipykernel)",
   "language": "python",
   "name": "python3"
  },
  "language_info": {
   "codemirror_mode": {
    "name": "ipython",
    "version": 3
   },
   "file_extension": ".py",
   "mimetype": "text/x-python",
   "name": "python",
   "nbconvert_exporter": "python",
   "pygments_lexer": "ipython3",
   "version": "3.11.7"
  }
 },
 "nbformat": 4,
 "nbformat_minor": 5
}
