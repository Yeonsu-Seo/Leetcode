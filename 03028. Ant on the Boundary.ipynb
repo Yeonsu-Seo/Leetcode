{
 "cells": [
  {
   "cell_type": "code",
   "execution_count": null,
   "id": "a03fa055-39c2-4a95-a16c-b5e208f2a753",
   "metadata": {},
   "outputs": [],
   "source": [
    "class Solution:\n",
    "    def returnToBoundaryCount(self, nums: List[int]) -> int:\n",
    "        result = 0\n",
    "        check = 0\n",
    "        for i in nums:\n",
    "            check += i\n",
    "            if check == 0:\n",
    "                result += 1\n",
    "        \n",
    "        return result"
   ]
  }
 ],
 "metadata": {
  "kernelspec": {
   "display_name": "Python 3 (ipykernel)",
   "language": "python",
   "name": "python3"
  },
  "language_info": {
   "codemirror_mode": {
    "name": "ipython",
    "version": 3
   },
   "file_extension": ".py",
   "mimetype": "text/x-python",
   "name": "python",
   "nbconvert_exporter": "python",
   "pygments_lexer": "ipython3",
   "version": "3.11.7"
  }
 },
 "nbformat": 4,
 "nbformat_minor": 5
}
