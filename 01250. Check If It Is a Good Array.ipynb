{
 "cells": [
  {
   "cell_type": "code",
   "execution_count": null,
   "id": "e885c66c-4540-4e47-844c-e6c9139f5e64",
   "metadata": {},
   "outputs": [],
   "source": [
    "class Solution:\n",
    "    def isGoodArray(self, nums: List[int]) -> bool:\n",
    "        mini = min(nums)\n",
    "        check = []\n",
    "        for i in range(1, int(mini**0.5)+1):\n",
    "            if mini%i==0:\n",
    "                check.append(i)\n",
    "                check.append(mini//i)\n",
    "        if mini//int(mini**0.5)==int(mini**0.5):\n",
    "            check = list(set(check))\n",
    "        check.remove(1)\n",
    "        \n",
    "        for i in check:\n",
    "            for j in nums:\n",
    "                if j%i!=0:\n",
    "                    break\n",
    "            else:\n",
    "                return False\n",
    "        return True"
   ]
  }
 ],
 "metadata": {
  "kernelspec": {
   "display_name": "Python 3 (ipykernel)",
   "language": "python",
   "name": "python3"
  },
  "language_info": {
   "codemirror_mode": {
    "name": "ipython",
    "version": 3
   },
   "file_extension": ".py",
   "mimetype": "text/x-python",
   "name": "python",
   "nbconvert_exporter": "python",
   "pygments_lexer": "ipython3",
   "version": "3.11.7"
  }
 },
 "nbformat": 4,
 "nbformat_minor": 5
}
