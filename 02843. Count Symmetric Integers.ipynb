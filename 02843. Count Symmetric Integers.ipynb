{
 "cells": [
  {
   "cell_type": "code",
   "execution_count": 6,
   "id": "07ea4fe3-5beb-42a6-a2ec-d001d8e8a673",
   "metadata": {},
   "outputs": [],
   "source": [
    "class Solution:\n",
    "    def countSymmetricIntegers(self, low: int, high: int) -> int:\n",
    "        count = 0\n",
    "\n",
    "        for i in range(low, high+1):\n",
    "            i = str(i)\n",
    "            if len(i)%2==0:\n",
    "                strListI = list(int(j) for j in i)\n",
    "                halfIndex = len(i)//2\n",
    "                half1 = sum(strListI[:halfIndex])\n",
    "                half2 = sum(strListI[halfIndex:])\n",
    "                if half1 == half2:\n",
    "                    count += 1\n",
    "        return count"
   ]
  }
 ],
 "metadata": {
  "kernelspec": {
   "display_name": "Python 3 (ipykernel)",
   "language": "python",
   "name": "python3"
  },
  "language_info": {
   "codemirror_mode": {
    "name": "ipython",
    "version": 3
   },
   "file_extension": ".py",
   "mimetype": "text/x-python",
   "name": "python",
   "nbconvert_exporter": "python",
   "pygments_lexer": "ipython3",
   "version": "3.11.7"
  }
 },
 "nbformat": 4,
 "nbformat_minor": 5
}
