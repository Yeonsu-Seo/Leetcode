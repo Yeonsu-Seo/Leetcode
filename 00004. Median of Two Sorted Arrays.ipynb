{
 "cells": [
  {
   "cell_type": "code",
   "execution_count": null,
   "id": "d2e309b1-7047-4689-9927-4362a22d464d",
   "metadata": {},
   "outputs": [],
   "source": [
    "class Solution:\n",
    "    def findMedianSortedArrays(self, nums1: List[int], nums2: List[int]) -> float:\n",
    "        num = nums1 + nums2\n",
    "        num.sort()\n",
    "        \n",
    "        if len(num)%2 == 1:\n",
    "            indexMid = (len(num)-1)//2\n",
    "            return num[indexMid]\n",
    "        else:\n",
    "            indexMid = (len(num)-1)//2  # indexMid+1 도 indexMid\n",
    "            return (num[indexMid]+num[indexMid+1])/2"
   ]
  }
 ],
 "metadata": {
  "kernelspec": {
   "display_name": "Python 3 (ipykernel)",
   "language": "python",
   "name": "python3"
  },
  "language_info": {
   "codemirror_mode": {
    "name": "ipython",
    "version": 3
   },
   "file_extension": ".py",
   "mimetype": "text/x-python",
   "name": "python",
   "nbconvert_exporter": "python",
   "pygments_lexer": "ipython3",
   "version": "3.11.7"
  }
 },
 "nbformat": 4,
 "nbformat_minor": 5
}
