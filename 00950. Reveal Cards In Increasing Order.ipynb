{
 "cells": [
  {
   "cell_type": "code",
   "execution_count": null,
   "id": "12fd8f81-bb2a-4812-8992-32b813a85605",
   "metadata": {},
   "outputs": [],
   "source": [
    "class Solution:\n",
    "    def deckRevealedIncreasing(self, deck: List[int]) -> List[int]:\n",
    "        deck.sort(reverse=True)\n",
    "        result = [deck[0]]\n",
    "        for i in range(1, len(deck)):\n",
    "            result = [deck[i], result[-1]] + result[:len(result)-1]\n",
    "\n",
    "        return result\n",
    "        "
   ]
  }
 ],
 "metadata": {
  "kernelspec": {
   "display_name": "Python 3 (ipykernel)",
   "language": "python",
   "name": "python3"
  },
  "language_info": {
   "codemirror_mode": {
    "name": "ipython",
    "version": 3
   },
   "file_extension": ".py",
   "mimetype": "text/x-python",
   "name": "python",
   "nbconvert_exporter": "python",
   "pygments_lexer": "ipython3",
   "version": "3.11.7"
  }
 },
 "nbformat": 4,
 "nbformat_minor": 5
}
