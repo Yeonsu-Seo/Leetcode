{
 "cells": [
  {
   "cell_type": "code",
   "execution_count": null,
   "id": "e12bb81e-b813-4f6f-8ae1-42b811ca03e8",
   "metadata": {},
   "outputs": [],
   "source": [
    "class Solution:\n",
    "    def frequencySort(self, s: str) -> str:\n",
    "        sDict = {}\n",
    "        for i in s:\n",
    "            sDict[i] = sDict.get(i, 0) + 1\n",
    "        \n",
    "        newS = \"\"\n",
    "        maxFre = 0\n",
    "        while True:\n",
    "            maxFre = max(sDict.values())\n",
    "            for i in sDict.keys():\n",
    "                if sDict[i] == maxFre:\n",
    "                    newS += i*maxFre\n",
    "                    sDict[i] = 0\n",
    "            if list(set(sDict.values())) == [0]:\n",
    "                break\n",
    "        \n",
    "        return newS"
   ]
  }
 ],
 "metadata": {
  "kernelspec": {
   "display_name": "Python 3 (ipykernel)",
   "language": "python",
   "name": "python3"
  },
  "language_info": {
   "codemirror_mode": {
    "name": "ipython",
    "version": 3
   },
   "file_extension": ".py",
   "mimetype": "text/x-python",
   "name": "python",
   "nbconvert_exporter": "python",
   "pygments_lexer": "ipython3",
   "version": "3.11.7"
  }
 },
 "nbformat": 4,
 "nbformat_minor": 5
}
