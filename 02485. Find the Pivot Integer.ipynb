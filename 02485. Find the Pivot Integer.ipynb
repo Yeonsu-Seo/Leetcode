{
 "cells": [
  {
   "cell_type": "code",
   "execution_count": null,
   "id": "524842e4-1f9c-49f0-abb6-91414393afb5",
   "metadata": {},
   "outputs": [],
   "source": [
    "class Solution:\n",
    "    def pivotInteger(self, n: int) -> int:\n",
    "        nums = [i for i in range(1, n+1)]\n",
    "\n",
    "        for i in range(len(nums)):\n",
    "            num1 = sum(nums[i:])\n",
    "            num2 = sum(nums[:i+1])\n",
    "            if num1 == num2:\n",
    "                return nums[i]\n",
    "        return -1"
   ]
  }
 ],
 "metadata": {
  "kernelspec": {
   "display_name": "",
   "name": ""
  },
  "language_info": {
   "name": ""
  }
 },
 "nbformat": 4,
 "nbformat_minor": 5
}
