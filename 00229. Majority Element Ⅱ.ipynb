{
 "cells": [
  {
   "cell_type": "code",
   "execution_count": null,
   "id": "0ce69ca2-65c0-4393-a9e7-2a5574d87475",
   "metadata": {},
   "outputs": [],
   "source": [
    "class Solution:\n",
    "    def majorityElement(self, nums: List[int]) -> List[int]:\n",
    "        numDict = {}\n",
    "        for i in nums:\n",
    "            numDict[i] = numDict.get(i, 0) + 1\n",
    "        \n",
    "        majorNum = len(nums)//3\n",
    "\n",
    "        answer = []\n",
    "        for i in numDict.keys():\n",
    "            if numDict[i] > majorNum:\n",
    "                answer.append(i)\n",
    "\n",
    "        return answer"
   ]
  }
 ],
 "metadata": {
  "kernelspec": {
   "display_name": "Python 3 (ipykernel)",
   "language": "python",
   "name": "python3"
  },
  "language_info": {
   "codemirror_mode": {
    "name": "ipython",
    "version": 3
   },
   "file_extension": ".py",
   "mimetype": "text/x-python",
   "name": "python",
   "nbconvert_exporter": "python",
   "pygments_lexer": "ipython3",
   "version": "3.11.7"
  }
 },
 "nbformat": 4,
 "nbformat_minor": 5
}
