{
 "cells": [
  {
   "cell_type": "code",
   "execution_count": null,
   "id": "e483de19-8c4a-402e-8ea1-2b94c9f73570",
   "metadata": {},
   "outputs": [],
   "source": [
    "class Solution:\n",
    "    def findPeaks(self, mountain: List[int]) -> List[int]:\n",
    "        result = []\n",
    "\n",
    "        for i in range(1, len(mountain)-1):\n",
    "            if mountain[i] > mountain[i-1] and mountain[i] > mountain[i+1]:\n",
    "                result += [i]\n",
    "        return result"
   ]
  }
 ],
 "metadata": {
  "kernelspec": {
   "display_name": "Python 3 (ipykernel)",
   "language": "python",
   "name": "python3"
  },
  "language_info": {
   "codemirror_mode": {
    "name": "ipython",
    "version": 3
   },
   "file_extension": ".py",
   "mimetype": "text/x-python",
   "name": "python",
   "nbconvert_exporter": "python",
   "pygments_lexer": "ipython3",
   "version": "3.11.7"
  }
 },
 "nbformat": 4,
 "nbformat_minor": 5
}
