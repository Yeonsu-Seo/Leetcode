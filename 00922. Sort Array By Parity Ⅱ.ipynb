{
 "cells": [
  {
   "cell_type": "code",
   "execution_count": null,
   "id": "b396b059-5429-4d67-88d2-f0d316b77598",
   "metadata": {},
   "outputs": [],
   "source": [
    "class Solution:\n",
    "    def sortArrayByParityII(self, nums: List[int]) -> List[int]:\n",
    "        odd = []\n",
    "        even = []\n",
    "        for i in nums:\n",
    "            if i%2==0:\n",
    "                even.append(i)\n",
    "            else:\n",
    "                odd.append(i)\n",
    "        sortArray = []\n",
    "        for i in range(len(nums)):\n",
    "            if i%2==0:\n",
    "                sortArray.append(even[int(i/2)])\n",
    "            else:\n",
    "                sortArray.append(odd[int((i-1)/2)])\n",
    "\n",
    "        return sortArray"
   ]
  }
 ],
 "metadata": {
  "kernelspec": {
   "display_name": "Python 3 (ipykernel)",
   "language": "python",
   "name": "python3"
  },
  "language_info": {
   "codemirror_mode": {
    "name": "ipython",
    "version": 3
   },
   "file_extension": ".py",
   "mimetype": "text/x-python",
   "name": "python",
   "nbconvert_exporter": "python",
   "pygments_lexer": "ipython3",
   "version": "3.11.7"
  }
 },
 "nbformat": 4,
 "nbformat_minor": 5
}
