{
 "cells": [
  {
   "cell_type": "code",
   "execution_count": null,
   "id": "04696dd8-3630-4112-b72e-693f3b34776c",
   "metadata": {},
   "outputs": [],
   "source": [
    "class Solution:\n",
    "    def maxLengthBetweenEqualCharacters(self, s: str) -> int:\n",
    "        length = 0\n",
    "        count = 0\n",
    "        \n",
    "        s = list(s)\n",
    "        for i in set(s):\n",
    "            if s.count(i) > 1:\n",
    "                count += 1\n",
    "                index1 = s.index(i)\n",
    "                index2 = len(s) - s[::-1].index(i) -1\n",
    "                length= max(length, index2-index1-1)\n",
    "\n",
    "        if count == 0:\n",
    "            return -1\n",
    "        else:\n",
    "            return length"
   ]
  }
 ],
 "metadata": {
  "kernelspec": {
   "display_name": "Python 3 (ipykernel)",
   "language": "python",
   "name": "python3"
  },
  "language_info": {
   "codemirror_mode": {
    "name": "ipython",
    "version": 3
   },
   "file_extension": ".py",
   "mimetype": "text/x-python",
   "name": "python",
   "nbconvert_exporter": "python",
   "pygments_lexer": "ipython3",
   "version": "3.11.7"
  }
 },
 "nbformat": 4,
 "nbformat_minor": 5
}
