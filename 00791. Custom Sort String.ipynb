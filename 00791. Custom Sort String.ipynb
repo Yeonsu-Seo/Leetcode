{
 "cells": [
  {
   "cell_type": "code",
   "execution_count": null,
   "id": "74609402-4875-44de-9e25-4a1c6b7226f8",
   "metadata": {},
   "outputs": [],
   "source": [
    "class Solution:\n",
    "    def customSortString(self, order: str, s: str) -> str:\n",
    "        result = \"\"\n",
    "        s = list(s)\n",
    "\n",
    "        for i in order:\n",
    "            if i in s:\n",
    "                result += i*s.count(i)\n",
    "                while i in s:\n",
    "                    s.remove(i)\n",
    "        \n",
    "        result += \"\".join(s)\n",
    "        return result"
   ]
  }
 ],
 "metadata": {
  "kernelspec": {
   "display_name": "Python 3 (ipykernel)",
   "language": "python",
   "name": "python3"
  },
  "language_info": {
   "codemirror_mode": {
    "name": "ipython",
    "version": 3
   },
   "file_extension": ".py",
   "mimetype": "text/x-python",
   "name": "python",
   "nbconvert_exporter": "python",
   "pygments_lexer": "ipython3",
   "version": "3.11.7"
  }
 },
 "nbformat": 4,
 "nbformat_minor": 5
}
