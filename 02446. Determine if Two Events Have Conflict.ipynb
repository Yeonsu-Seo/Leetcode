{
 "cells": [
  {
   "cell_type": "code",
   "execution_count": null,
   "id": "80d50ed4-f449-4718-a5e2-4ed46375971d",
   "metadata": {},
   "outputs": [],
   "source": [
    "class Solution:\n",
    "    def haveConflict(self, event1: List[str], event2: List[str]) -> bool:\n",
    "        # 시작 시간이 더 빠른 사건(A) 기준\n",
    "        # B의 시작시간 <= A의 끝시간이면 참\n",
    "        for i in range(5):\n",
    "            if event1[0][i] == event2[0][i]:\n",
    "                continue\n",
    "            if int(event1[0][i]) < int(event2[0][i]):\n",
    "                fast = event1\n",
    "                slow = event2\n",
    "                break\n",
    "            else:\n",
    "                fast = event2\n",
    "                slow = event1\n",
    "                break\n",
    "        else:\n",
    "            return True\n",
    "        return slow[0] <= fast[1]"
   ]
  }
 ],
 "metadata": {
  "kernelspec": {
   "display_name": "Python 3 (ipykernel)",
   "language": "python",
   "name": "python3"
  },
  "language_info": {
   "codemirror_mode": {
    "name": "ipython",
    "version": 3
   },
   "file_extension": ".py",
   "mimetype": "text/x-python",
   "name": "python",
   "nbconvert_exporter": "python",
   "pygments_lexer": "ipython3",
   "version": "3.11.7"
  }
 },
 "nbformat": 4,
 "nbformat_minor": 5
}
