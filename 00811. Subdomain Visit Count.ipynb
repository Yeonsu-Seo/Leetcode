{
 "cells": [
  {
   "cell_type": "code",
   "execution_count": null,
   "id": "8908fb47-aee7-4430-9b77-f2f7ce30288c",
   "metadata": {},
   "outputs": [],
   "source": [
    "class Solution:\n",
    "    def subdomainVisits(self, cpdomains: List[str]) -> List[str]:\n",
    "        urlDict = {}  #key 주소, value 숫자\n",
    "\n",
    "        for i in range(len(cpdomains)):\n",
    "            num, urls = cpdomains[i].split()\n",
    "            num = int(num)\n",
    "            urls = urls.split(\".\")\n",
    "            for i in range(len(urls)):\n",
    "                url = \".\".join(urls[-i:])\n",
    "                urlDict[url] = urlDict.get(url, 0) + num\n",
    "        \n",
    "        result = []\n",
    "        for i in urlDict.keys():\n",
    "            result.append(str(urlDict[i])+\" \"+i)\n",
    "        return result"
   ]
  }
 ],
 "metadata": {
  "kernelspec": {
   "display_name": "Python 3 (ipykernel)",
   "language": "python",
   "name": "python3"
  },
  "language_info": {
   "codemirror_mode": {
    "name": "ipython",
    "version": 3
   },
   "file_extension": ".py",
   "mimetype": "text/x-python",
   "name": "python",
   "nbconvert_exporter": "python",
   "pygments_lexer": "ipython3",
   "version": "3.11.7"
  }
 },
 "nbformat": 4,
 "nbformat_minor": 5
}
