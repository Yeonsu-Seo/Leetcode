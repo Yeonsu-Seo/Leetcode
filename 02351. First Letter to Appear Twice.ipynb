{
 "cells": [
  {
   "cell_type": "code",
   "execution_count": null,
   "id": "b54ccaae-d47d-4bf9-a506-2f2caba90ebb",
   "metadata": {},
   "outputs": [],
   "source": [
    "class Solution:\n",
    "    def repeatedCharacter(self, s: str) -> str:\n",
    "        appear = []\n",
    "        for i in s:\n",
    "            if i not in appear:\n",
    "                appear.append(i)\n",
    "            else:\n",
    "                return i"
   ]
  }
 ],
 "metadata": {
  "kernelspec": {
   "display_name": "Python 3 (ipykernel)",
   "language": "python",
   "name": "python3"
  },
  "language_info": {
   "codemirror_mode": {
    "name": "ipython",
    "version": 3
   },
   "file_extension": ".py",
   "mimetype": "text/x-python",
   "name": "python",
   "nbconvert_exporter": "python",
   "pygments_lexer": "ipython3",
   "version": "3.11.7"
  }
 },
 "nbformat": 4,
 "nbformat_minor": 5
}
