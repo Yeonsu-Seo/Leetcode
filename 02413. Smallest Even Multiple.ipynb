{
 "cells": [
  {
   "cell_type": "code",
   "execution_count": null,
   "id": "4b72df83-3632-4dc1-8493-03eedfe65b72",
   "metadata": {},
   "outputs": [],
   "source": [
    "class Solution:\n",
    "    def smallestEvenMultiple(self, n: int) -> int:\n",
    "        if n%2==0:\n",
    "            return n\n",
    "        else:\n",
    "            return n*2"
   ]
  }
 ],
 "metadata": {
  "kernelspec": {
   "display_name": "Python 3 (ipykernel)",
   "language": "python",
   "name": "python3"
  },
  "language_info": {
   "codemirror_mode": {
    "name": "ipython",
    "version": 3
   },
   "file_extension": ".py",
   "mimetype": "text/x-python",
   "name": "python",
   "nbconvert_exporter": "python",
   "pygments_lexer": "ipython3",
   "version": "3.11.7"
  }
 },
 "nbformat": 4,
 "nbformat_minor": 5
}
