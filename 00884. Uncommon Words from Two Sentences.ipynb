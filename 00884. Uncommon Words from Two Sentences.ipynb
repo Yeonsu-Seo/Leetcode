{
 "cells": [
  {
   "cell_type": "code",
   "execution_count": 31,
   "id": "e6c24c51-7972-43aa-bd7c-98fc5c6c526c",
   "metadata": {},
   "outputs": [
    {
     "ename": "NameError",
     "evalue": "name 'List' is not defined",
     "output_type": "error",
     "traceback": [
      "\u001b[1;31m---------------------------------------------------------------------------\u001b[0m",
      "\u001b[1;31mNameError\u001b[0m                                 Traceback (most recent call last)",
      "Cell \u001b[1;32mIn[31], line 1\u001b[0m\n\u001b[1;32m----> 1\u001b[0m \u001b[38;5;28;01mclass\u001b[39;00m \u001b[38;5;21;01mSolution\u001b[39;00m:\n\u001b[0;32m      2\u001b[0m     \u001b[38;5;28;01mdef\u001b[39;00m \u001b[38;5;21muncommonFromSentences\u001b[39m(\u001b[38;5;28mself\u001b[39m, s1: \u001b[38;5;28mstr\u001b[39m, s2: \u001b[38;5;28mstr\u001b[39m) \u001b[38;5;241m-\u001b[39m\u001b[38;5;241m>\u001b[39m List[\u001b[38;5;28mstr\u001b[39m]:\n\u001b[0;32m      4\u001b[0m         answer1 \u001b[38;5;241m=\u001b[39m s1\u001b[38;5;241m.\u001b[39msplit()\n",
      "Cell \u001b[1;32mIn[31], line 2\u001b[0m, in \u001b[0;36mSolution\u001b[1;34m()\u001b[0m\n\u001b[0;32m      1\u001b[0m \u001b[38;5;28;01mclass\u001b[39;00m \u001b[38;5;21;01mSolution\u001b[39;00m:\n\u001b[1;32m----> 2\u001b[0m     \u001b[38;5;28;01mdef\u001b[39;00m \u001b[38;5;21muncommonFromSentences\u001b[39m(\u001b[38;5;28mself\u001b[39m, s1: \u001b[38;5;28mstr\u001b[39m, s2: \u001b[38;5;28mstr\u001b[39m) \u001b[38;5;241m-\u001b[39m\u001b[38;5;241m>\u001b[39m List[\u001b[38;5;28mstr\u001b[39m]:\n\u001b[0;32m      4\u001b[0m         answer1 \u001b[38;5;241m=\u001b[39m s1\u001b[38;5;241m.\u001b[39msplit()\n\u001b[0;32m      5\u001b[0m         \u001b[38;5;28;01mfor\u001b[39;00m i \u001b[38;5;129;01min\u001b[39;00m \u001b[38;5;28mset\u001b[39m(answer1):\n",
      "\u001b[1;31mNameError\u001b[0m: name 'List' is not defined"
     ]
    }
   ],
   "source": [
    "class Solution:\n",
    "    def uncommonFromSentences(self, s1: str, s2: str) -> List[str]:\n",
    "        \n",
    "        answer1 = s1.split()\n",
    "        for i in set(answer1):\n",
    "            if answer1.count(i) > 1:\n",
    "                while i in answer1:\n",
    "                    answer1.remove(i)\n",
    "\n",
    "        answer2 = s2.split()\n",
    "        for i in set(answer2):\n",
    "            if answer2.count(i) > 1:\n",
    "                while i in answer2:\n",
    "                    answer2.remove(i)\n",
    "\n",
    "        answer = list(set(answer1+answer2))\n",
    "\n",
    "        for i in set(s1.split()):\n",
    "            if i in set(s2.split()):\n",
    "                while i in answer:\n",
    "                    answer.remove(i)\n",
    "        return answer"
   ]
  }
 ],
 "metadata": {
  "kernelspec": {
   "display_name": "Python 3 (ipykernel)",
   "language": "python",
   "name": "python3"
  },
  "language_info": {
   "codemirror_mode": {
    "name": "ipython",
    "version": 3
   },
   "file_extension": ".py",
   "mimetype": "text/x-python",
   "name": "python",
   "nbconvert_exporter": "python",
   "pygments_lexer": "ipython3",
   "version": "3.11.7"
  }
 },
 "nbformat": 4,
 "nbformat_minor": 5
}
