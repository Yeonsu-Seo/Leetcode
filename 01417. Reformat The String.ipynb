{
 "cells": [
  {
   "cell_type": "code",
   "execution_count": null,
   "id": "f9252e67-00d2-4109-ad7a-548bfe9005a8",
   "metadata": {},
   "outputs": [],
   "source": [
    "class Solution:\n",
    "    def reformat(self, s: str) -> str:\n",
    "        numStr = [str(i) for i in range(10)]\n",
    "        sNumList = []\n",
    "        sStrList = []\n",
    "\n",
    "        for i in s:\n",
    "            if i in numStr:\n",
    "                sNumList.append(i)\n",
    "            else:\n",
    "                sStrList.append(i)\n",
    "        \n",
    "        newS = \"\"\n",
    "        i = len(sNumList) - len(sStrList)\n",
    "        if (i!=0) and (i!=1) and (i!=-1):\n",
    "            pass\n",
    "        elif i==1: # 숫자가 하나더 많은 경우\n",
    "            for i in range(len(sStrList)):\n",
    "                newS += (sNumList[i] + sStrList[i])\n",
    "            newS += sNumList[-1]\n",
    "        elif i==-1:\n",
    "            for i in range(len(sNumList)):\n",
    "                newS += (sStrList[i] + sNumList[i])\n",
    "            newS += sStrList[-1]\n",
    "        else:\n",
    "            for i in range(len(sNumList)):\n",
    "                newS += (sStrList[i] + sNumList[i])            \n",
    "        return newS"
   ]
  }
 ],
 "metadata": {
  "kernelspec": {
   "display_name": "Python 3 (ipykernel)",
   "language": "python",
   "name": "python3"
  },
  "language_info": {
   "codemirror_mode": {
    "name": "ipython",
    "version": 3
   },
   "file_extension": ".py",
   "mimetype": "text/x-python",
   "name": "python",
   "nbconvert_exporter": "python",
   "pygments_lexer": "ipython3",
   "version": "3.11.7"
  }
 },
 "nbformat": 4,
 "nbformat_minor": 5
}
