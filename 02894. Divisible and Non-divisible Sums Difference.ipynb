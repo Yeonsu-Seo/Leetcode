{
 "cells": [
  {
   "cell_type": "code",
   "execution_count": null,
   "id": "c31eaa5b-5e7b-4cb2-ae72-bcbfc22cb577",
   "metadata": {},
   "outputs": [],
   "source": [
    "class Solution:\n",
    "    def differenceOfSums(self, n: int, m: int) -> int:\n",
    "        count = 0\n",
    "        for i in range(1, n+1):\n",
    "            if i%m==0:\n",
    "                count -= i\n",
    "            else:\n",
    "                count += i\n",
    "        return count"
   ]
  }
 ],
 "metadata": {
  "kernelspec": {
   "display_name": "Python 3 (ipykernel)",
   "language": "python",
   "name": "python3"
  },
  "language_info": {
   "codemirror_mode": {
    "name": "ipython",
    "version": 3
   },
   "file_extension": ".py",
   "mimetype": "text/x-python",
   "name": "python",
   "nbconvert_exporter": "python",
   "pygments_lexer": "ipython3",
   "version": "3.11.7"
  }
 },
 "nbformat": 4,
 "nbformat_minor": 5
}
