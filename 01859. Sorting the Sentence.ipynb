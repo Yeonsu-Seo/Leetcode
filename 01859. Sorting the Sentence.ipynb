{
 "cells": [
  {
   "cell_type": "code",
   "execution_count": null,
   "id": "b387764d-d8fa-4c6e-8773-c1bb0059c9ea",
   "metadata": {},
   "outputs": [],
   "source": [
    "class Solution:\n",
    "    def sortSentence(self, s: str) -> str:\n",
    "        sList = s.split()\n",
    "\n",
    "        order = {}\n",
    "        for i in sList:\n",
    "            order[i[-1]] = i[:len(i)-1]\n",
    "        \n",
    "        sentence = []\n",
    "        for i in range(1, len(sList)+1):\n",
    "            for j in order.keys():\n",
    "                if str(i) == j:\n",
    "                    sentence.append(order[j])\n",
    "                    break\n",
    "        return \" \".join(sentence)"
   ]
  }
 ],
 "metadata": {
  "kernelspec": {
   "display_name": "Python 3 (ipykernel)",
   "language": "python",
   "name": "python3"
  },
  "language_info": {
   "codemirror_mode": {
    "name": "ipython",
    "version": 3
   },
   "file_extension": ".py",
   "mimetype": "text/x-python",
   "name": "python",
   "nbconvert_exporter": "python",
   "pygments_lexer": "ipython3",
   "version": "3.11.7"
  }
 },
 "nbformat": 4,
 "nbformat_minor": 5
}
