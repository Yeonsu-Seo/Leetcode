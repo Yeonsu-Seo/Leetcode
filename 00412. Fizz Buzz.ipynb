{
 "cells": [
  {
   "cell_type": "code",
   "execution_count": null,
   "id": "a1ab236b-1b9f-471e-9d59-21ad0dba6130",
   "metadata": {},
   "outputs": [],
   "source": [
    "class Solution:\n",
    "    def fizzBuzz(self, n: int) -> List[str]:\n",
    "        answer = []\n",
    "        for i in range(1, n+1):\n",
    "            if i%3 == 0:\n",
    "                if i%5 == 0:\n",
    "                    answer.append(\"FizzBuzz\")\n",
    "                else:\n",
    "                    answer.append(\"Fizz\")\n",
    "            elif i%5 == 0:\n",
    "                answer.append(\"Buzz\")\n",
    "            else:\n",
    "                answer.append(str(i))\n",
    "\n",
    "        return answer"
   ]
  }
 ],
 "metadata": {
  "kernelspec": {
   "display_name": "Python 3 (ipykernel)",
   "language": "python",
   "name": "python3"
  },
  "language_info": {
   "codemirror_mode": {
    "name": "ipython",
    "version": 3
   },
   "file_extension": ".py",
   "mimetype": "text/x-python",
   "name": "python",
   "nbconvert_exporter": "python",
   "pygments_lexer": "ipython3",
   "version": "3.11.7"
  }
 },
 "nbformat": 4,
 "nbformat_minor": 5
}
