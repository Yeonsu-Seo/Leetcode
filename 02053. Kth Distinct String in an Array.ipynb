{
 "cells": [
  {
   "cell_type": "code",
   "execution_count": null,
   "id": "817e76ee-609f-497d-9fe7-654276f1a27b",
   "metadata": {},
   "outputs": [],
   "source": [
    "class Solution:\n",
    "    def kthDistinct(self, arr: List[str], k: int) -> str:\n",
    "        count = 0\n",
    "        setArr = [i for i in arr if arr.count(i)==1]\n",
    "        if len(setArr) < k:\n",
    "            return \"\"\n",
    "        else:\n",
    "            return setArr[k-1]"
   ]
  }
 ],
 "metadata": {
  "kernelspec": {
   "display_name": "Python 3 (ipykernel)",
   "language": "python",
   "name": "python3"
  },
  "language_info": {
   "codemirror_mode": {
    "name": "ipython",
    "version": 3
   },
   "file_extension": ".py",
   "mimetype": "text/x-python",
   "name": "python",
   "nbconvert_exporter": "python",
   "pygments_lexer": "ipython3",
   "version": "3.11.7"
  }
 },
 "nbformat": 4,
 "nbformat_minor": 5
}
