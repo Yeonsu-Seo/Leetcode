{
 "cells": [
  {
   "cell_type": "code",
   "execution_count": null,
   "id": "d85a666e-bf2c-42ff-9992-e41cafab874a",
   "metadata": {},
   "outputs": [],
   "source": [
    "class Solution:\n",
    "    def simplifiedFractions(self, n: int) -> List[str]:\n",
    "        import math\n",
    "        \n",
    "        answer = []\n",
    "        for i in range(2, n+1):   # 분모\n",
    "            for j in range(1, n): # 분자\n",
    "                if j==1:\n",
    "                    answer.append(f\"{j}/{i}\")\n",
    "                elif math.gcd(i,j)==1 and i>j:\n",
    "                    answer.append(f\"{j}/{i}\")\n",
    "        return answer"
   ]
  }
 ],
 "metadata": {
  "kernelspec": {
   "display_name": "Python 3 (ipykernel)",
   "language": "python",
   "name": "python3"
  },
  "language_info": {
   "codemirror_mode": {
    "name": "ipython",
    "version": 3
   },
   "file_extension": ".py",
   "mimetype": "text/x-python",
   "name": "python",
   "nbconvert_exporter": "python",
   "pygments_lexer": "ipython3",
   "version": "3.11.7"
  }
 },
 "nbformat": 4,
 "nbformat_minor": 5
}
