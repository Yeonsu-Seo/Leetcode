{
 "cells": [
  {
   "cell_type": "code",
   "execution_count": null,
   "id": "e1e0aa0a-c0f2-4db4-89e7-300de644d6d1",
   "metadata": {},
   "outputs": [],
   "source": [
    "class Solution:\n",
    "    def minNumber(self, nums1: List[int], nums2: List[int]) -> int:\n",
    "        both = set(nums1).intersection(set(nums2))\n",
    "        if both != set():\n",
    "            return min(both)\n",
    "\n",
    "        minNum1 = min(nums1)\n",
    "        minNum2 = min(nums2)\n",
    "        if minNum1 < minNum2:\n",
    "            return int(str(minNum1)+str(minNum2))\n",
    "        else:\n",
    "            return int(str(minNum2)+str(minNum1))"
   ]
  }
 ],
 "metadata": {
  "kernelspec": {
   "display_name": "Python 3 (ipykernel)",
   "language": "python",
   "name": "python3"
  },
  "language_info": {
   "codemirror_mode": {
    "name": "ipython",
    "version": 3
   },
   "file_extension": ".py",
   "mimetype": "text/x-python",
   "name": "python",
   "nbconvert_exporter": "python",
   "pygments_lexer": "ipython3",
   "version": "3.11.7"
  }
 },
 "nbformat": 4,
 "nbformat_minor": 5
}
