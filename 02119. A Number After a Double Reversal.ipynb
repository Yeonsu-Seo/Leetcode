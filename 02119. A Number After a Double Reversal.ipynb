{
 "cells": [
  {
   "cell_type": "code",
   "execution_count": null,
   "id": "d788a1d8-7b78-421d-9c51-2cad79ca07ce",
   "metadata": {},
   "outputs": [],
   "source": [
    "class Solution:\n",
    "    def isSameAfterReversals(self, num: int) -> bool:\n",
    "        if len(str(num)) == 1:\n",
    "            return True\n",
    "        if num%10==0:\n",
    "            return False\n",
    "        return True"
   ]
  }
 ],
 "metadata": {
  "kernelspec": {
   "display_name": "Python 3 (ipykernel)",
   "language": "python",
   "name": "python3"
  },
  "language_info": {
   "codemirror_mode": {
    "name": "ipython",
    "version": 3
   },
   "file_extension": ".py",
   "mimetype": "text/x-python",
   "name": "python",
   "nbconvert_exporter": "python",
   "pygments_lexer": "ipython3",
   "version": "3.11.7"
  }
 },
 "nbformat": 4,
 "nbformat_minor": 5
}
