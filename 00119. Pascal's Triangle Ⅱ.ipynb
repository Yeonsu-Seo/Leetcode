{
 "cells": [
  {
   "cell_type": "code",
   "execution_count": null,
   "id": "2191e22b-25c5-4974-b5d3-65f373013685",
   "metadata": {},
   "outputs": [],
   "source": [
    "class Solution:\n",
    "    def getRow(self, rowIndex: int) -> List[int]:\n",
    "        if rowIndex == 0:\n",
    "            return [1]\n",
    "\n",
    "        result = [[1], [1, 1]]\n",
    "        for i in range(2, 34):\n",
    "            nRow = []\n",
    "            for j in range(i+1):\n",
    "                if j == 0 or j == i:\n",
    "                    nRow.append(1)\n",
    "                else:\n",
    "                    nRow.append(result[i-1][j-1]+result[i-1][j])\n",
    "            result.append(nRow)\n",
    "        return result[rowIndex]       "
   ]
  }
 ],
 "metadata": {
  "kernelspec": {
   "display_name": "Python 3 (ipykernel)",
   "language": "python",
   "name": "python3"
  },
  "language_info": {
   "codemirror_mode": {
    "name": "ipython",
    "version": 3
   },
   "file_extension": ".py",
   "mimetype": "text/x-python",
   "name": "python",
   "nbconvert_exporter": "python",
   "pygments_lexer": "ipython3",
   "version": "3.11.7"
  }
 },
 "nbformat": 4,
 "nbformat_minor": 5
}
