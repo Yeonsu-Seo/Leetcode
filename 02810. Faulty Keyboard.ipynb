{
 "cells": [
  {
   "cell_type": "code",
   "execution_count": null,
   "id": "0d344859-2313-4b07-bdfa-45cb0c29fd72",
   "metadata": {},
   "outputs": [],
   "source": [
    "class Solution:\n",
    "    def finalString(self, s: str) -> str:\n",
    "        result = \"\"\n",
    "        for i in range(len(s)):\n",
    "            if s[i] != \"i\":\n",
    "                result += s[i]\n",
    "            else:\n",
    "                result = result[::-1]\n",
    "        return result"
   ]
  }
 ],
 "metadata": {
  "kernelspec": {
   "display_name": "Python 3 (ipykernel)",
   "language": "python",
   "name": "python3"
  },
  "language_info": {
   "codemirror_mode": {
    "name": "ipython",
    "version": 3
   },
   "file_extension": ".py",
   "mimetype": "text/x-python",
   "name": "python",
   "nbconvert_exporter": "python",
   "pygments_lexer": "ipython3",
   "version": "3.11.7"
  }
 },
 "nbformat": 4,
 "nbformat_minor": 5
}
