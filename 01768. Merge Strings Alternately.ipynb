{
 "cells": [
  {
   "cell_type": "code",
   "execution_count": null,
   "id": "e920ff29-2ff5-4151-8b23-9f00e9d83087",
   "metadata": {},
   "outputs": [],
   "source": [
    "class Solution:\n",
    "    def mergeAlternately(self, word1: str, word2: str) -> str:\n",
    "        word = \"\"\n",
    "        for i in range(min(len(word1), len(word2))):\n",
    "            word += word1[i]+word2[i]\n",
    "        \n",
    "        if len(word1)==len(word2):\n",
    "            return word\n",
    "        elif len(word1) > len(word2):\n",
    "            return word+word1[i+1:]\n",
    "        else:\n",
    "            return word+word2[i+1:]"
   ]
  }
 ],
 "metadata": {
  "kernelspec": {
   "display_name": "Python 3 (ipykernel)",
   "language": "python",
   "name": "python3"
  },
  "language_info": {
   "codemirror_mode": {
    "name": "ipython",
    "version": 3
   },
   "file_extension": ".py",
   "mimetype": "text/x-python",
   "name": "python",
   "nbconvert_exporter": "python",
   "pygments_lexer": "ipython3",
   "version": "3.11.7"
  }
 },
 "nbformat": 4,
 "nbformat_minor": 5
}
