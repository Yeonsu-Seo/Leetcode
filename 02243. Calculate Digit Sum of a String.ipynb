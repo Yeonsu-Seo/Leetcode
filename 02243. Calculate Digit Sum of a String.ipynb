{
 "cells": [
  {
   "cell_type": "code",
   "execution_count": null,
   "id": "cb1f8b95-cc37-4280-9a3e-faa6987009cd",
   "metadata": {},
   "outputs": [],
   "source": [
    "class Solution:\n",
    "    def digitSum(self, s: str, k: int) -> str:\n",
    "        while len(s) > k:\n",
    "            temp = \"\"\n",
    "            for i in range(len(s)//k):\n",
    "                temp2 = 0\n",
    "                group = s[i*k:(i+1)*k]\n",
    "                for j in group:\n",
    "                    temp2 += int(j)\n",
    "                temp += str(temp2)\n",
    "            if len(s)%k!=0:\n",
    "                temp2 = 0\n",
    "                group = s[(i+1)*k:]\n",
    "                for j in group:\n",
    "                    temp2 += int(j)\n",
    "                temp += str(temp2)\n",
    "            s = temp\n",
    "        return s\n"
   ]
  }
 ],
 "metadata": {
  "kernelspec": {
   "display_name": "Python 3 (ipykernel)",
   "language": "python",
   "name": "python3"
  },
  "language_info": {
   "codemirror_mode": {
    "name": "ipython",
    "version": 3
   },
   "file_extension": ".py",
   "mimetype": "text/x-python",
   "name": "python",
   "nbconvert_exporter": "python",
   "pygments_lexer": "ipython3",
   "version": "3.11.7"
  }
 },
 "nbformat": 4,
 "nbformat_minor": 5
}
