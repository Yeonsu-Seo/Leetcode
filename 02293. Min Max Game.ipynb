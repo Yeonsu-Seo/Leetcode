{
 "cells": [
  {
   "cell_type": "code",
   "execution_count": null,
   "id": "a71ac2e1-0819-43a9-a0c8-f0d0f5e90490",
   "metadata": {},
   "outputs": [],
   "source": [
    "class Solution:\n",
    "    def minMaxGame(self, nums: List[int]) -> int:\n",
    "        while len(nums) > 1:\n",
    "            temp = []\n",
    "            for i in range(0, len(nums)//2):\n",
    "                if i%2==0:\n",
    "                    temp.append(min(nums[2*i:2*(i+1)]))\n",
    "                else:\n",
    "                    temp.append(max(nums[2*i:2*(i+1)]))\n",
    "            nums = temp[:]\n",
    "            \n",
    "        return nums[0]"
   ]
  }
 ],
 "metadata": {
  "kernelspec": {
   "display_name": "Python 3 (ipykernel)",
   "language": "python",
   "name": "python3"
  },
  "language_info": {
   "codemirror_mode": {
    "name": "ipython",
    "version": 3
   },
   "file_extension": ".py",
   "mimetype": "text/x-python",
   "name": "python",
   "nbconvert_exporter": "python",
   "pygments_lexer": "ipython3",
   "version": "3.11.7"
  }
 },
 "nbformat": 4,
 "nbformat_minor": 5
}
