{
 "cells": [
  {
   "cell_type": "code",
   "execution_count": null,
   "id": "f1a7e87b-4de3-4b26-bcf3-41ab6e57fa4b",
   "metadata": {},
   "outputs": [],
   "source": [
    "class Solution:\n",
    "    def findPermutationDifference(self, s: str, t: str) -> int:\n",
    "        result = 0\n",
    "        for i in range(len(s)):\n",
    "            index1 = i\n",
    "            index2 = t.index(s[i])\n",
    "            result += abs(index1-index2)\n",
    "        return result"
   ]
  }
 ],
 "metadata": {
  "kernelspec": {
   "display_name": "Python 3 (ipykernel)",
   "language": "python",
   "name": "python3"
  },
  "language_info": {
   "codemirror_mode": {
    "name": "ipython",
    "version": 3
   },
   "file_extension": ".py",
   "mimetype": "text/x-python",
   "name": "python",
   "nbconvert_exporter": "python",
   "pygments_lexer": "ipython3",
   "version": "3.11.7"
  }
 },
 "nbformat": 4,
 "nbformat_minor": 5
}
