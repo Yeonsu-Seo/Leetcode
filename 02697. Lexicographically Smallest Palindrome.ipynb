{
 "cells": [
  {
   "cell_type": "code",
   "execution_count": null,
   "id": "09690b4d-9c85-4395-98e4-7a8b5a17993b",
   "metadata": {},
   "outputs": [],
   "source": [
    "class Solution:\n",
    "    def makeSmallestPalindrome(self, s: str) -> str:\n",
    "        resultLeft = \"\"\n",
    "        for i in range(len(s)//2):\n",
    "            resultLeft += min(s[i], s[-i-1])\n",
    "\n",
    "        if len(s)%2==0:\n",
    "            return resultLeft+resultLeft[::-1]\n",
    "        else:\n",
    "            return resultLeft+s[len(s)//2]+resultLeft[::-1]"
   ]
  }
 ],
 "metadata": {
  "kernelspec": {
   "display_name": "Python 3 (ipykernel)",
   "language": "python",
   "name": "python3"
  },
  "language_info": {
   "codemirror_mode": {
    "name": "ipython",
    "version": 3
   },
   "file_extension": ".py",
   "mimetype": "text/x-python",
   "name": "python",
   "nbconvert_exporter": "python",
   "pygments_lexer": "ipython3",
   "version": "3.11.7"
  }
 },
 "nbformat": 4,
 "nbformat_minor": 5
}
