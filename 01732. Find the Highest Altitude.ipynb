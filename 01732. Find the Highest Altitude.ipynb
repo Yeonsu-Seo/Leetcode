{
 "cells": [
  {
   "cell_type": "code",
   "execution_count": null,
   "id": "e97a9c5e-4e5f-4c8c-a140-b0853c7f504c",
   "metadata": {},
   "outputs": [],
   "source": [
    "class Solution:\n",
    "    def largestAltitude(self, gain: List[int]) -> int:\n",
    "        result = [0]\n",
    "        for i in range(len(gain)):\n",
    "            result.append(result[-1]+gain[i])\n",
    "        return max(result)"
   ]
  }
 ],
 "metadata": {
  "kernelspec": {
   "display_name": "Python 3 (ipykernel)",
   "language": "python",
   "name": "python3"
  },
  "language_info": {
   "codemirror_mode": {
    "name": "ipython",
    "version": 3
   },
   "file_extension": ".py",
   "mimetype": "text/x-python",
   "name": "python",
   "nbconvert_exporter": "python",
   "pygments_lexer": "ipython3",
   "version": "3.11.7"
  }
 },
 "nbformat": 4,
 "nbformat_minor": 5
}
