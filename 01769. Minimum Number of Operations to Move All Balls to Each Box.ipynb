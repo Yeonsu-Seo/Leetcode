{
 "cells": [
  {
   "cell_type": "code",
   "execution_count": null,
   "id": "2febe44d-f718-4699-8ad4-416a974314d7",
   "metadata": {},
   "outputs": [],
   "source": [
    "class Solution:\n",
    "    def minOperations(self, boxes: str) -> List[int]:\n",
    "        result = []\n",
    "        for i in range(len(boxes)):\n",
    "            temp = 0\n",
    "            for j in range(len(boxes)):\n",
    "                if boxes[j] == \"1\":\n",
    "                    temp += abs(j-i)\n",
    "            result.append(temp)\n",
    "        return result"
   ]
  }
 ],
 "metadata": {
  "kernelspec": {
   "display_name": "Python 3 (ipykernel)",
   "language": "python",
   "name": "python3"
  },
  "language_info": {
   "codemirror_mode": {
    "name": "ipython",
    "version": 3
   },
   "file_extension": ".py",
   "mimetype": "text/x-python",
   "name": "python",
   "nbconvert_exporter": "python",
   "pygments_lexer": "ipython3",
   "version": "3.11.7"
  }
 },
 "nbformat": 4,
 "nbformat_minor": 5
}
