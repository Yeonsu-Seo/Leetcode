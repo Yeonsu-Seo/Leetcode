{
 "cells": [
  {
   "cell_type": "code",
   "execution_count": null,
   "id": "5f74bc0d-4513-46e7-ae17-3619134fcad4",
   "metadata": {},
   "outputs": [],
   "source": [
    "class Solution:\n",
    "    def isValid(self, s: str) -> bool:\n",
    "        sLen = len(s)\n",
    "        while True:\n",
    "            if sLen == 0:\n",
    "                break\n",
    "            s = s.replace(\"()\", \"\")\n",
    "            s = s.replace(\"[]\", \"\")\n",
    "            s = s.replace(r\"{}\", \"\")\n",
    "            if sLen == len(s):\n",
    "                return False\n",
    "            sLen = len(s)\n",
    "        return True "
   ]
  }
 ],
 "metadata": {
  "kernelspec": {
   "display_name": "Python 3 (ipykernel)",
   "language": "python",
   "name": "python3"
  },
  "language_info": {
   "codemirror_mode": {
    "name": "ipython",
    "version": 3
   },
   "file_extension": ".py",
   "mimetype": "text/x-python",
   "name": "python",
   "nbconvert_exporter": "python",
   "pygments_lexer": "ipython3",
   "version": "3.11.7"
  }
 },
 "nbformat": 4,
 "nbformat_minor": 5
}
