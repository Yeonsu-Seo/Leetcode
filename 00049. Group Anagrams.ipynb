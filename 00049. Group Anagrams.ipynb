{
 "cells": [
  {
   "cell_type": "code",
   "execution_count": null,
   "id": "3efbb05f-f73f-454a-b809-576fc2a07fe9",
   "metadata": {},
   "outputs": [],
   "source": [
    "class Solution:\n",
    "    def groupAnagrams(self, strs: List[str]) -> List[List[str]]:\n",
    "        answer = []\n",
    "        check = []\n",
    "\n",
    "        for i in strs:\n",
    "            j = list(i)\n",
    "            j.sort()\n",
    "            j = \"\".join(j)\n",
    "            for k in range(len(answer)):\n",
    "                if j in check[k]:\n",
    "                    answer[k].append(i)\n",
    "                    break\n",
    "            else:\n",
    "                check.append([j])\n",
    "                answer.append([i])\n",
    "\n",
    "        return answer"
   ]
  }
 ],
 "metadata": {
  "kernelspec": {
   "display_name": "Python 3 (ipykernel)",
   "language": "python",
   "name": "python3"
  },
  "language_info": {
   "codemirror_mode": {
    "name": "ipython",
    "version": 3
   },
   "file_extension": ".py",
   "mimetype": "text/x-python",
   "name": "python",
   "nbconvert_exporter": "python",
   "pygments_lexer": "ipython3",
   "version": "3.11.7"
  }
 },
 "nbformat": 4,
 "nbformat_minor": 5
}
