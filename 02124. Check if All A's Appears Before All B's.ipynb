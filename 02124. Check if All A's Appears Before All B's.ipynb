{
 "cells": [
  {
   "cell_type": "code",
   "execution_count": null,
   "id": "f5966d34-bcf5-4c3a-bae8-c4db2f5a27b0",
   "metadata": {},
   "outputs": [],
   "source": [
    "class Solution:\n",
    "    def checkString(self, s: str) -> bool:\n",
    "        if \"a\" not in s:\n",
    "            return True\n",
    "        if \"b\" not in s:\n",
    "            return True\n",
    "        \n",
    "        index = s.index(\"b\")\n",
    "        return \"a\" not in s[index:]"
   ]
  }
 ],
 "metadata": {
  "kernelspec": {
   "display_name": "Python 3 (ipykernel)",
   "language": "python",
   "name": "python3"
  },
  "language_info": {
   "codemirror_mode": {
    "name": "ipython",
    "version": 3
   },
   "file_extension": ".py",
   "mimetype": "text/x-python",
   "name": "python",
   "nbconvert_exporter": "python",
   "pygments_lexer": "ipython3",
   "version": "3.11.7"
  }
 },
 "nbformat": 4,
 "nbformat_minor": 5
}
