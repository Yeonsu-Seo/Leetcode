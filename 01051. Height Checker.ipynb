{
 "cells": [
  {
   "cell_type": "code",
   "execution_count": null,
   "id": "0532f8f4-a179-4a89-b177-5b71b297fb63",
   "metadata": {},
   "outputs": [],
   "source": [
    "class Solution:\n",
    "    def heightChecker(self, heights: List[int]) -> int:\n",
    "        import copy\n",
    "        realheights = heights.copy()\n",
    "        realheights.sort()\n",
    "        count = 0\n",
    "        for i in range(len(heights)):\n",
    "            if heights[i] != realheights[i]:\n",
    "                count +=1\n",
    "        return count"
   ]
  }
 ],
 "metadata": {
  "kernelspec": {
   "display_name": "Python 3 (ipykernel)",
   "language": "python",
   "name": "python3"
  },
  "language_info": {
   "codemirror_mode": {
    "name": "ipython",
    "version": 3
   },
   "file_extension": ".py",
   "mimetype": "text/x-python",
   "name": "python",
   "nbconvert_exporter": "python",
   "pygments_lexer": "ipython3",
   "version": "3.11.7"
  }
 },
 "nbformat": 4,
 "nbformat_minor": 5
}
