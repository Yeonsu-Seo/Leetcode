{
 "cells": [
  {
   "cell_type": "code",
   "execution_count": null,
   "id": "2aa73fc9-5251-43e1-bd8b-622f5ad4f128",
   "metadata": {},
   "outputs": [],
   "source": [
    "class Solution:\n",
    "    def partitionString(self, s: str) -> int:\n",
    "        result = 1\n",
    "        \n",
    "        temp = s[0]\n",
    "        for i in range(1, len(s)):\n",
    "            if s[i] in temp:\n",
    "                result += 1\n",
    "                temp = s[i]\n",
    "            else:\n",
    "                temp += s[i]\n",
    "\n",
    "        return result"
   ]
  }
 ],
 "metadata": {
  "kernelspec": {
   "display_name": "Python 3 (ipykernel)",
   "language": "python",
   "name": "python3"
  },
  "language_info": {
   "codemirror_mode": {
    "name": "ipython",
    "version": 3
   },
   "file_extension": ".py",
   "mimetype": "text/x-python",
   "name": "python",
   "nbconvert_exporter": "python",
   "pygments_lexer": "ipython3",
   "version": "3.11.7"
  }
 },
 "nbformat": 4,
 "nbformat_minor": 5
}
