{
 "cells": [
  {
   "cell_type": "code",
   "execution_count": null,
   "id": "24b73c87-9c2b-4d03-a429-21d599946837",
   "metadata": {},
   "outputs": [],
   "source": [
    "class Solution:\n",
    "    def stringMatching(self, words: List[str]) -> List[str]:\n",
    "        answer = []\n",
    "        for i in words:\n",
    "            for j in words:\n",
    "                if i == j:\n",
    "                    continue\n",
    "                if i in j:\n",
    "                    answer.append(i)\n",
    "                    break\n",
    "        return answer"
   ]
  }
 ],
 "metadata": {
  "kernelspec": {
   "display_name": "Python 3 (ipykernel)",
   "language": "python",
   "name": "python3"
  },
  "language_info": {
   "codemirror_mode": {
    "name": "ipython",
    "version": 3
   },
   "file_extension": ".py",
   "mimetype": "text/x-python",
   "name": "python",
   "nbconvert_exporter": "python",
   "pygments_lexer": "ipython3",
   "version": "3.11.7"
  }
 },
 "nbformat": 4,
 "nbformat_minor": 5
}
