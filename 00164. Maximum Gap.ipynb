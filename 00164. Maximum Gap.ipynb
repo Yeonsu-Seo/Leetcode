{
 "cells": [
  {
   "cell_type": "code",
   "execution_count": null,
   "id": "99839f61-3d62-45ed-889c-f57a162f69e1",
   "metadata": {},
   "outputs": [],
   "source": [
    "class Solution:\n",
    "    def maximumGap(self, nums: List[int]) -> int:\n",
    "        if len(nums) <= 1:\n",
    "            return 0\n",
    "\n",
    "        nums.sort()\n",
    "        maxNum = 0\n",
    "        for i in range(len(nums)-1):\n",
    "            maxNum = max(maxNum, nums[i+1]-nums[i])\n",
    "        return maxNum"
   ]
  }
 ],
 "metadata": {
  "kernelspec": {
   "display_name": "Python 3 (ipykernel)",
   "language": "python",
   "name": "python3"
  },
  "language_info": {
   "codemirror_mode": {
    "name": "ipython",
    "version": 3
   },
   "file_extension": ".py",
   "mimetype": "text/x-python",
   "name": "python",
   "nbconvert_exporter": "python",
   "pygments_lexer": "ipython3",
   "version": "3.11.7"
  }
 },
 "nbformat": 4,
 "nbformat_minor": 5
}
