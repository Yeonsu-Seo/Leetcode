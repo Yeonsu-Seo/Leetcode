{
 "cells": [
  {
   "cell_type": "code",
   "execution_count": null,
   "id": "ba18df3f-6ec6-4112-a8b7-3220f11351b8",
   "metadata": {},
   "outputs": [],
   "source": [
    "class Solution:\n",
    "    def sumOfEncryptedInt(self, nums: List[int]) -> int:\n",
    "        for i in range(len(nums)):\n",
    "            temp = []\n",
    "            for j in str(nums[i]):\n",
    "                temp.append(int(j))\n",
    "            nums[i] = int(str(max(temp))*len(str(nums[i])))\n",
    "        return sum(nums)"
   ]
  }
 ],
 "metadata": {
  "kernelspec": {
   "display_name": "Python 3 (ipykernel)",
   "language": "python",
   "name": "python3"
  },
  "language_info": {
   "codemirror_mode": {
    "name": "ipython",
    "version": 3
   },
   "file_extension": ".py",
   "mimetype": "text/x-python",
   "name": "python",
   "nbconvert_exporter": "python",
   "pygments_lexer": "ipython3",
   "version": "3.11.7"
  }
 },
 "nbformat": 4,
 "nbformat_minor": 5
}
