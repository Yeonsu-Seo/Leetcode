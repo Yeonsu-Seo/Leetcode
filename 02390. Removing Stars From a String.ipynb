{
 "cells": [
  {
   "cell_type": "code",
   "execution_count": null,
   "id": "c023fbf6-52d7-4137-b029-c87e870daa37",
   "metadata": {},
   "outputs": [],
   "source": [
    "class Solution:\n",
    "    def removeStars(self, s: str) -> str:\n",
    "        if len(s)/2 == s.count(\"*\"):\n",
    "            return \"\"\n",
    "\n",
    "        while \"*\" in s:\n",
    "            index = s.index(\"*\")\n",
    "            if index == 1:\n",
    "                s = s[2:]\n",
    "            elif index == len(s)-1:\n",
    "                s = s[:len(s)-2]\n",
    "            else:\n",
    "                s = s[:index-1] + s[index+1:]\n",
    "        return s"
   ]
  }
 ],
 "metadata": {
  "kernelspec": {
   "display_name": "Python 3 (ipykernel)",
   "language": "python",
   "name": "python3"
  },
  "language_info": {
   "codemirror_mode": {
    "name": "ipython",
    "version": 3
   },
   "file_extension": ".py",
   "mimetype": "text/x-python",
   "name": "python",
   "nbconvert_exporter": "python",
   "pygments_lexer": "ipython3",
   "version": "3.11.7"
  }
 },
 "nbformat": 4,
 "nbformat_minor": 5
}
