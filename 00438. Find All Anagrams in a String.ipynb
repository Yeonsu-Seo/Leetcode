{
 "cells": [
  {
   "cell_type": "code",
   "execution_count": null,
   "id": "ff982ce0-1086-4cc9-b1df-9419adb8a273",
   "metadata": {},
   "outputs": [],
   "source": [
    "class Solution:\n",
    "    def findAnagrams(self, s: str, p: str) -> List[int]:\n",
    "        answer = []\n",
    "        pList = list(p)\n",
    "        pList.sort()\n",
    "\n",
    "        for i in range(len(s)-len(p)+1):\n",
    "            sSlice = list(s[i:i+len(p)])\n",
    "            sSlice.sort()\n",
    "            if pList == sSlice:\n",
    "                answer.append(i)\n",
    "        return answer"
   ]
  }
 ],
 "metadata": {
  "kernelspec": {
   "display_name": "Python 3 (ipykernel)",
   "language": "python",
   "name": "python3"
  },
  "language_info": {
   "codemirror_mode": {
    "name": "ipython",
    "version": 3
   },
   "file_extension": ".py",
   "mimetype": "text/x-python",
   "name": "python",
   "nbconvert_exporter": "python",
   "pygments_lexer": "ipython3",
   "version": "3.11.7"
  }
 },
 "nbformat": 4,
 "nbformat_minor": 5
}
