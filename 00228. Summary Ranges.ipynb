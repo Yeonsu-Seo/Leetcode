{
 "cells": [
  {
   "cell_type": "code",
   "execution_count": 29,
   "id": "e9ec5bed-a824-4378-ad85-4e7c844b0074",
   "metadata": {},
   "outputs": [
    {
     "ename": "NameError",
     "evalue": "name 'List' is not defined",
     "output_type": "error",
     "traceback": [
      "\u001b[1;31m---------------------------------------------------------------------------\u001b[0m",
      "\u001b[1;31mNameError\u001b[0m                                 Traceback (most recent call last)",
      "Cell \u001b[1;32mIn[29], line 1\u001b[0m\n\u001b[1;32m----> 1\u001b[0m \u001b[38;5;28;01mclass\u001b[39;00m \u001b[38;5;21;01mSolution\u001b[39;00m:\n\u001b[0;32m      2\u001b[0m     \u001b[38;5;28;01mdef\u001b[39;00m \u001b[38;5;21msummaryRanges\u001b[39m(\u001b[38;5;28mself\u001b[39m, nums: List[\u001b[38;5;28mint\u001b[39m]) \u001b[38;5;241m-\u001b[39m\u001b[38;5;241m>\u001b[39m List[\u001b[38;5;28mstr\u001b[39m]:\n\u001b[0;32m      3\u001b[0m         answer \u001b[38;5;241m=\u001b[39m []\n",
      "Cell \u001b[1;32mIn[29], line 2\u001b[0m, in \u001b[0;36mSolution\u001b[1;34m()\u001b[0m\n\u001b[0;32m      1\u001b[0m \u001b[38;5;28;01mclass\u001b[39;00m \u001b[38;5;21;01mSolution\u001b[39;00m:\n\u001b[1;32m----> 2\u001b[0m     \u001b[38;5;28;01mdef\u001b[39;00m \u001b[38;5;21msummaryRanges\u001b[39m(\u001b[38;5;28mself\u001b[39m, nums: List[\u001b[38;5;28mint\u001b[39m]) \u001b[38;5;241m-\u001b[39m\u001b[38;5;241m>\u001b[39m List[\u001b[38;5;28mstr\u001b[39m]:\n\u001b[0;32m      3\u001b[0m         answer \u001b[38;5;241m=\u001b[39m []\n\u001b[0;32m      4\u001b[0m         \u001b[38;5;28;01mif\u001b[39;00m \u001b[38;5;28mlen\u001b[39m(nums)\u001b[38;5;241m==\u001b[39m\u001b[38;5;241m1\u001b[39m:\n",
      "\u001b[1;31mNameError\u001b[0m: name 'List' is not defined"
     ]
    }
   ],
   "source": [
    "class Solution:\n",
    "    def summaryRanges(self, nums: List[int]) -> List[str]:\n",
    "        answer = []\n",
    "        if len(nums)==1:\n",
    "            return [str(nums[0])]\n",
    "        elif nums == []:\n",
    "            return nums\n",
    "\n",
    "        i = 0\n",
    "        rangeList = [nums[0], nums[0]]\n",
    "        while i < len(nums)-1:\n",
    "            if (nums[i]+1) != nums[i+1]:\n",
    "                if rangeList[0] == rangeList[1]:\n",
    "                    answer.append(str(rangeList[0]))\n",
    "                else:\n",
    "                    answer.append(str(rangeList[0])+\"->\"+str(rangeList[1]))\n",
    "                rangeList = [nums[i+1], nums[i+1]]\n",
    "            else:\n",
    "                rangeList[1] = nums[i+1]\n",
    "            i += 1\n",
    "\n",
    "        if rangeList[0] == rangeList[1]:\n",
    "            answer.append(str(rangeList[0]))\n",
    "        else:\n",
    "            answer.append(str(rangeList[0])+\"->\"+str(rangeList[1]))\n",
    "        \n",
    "        return answer"
   ]
  }
 ],
 "metadata": {
  "kernelspec": {
   "display_name": "Python 3 (ipykernel)",
   "language": "python",
   "name": "python3"
  },
  "language_info": {
   "codemirror_mode": {
    "name": "ipython",
    "version": 3
   },
   "file_extension": ".py",
   "mimetype": "text/x-python",
   "name": "python",
   "nbconvert_exporter": "python",
   "pygments_lexer": "ipython3",
   "version": "3.11.7"
  }
 },
 "nbformat": 4,
 "nbformat_minor": 5
}
