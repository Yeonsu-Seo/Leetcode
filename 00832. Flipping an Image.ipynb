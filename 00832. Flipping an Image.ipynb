{
 "cells": [
  {
   "cell_type": "code",
   "execution_count": null,
   "id": "b57fac30-27a5-4893-be21-513f38a80378",
   "metadata": {},
   "outputs": [],
   "source": [
    "class Solution:\n",
    "    def flipAndInvertImage(self, image: List[List[int]]) -> List[List[int]]:\n",
    "        result = []\n",
    "        for i in range(len(image)):\n",
    "            temp = []\n",
    "            for j in range(len(image[0])-1, -1, -1):\n",
    "                if image[i][j] == 0:\n",
    "                    temp.append(1)\n",
    "                else:\n",
    "                    temp.append(0)\n",
    "            result.append(temp)\n",
    "        return result"
   ]
  }
 ],
 "metadata": {
  "kernelspec": {
   "display_name": "Python 3 (ipykernel)",
   "language": "python",
   "name": "python3"
  },
  "language_info": {
   "codemirror_mode": {
    "name": "ipython",
    "version": 3
   },
   "file_extension": ".py",
   "mimetype": "text/x-python",
   "name": "python",
   "nbconvert_exporter": "python",
   "pygments_lexer": "ipython3",
   "version": "3.11.7"
  }
 },
 "nbformat": 4,
 "nbformat_minor": 5
}
