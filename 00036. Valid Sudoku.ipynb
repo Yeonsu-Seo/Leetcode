{
 "cells": [
  {
   "cell_type": "code",
   "execution_count": null,
   "id": "0559cdc4-8c33-47ef-a392-2d258d2502a9",
   "metadata": {},
   "outputs": [],
   "source": [
    "class Solution:\n",
    "    def isValidSudoku(self, board: List[List[str]]) -> bool:\n",
    "        # 가로줄 check\n",
    "        for i in range(9):\n",
    "            numList = []\n",
    "            for j in range(9):\n",
    "                if board[i][j] in numList:\n",
    "                    return False\n",
    "                if board[i][j] != \".\":\n",
    "                    numList.append(board[i][j])\n",
    "        \n",
    "        # 세로줄 check\n",
    "        for i in range(9):\n",
    "            numList = []\n",
    "            for j in range(9):\n",
    "                if board[j][i] in numList:\n",
    "                    return False\n",
    "                if board[j][i] != \".\":\n",
    "                    numList.append(board[j][i])\n",
    "        \n",
    "        # 3x3 check\n",
    "        k = 0\n",
    "        r = 0\n",
    "        for i in range(9):\n",
    "            if k == 3:\n",
    "                k = 0\n",
    "                r += 1\n",
    "\n",
    "            numList = []\n",
    "            for i in range(k*3, k*3+3):\n",
    "                for j in range(r*3, r*3+3):\n",
    "                    if board[i][j] in numList:\n",
    "                        return False\n",
    "                    if board[i][j] != \".\":\n",
    "                        numList.append(board[i][j])\n",
    "            k += 1\n",
    "\n",
    "        return True"
   ]
  }
 ],
 "metadata": {
  "kernelspec": {
   "display_name": "Python 3 (ipykernel)",
   "language": "python",
   "name": "python3"
  },
  "language_info": {
   "codemirror_mode": {
    "name": "ipython",
    "version": 3
   },
   "file_extension": ".py",
   "mimetype": "text/x-python",
   "name": "python",
   "nbconvert_exporter": "python",
   "pygments_lexer": "ipython3",
   "version": "3.11.7"
  }
 },
 "nbformat": 4,
 "nbformat_minor": 5
}
