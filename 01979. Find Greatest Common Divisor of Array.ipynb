{
 "cells": [
  {
   "cell_type": "code",
   "execution_count": null,
   "id": "d5810b3e-aa4b-4c3f-97a1-d52abdd55ea0",
   "metadata": {},
   "outputs": [],
   "source": [
    "class Solution:\n",
    "    def findGCD(self, nums: List[int]) -> int:\n",
    "        import math\n",
    "        maxNum = max(nums)\n",
    "        minNum = min(nums)\n",
    "        return math.gcd(maxNum, minNum)"
   ]
  }
 ],
 "metadata": {
  "kernelspec": {
   "display_name": "Python 3 (ipykernel)",
   "language": "python",
   "name": "python3"
  },
  "language_info": {
   "codemirror_mode": {
    "name": "ipython",
    "version": 3
   },
   "file_extension": ".py",
   "mimetype": "text/x-python",
   "name": "python",
   "nbconvert_exporter": "python",
   "pygments_lexer": "ipython3",
   "version": "3.11.7"
  }
 },
 "nbformat": 4,
 "nbformat_minor": 5
}
