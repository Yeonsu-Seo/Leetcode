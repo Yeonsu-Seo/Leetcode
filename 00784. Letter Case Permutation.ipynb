{
 "cells": [
  {
   "cell_type": "code",
   "execution_count": null,
   "id": "0f06ad41-d88a-4aae-867b-a9c9e465773d",
   "metadata": {},
   "outputs": [],
   "source": [
    "class Solution:\n",
    "    def letterCasePermutation(self, s: str) -> List[str]:\n",
    "        result = [\"\"]\n",
    "        for i in range(len(s)):          \n",
    "            if s[i].isalpha():\n",
    "                temp = []\n",
    "                letter1 = s[i].lower()\n",
    "                letter2 = s[i].upper()\n",
    "                for j in range(len(result)):\n",
    "                    temp.append(result[j]+letter1)\n",
    "                    temp.append(result[j]+letter2)\n",
    "                result = temp[:]\n",
    "            else:\n",
    "                for j in range(len(result)):\n",
    "                    result[j] += s[i]\n",
    "        return result"
   ]
  }
 ],
 "metadata": {
  "kernelspec": {
   "display_name": "Python 3 (ipykernel)",
   "language": "python",
   "name": "python3"
  },
  "language_info": {
   "codemirror_mode": {
    "name": "ipython",
    "version": 3
   },
   "file_extension": ".py",
   "mimetype": "text/x-python",
   "name": "python",
   "nbconvert_exporter": "python",
   "pygments_lexer": "ipython3",
   "version": "3.11.7"
  }
 },
 "nbformat": 4,
 "nbformat_minor": 5
}
