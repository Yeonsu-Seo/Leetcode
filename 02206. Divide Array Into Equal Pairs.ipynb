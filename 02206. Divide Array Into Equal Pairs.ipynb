{
 "cells": [
  {
   "cell_type": "code",
   "execution_count": null,
   "id": "6e6048e6-347d-4f10-b85c-bf86db2d42ba",
   "metadata": {},
   "outputs": [],
   "source": [
    "class Solution:\n",
    "    def divideArray(self, nums: List[int]) -> bool:\n",
    "        num = list(set(list(nums)))\n",
    "        for i in num:\n",
    "            count = nums.count(i)\n",
    "            if count%2!=0:\n",
    "                return False\n",
    "        return True"
   ]
  }
 ],
 "metadata": {
  "kernelspec": {
   "display_name": "Python 3 (ipykernel)",
   "language": "python",
   "name": "python3"
  },
  "language_info": {
   "codemirror_mode": {
    "name": "ipython",
    "version": 3
   },
   "file_extension": ".py",
   "mimetype": "text/x-python",
   "name": "python",
   "nbconvert_exporter": "python",
   "pygments_lexer": "ipython3",
   "version": "3.11.7"
  }
 },
 "nbformat": 4,
 "nbformat_minor": 5
}
