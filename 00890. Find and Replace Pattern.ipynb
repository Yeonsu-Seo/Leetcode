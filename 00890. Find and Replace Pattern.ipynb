{
 "cells": [
  {
   "cell_type": "code",
   "execution_count": null,
   "id": "3f2978e1-0a58-4e24-8c03-85fd0060ba60",
   "metadata": {},
   "outputs": [],
   "source": [
    "class Solution:\n",
    "    def findAndReplacePattern(self, words: List[str], pattern: str) -> List[str]:\n",
    "        def changePattern(s):\n",
    "            check = \"\"\n",
    "            j = 96\n",
    "            changeDict = {}\n",
    "            for i in range(len(s)):\n",
    "                if s[i] in changeDict.keys():\n",
    "                    check += changeDict[s[i]]\n",
    "                else:\n",
    "                    j += 1\n",
    "                    changeDict[s[i]] = chr(j)\n",
    "                    check += chr(j)\n",
    "            return check\n",
    "\n",
    "        pattern = changePattern(pattern)\n",
    "\n",
    "        result = []\n",
    "        for i in range(len(words)):\n",
    "            word = changePattern(words[i])\n",
    "            if word == pattern:\n",
    "                result.append(words[i])\n",
    "        return result"
   ]
  }
 ],
 "metadata": {
  "kernelspec": {
   "display_name": "Python 3 (ipykernel)",
   "language": "python",
   "name": "python3"
  },
  "language_info": {
   "codemirror_mode": {
    "name": "ipython",
    "version": 3
   },
   "file_extension": ".py",
   "mimetype": "text/x-python",
   "name": "python",
   "nbconvert_exporter": "python",
   "pygments_lexer": "ipython3",
   "version": "3.11.7"
  }
 },
 "nbformat": 4,
 "nbformat_minor": 5
}
