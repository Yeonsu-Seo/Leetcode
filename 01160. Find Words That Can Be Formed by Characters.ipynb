{
 "cells": [
  {
   "cell_type": "code",
   "execution_count": null,
   "id": "e75e9e94-6bc1-43d7-a32e-0712178e9358",
   "metadata": {},
   "outputs": [],
   "source": [
    "class Solution:\n",
    "    def countCharacters(self, words: List[str], chars: str) -> int:\n",
    "        result = 0\n",
    "        for i in range(len(words)):\n",
    "            word = words[i]\n",
    "            for j in set(list(word)):\n",
    "                if word.count(j) > chars.count(j):\n",
    "                    break\n",
    "            else:\n",
    "                result += len(word)\n",
    "        return result"
   ]
  }
 ],
 "metadata": {
  "kernelspec": {
   "display_name": "Python 3 (ipykernel)",
   "language": "python",
   "name": "python3"
  },
  "language_info": {
   "codemirror_mode": {
    "name": "ipython",
    "version": 3
   },
   "file_extension": ".py",
   "mimetype": "text/x-python",
   "name": "python",
   "nbconvert_exporter": "python",
   "pygments_lexer": "ipython3",
   "version": "3.11.7"
  }
 },
 "nbformat": 4,
 "nbformat_minor": 5
}
