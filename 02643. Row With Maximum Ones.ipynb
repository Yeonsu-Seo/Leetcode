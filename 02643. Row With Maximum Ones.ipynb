{
 "cells": [
  {
   "cell_type": "code",
   "execution_count": null,
   "id": "3f2b3f5d-0611-4259-9da8-5b10e9906332",
   "metadata": {},
   "outputs": [],
   "source": [
    "class Solution:\n",
    "    def rowAndMaximumOnes(self, mat: List[List[int]]) -> List[int]:\n",
    "        count = []\n",
    "        for i in range(len(mat)):\n",
    "            count.append(mat[i].count(1))\n",
    "\n",
    "        maxi = max(count)\n",
    "\n",
    "        return [count.index(maxi) ,maxi]"
   ]
  }
 ],
 "metadata": {
  "kernelspec": {
   "display_name": "Python 3 (ipykernel)",
   "language": "python",
   "name": "python3"
  },
  "language_info": {
   "codemirror_mode": {
    "name": "ipython",
    "version": 3
   },
   "file_extension": ".py",
   "mimetype": "text/x-python",
   "name": "python",
   "nbconvert_exporter": "python",
   "pygments_lexer": "ipython3",
   "version": "3.11.7"
  }
 },
 "nbformat": 4,
 "nbformat_minor": 5
}
