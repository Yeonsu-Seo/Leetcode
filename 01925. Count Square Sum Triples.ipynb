{
 "cells": [
  {
   "cell_type": "code",
   "execution_count": null,
   "id": "e058f487-5bef-4eb4-8a96-6e90b18d5015",
   "metadata": {},
   "outputs": [],
   "source": [
    "class Solution:\n",
    "    def countTriples(self, n: int) -> int:\n",
    "        \n",
    "        count = 0\n",
    "        for i in range(3, n-1):\n",
    "            for j in range(i+1, n):\n",
    "                for k in range(j+1, n+1):\n",
    "                    if (i**2 + j**2 == k**2):\n",
    "                        count += 1\n",
    "\n",
    "        return count*2"
   ]
  }
 ],
 "metadata": {
  "kernelspec": {
   "display_name": "Python 3 (ipykernel)",
   "language": "python",
   "name": "python3"
  },
  "language_info": {
   "codemirror_mode": {
    "name": "ipython",
    "version": 3
   },
   "file_extension": ".py",
   "mimetype": "text/x-python",
   "name": "python",
   "nbconvert_exporter": "python",
   "pygments_lexer": "ipython3",
   "version": "3.11.7"
  }
 },
 "nbformat": 4,
 "nbformat_minor": 5
}
