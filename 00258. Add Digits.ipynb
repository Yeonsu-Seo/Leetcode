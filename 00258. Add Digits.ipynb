{
 "cells": [
  {
   "cell_type": "code",
   "execution_count": null,
   "id": "4f5af86e-0070-46cb-938c-5486bd317993",
   "metadata": {},
   "outputs": [],
   "source": [
    "class Solution:\n",
    "    def addDigits(self, num: int) -> int:\n",
    "        while len(str(num)) != 1:\n",
    "            newNum = 0\n",
    "            for i in str(num):\n",
    "                newNum += int(i)\n",
    "            num = newNum\n",
    "        return num"
   ]
  }
 ],
 "metadata": {
  "kernelspec": {
   "display_name": "Python 3 (ipykernel)",
   "language": "python",
   "name": "python3"
  },
  "language_info": {
   "codemirror_mode": {
    "name": "ipython",
    "version": 3
   },
   "file_extension": ".py",
   "mimetype": "text/x-python",
   "name": "python",
   "nbconvert_exporter": "python",
   "pygments_lexer": "ipython3",
   "version": "3.11.7"
  }
 },
 "nbformat": 4,
 "nbformat_minor": 5
}
