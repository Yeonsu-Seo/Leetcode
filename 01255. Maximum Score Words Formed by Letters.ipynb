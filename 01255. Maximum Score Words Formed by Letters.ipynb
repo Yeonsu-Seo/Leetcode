{
 "cells": [
  {
   "cell_type": "code",
   "execution_count": null,
   "id": "0e991509-e469-4169-873b-7f6352fbf54d",
   "metadata": {},
   "outputs": [],
   "source": [
    "class Solution:\n",
    "    def maxScoreWords(self, words: List[str], letters: List[str], score: List[int]) -> int:\n",
    "        # valid set of words 찾기\n",
    "        validSet = [\"\"]\n",
    "        for i in words:\n",
    "            for j in range(len(validSet)):\n",
    "                check = i+\".\"+validSet[j]\n",
    "                # check가 만들 수 있는 단어인지 확인\n",
    "                for k in set(list(check)):\n",
    "                    if k==\".\":\n",
    "                        continue\n",
    "                    if check.count(k) > letters.count(k):\n",
    "                        break\n",
    "                else:\n",
    "                    validSet.append(check)\n",
    "        validSet.remove(\"\")\n",
    "        if validSet == []:\n",
    "            return 0\n",
    "\n",
    "        result = 0\n",
    "        for i in range(len(validSet)):\n",
    "            word = list(validSet[i])\n",
    "            while \".\" in word:\n",
    "                word.remove(\".\")\n",
    "            count = 0\n",
    "            for j in set(word):\n",
    "                count += score[ord(j)-97]*word.count(j)\n",
    "            result = max(result, count)\n",
    "        return result"
   ]
  }
 ],
 "metadata": {
  "kernelspec": {
   "display_name": "Python 3 (ipykernel)",
   "language": "python",
   "name": "python3"
  },
  "language_info": {
   "codemirror_mode": {
    "name": "ipython",
    "version": 3
   },
   "file_extension": ".py",
   "mimetype": "text/x-python",
   "name": "python",
   "nbconvert_exporter": "python",
   "pygments_lexer": "ipython3",
   "version": "3.11.7"
  }
 },
 "nbformat": 4,
 "nbformat_minor": 5
}
