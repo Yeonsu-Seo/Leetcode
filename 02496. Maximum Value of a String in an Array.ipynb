{
 "cells": [
  {
   "cell_type": "code",
   "execution_count": null,
   "id": "f79715c3-fa7b-42f8-8a4c-13852cff42d8",
   "metadata": {},
   "outputs": [],
   "source": [
    "class Solution:\n",
    "    def maximumValue(self, strs: List[str]) -> int:\n",
    "        result = 0\n",
    "        for i in strs:\n",
    "            if i.isdigit():\n",
    "                result = max(result, int(i))\n",
    "            else:\n",
    "                result = max(result, len(i))\n",
    "        return result"
   ]
  }
 ],
 "metadata": {
  "kernelspec": {
   "display_name": "Python 3 (ipykernel)",
   "language": "python",
   "name": "python3"
  },
  "language_info": {
   "codemirror_mode": {
    "name": "ipython",
    "version": 3
   },
   "file_extension": ".py",
   "mimetype": "text/x-python",
   "name": "python",
   "nbconvert_exporter": "python",
   "pygments_lexer": "ipython3",
   "version": "3.11.7"
  }
 },
 "nbformat": 4,
 "nbformat_minor": 5
}
