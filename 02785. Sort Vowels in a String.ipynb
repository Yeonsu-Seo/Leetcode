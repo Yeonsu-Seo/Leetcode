{
 "cells": [
  {
   "cell_type": "code",
   "execution_count": null,
   "id": "8075a2a9-0662-478c-b57b-5529f6175e7f",
   "metadata": {},
   "outputs": [],
   "source": [
    "    def sortVowels(self, s: str) -> str:\n",
    "        # vowel만 따로 뽑기\n",
    "        vowel = \"AEIOUaeiou\"\n",
    "        vowelList = []\n",
    "        for i in s:\n",
    "            if i in vowel:\n",
    "                vowelList.append(i)\n",
    "        vowelList.sort()\n",
    "\n",
    "        result = \"\"\n",
    "        j = 0\n",
    "        for i in s:\n",
    "            if i not in vowel:\n",
    "                result += i\n",
    "            else:\n",
    "                result += vowelList[j]\n",
    "                j += 1\n",
    "        return result"
   ]
  }
 ],
 "metadata": {
  "kernelspec": {
   "display_name": "Python 3 (ipykernel)",
   "language": "python",
   "name": "python3"
  },
  "language_info": {
   "codemirror_mode": {
    "name": "ipython",
    "version": 3
   },
   "file_extension": ".py",
   "mimetype": "text/x-python",
   "name": "python",
   "nbconvert_exporter": "python",
   "pygments_lexer": "ipython3",
   "version": "3.11.7"
  }
 },
 "nbformat": 4,
 "nbformat_minor": 5
}
