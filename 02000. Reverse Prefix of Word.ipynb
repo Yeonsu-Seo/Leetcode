{
 "cells": [
  {
   "cell_type": "code",
   "execution_count": null,
   "id": "2e359922-e76c-4826-83bb-8c2f88a413d4",
   "metadata": {},
   "outputs": [],
   "source": [
    "class Solution:\n",
    "    def reversePrefix(self, word: str, ch: str) -> str:\n",
    "        if ch not in word:\n",
    "            return word\n",
    "        \n",
    "        temp = \"\"\n",
    "        i = 0\n",
    "        while word[i] != ch:\n",
    "            temp += word[i]\n",
    "            i += 1\n",
    "        temp += word[i]\n",
    "\n",
    "        return temp[::-1] + word[len(temp):]"
   ]
  }
 ],
 "metadata": {
  "kernelspec": {
   "display_name": "Python 3 (ipykernel)",
   "language": "python",
   "name": "python3"
  },
  "language_info": {
   "codemirror_mode": {
    "name": "ipython",
    "version": 3
   },
   "file_extension": ".py",
   "mimetype": "text/x-python",
   "name": "python",
   "nbconvert_exporter": "python",
   "pygments_lexer": "ipython3",
   "version": "3.11.7"
  }
 },
 "nbformat": 4,
 "nbformat_minor": 5
}
