{
 "cells": [
  {
   "cell_type": "code",
   "execution_count": null,
   "id": "47cd373f-2dd2-4f7a-8742-4be5da3af77c",
   "metadata": {},
   "outputs": [],
   "source": [
    "class Solution:\n",
    "    def twoSum(self, numbers: List[int], target: int) -> List[int]:\n",
    "        numList = []\n",
    "        for i in numbers:\n",
    "            if numList.count(i) < 2:\n",
    "                numList.append(i)\n",
    "\n",
    "        for i in range(len(numList)-1):\n",
    "            for j in range(i+1, len(numList)):\n",
    "                if numList[i] + numList[j] == target:\n",
    "                    if numList[i] == numList[j]:\n",
    "                        index1 = numbers.index(numList[i])+1\n",
    "                        index2 = numbers[index1:].index(numList[j])+1+index1\n",
    "                        answer = [index1, index2]\n",
    "                        return answer\n",
    "                    else:\n",
    "                        index1 = numbers.index(numList[i])+1\n",
    "                        index2 = numbers.index(numList[j])+1\n",
    "                        answer = [index1, index2]\n",
    "                        answer.sort()\n",
    "                    return answer\n"
   ]
  }
 ],
 "metadata": {
  "kernelspec": {
   "display_name": "Python 3 (ipykernel)",
   "language": "python",
   "name": "python3"
  },
  "language_info": {
   "codemirror_mode": {
    "name": "ipython",
    "version": 3
   },
   "file_extension": ".py",
   "mimetype": "text/x-python",
   "name": "python",
   "nbconvert_exporter": "python",
   "pygments_lexer": "ipython3",
   "version": "3.11.7"
  }
 },
 "nbformat": 4,
 "nbformat_minor": 5
}
