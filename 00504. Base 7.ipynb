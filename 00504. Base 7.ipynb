{
 "cells": [
  {
   "cell_type": "code",
   "execution_count": null,
   "id": "2b6ccc30-9739-49ea-8c92-900f4dfbc351",
   "metadata": {},
   "outputs": [],
   "source": [
    "class Solution:\n",
    "    def convertToBase7(self, num: int) -> str:\n",
    "        \n",
    "        answer = \"\"\n",
    "        if num == 0:\n",
    "            return \"0\"\n",
    "        elif num < 0:\n",
    "            answer += \"-\"\n",
    "            num = -num\n",
    "\n",
    "        temp = \"\"\n",
    "        while num >= 1:\n",
    "            temp += str(num%7)\n",
    "            num //= 7\n",
    "        \n",
    "        answer += temp[::-1]\n",
    "        return answer"
   ]
  }
 ],
 "metadata": {
  "kernelspec": {
   "display_name": "Python 3 (ipykernel)",
   "language": "python",
   "name": "python3"
  },
  "language_info": {
   "codemirror_mode": {
    "name": "ipython",
    "version": 3
   },
   "file_extension": ".py",
   "mimetype": "text/x-python",
   "name": "python",
   "nbconvert_exporter": "python",
   "pygments_lexer": "ipython3",
   "version": "3.11.7"
  }
 },
 "nbformat": 4,
 "nbformat_minor": 5
}
