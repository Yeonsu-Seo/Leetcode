{
 "cells": [
  {
   "cell_type": "code",
   "execution_count": null,
   "id": "250f460d-135b-460e-be4d-cf4522286dd7",
   "metadata": {},
   "outputs": [],
   "source": [
    "class Solution:\n",
    "    def canConstruct(self, ransomNote: str, magazine: str) -> bool:\n",
    "        mDict = {}\n",
    "        for i in magazine:\n",
    "            if i not in mDict.keys():\n",
    "                mDict[i] = 1\n",
    "            else:\n",
    "                mDict[i] += 1\n",
    "\n",
    "        rDict = {}\n",
    "        for i in ransomNote:\n",
    "            if i not in rDict.keys():\n",
    "                rDict[i] = 1\n",
    "            else:\n",
    "                rDict[i] += 1       \n",
    "        \n",
    "        for i in rDict.keys():\n",
    "            if i not in mDict.keys():\n",
    "                return False\n",
    "            if rDict[i] > mDict[i]:\n",
    "                return False\n",
    "        return True"
   ]
  }
 ],
 "metadata": {
  "kernelspec": {
   "display_name": "Python 3 (ipykernel)",
   "language": "python",
   "name": "python3"
  },
  "language_info": {
   "codemirror_mode": {
    "name": "ipython",
    "version": 3
   },
   "file_extension": ".py",
   "mimetype": "text/x-python",
   "name": "python",
   "nbconvert_exporter": "python",
   "pygments_lexer": "ipython3",
   "version": "3.11.7"
  }
 },
 "nbformat": 4,
 "nbformat_minor": 5
}
