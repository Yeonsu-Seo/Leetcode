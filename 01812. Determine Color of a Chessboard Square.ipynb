{
 "cells": [
  {
   "cell_type": "code",
   "execution_count": null,
   "id": "8b593b60-3b11-4583-abe0-0ecc8c6338a4",
   "metadata": {},
   "outputs": [],
   "source": [
    "class Solution:\n",
    "    def squareIsWhite(self, coordinates: str) -> bool:\n",
    "        row = ord(coordinates[0])\n",
    "        col = int(coordinates[1])\n",
    "\n",
    "        if (row+col)%2==0:\n",
    "            return False\n",
    "        else:\n",
    "            return True"
   ]
  }
 ],
 "metadata": {
  "kernelspec": {
   "display_name": "Python 3 (ipykernel)",
   "language": "python",
   "name": "python3"
  },
  "language_info": {
   "codemirror_mode": {
    "name": "ipython",
    "version": 3
   },
   "file_extension": ".py",
   "mimetype": "text/x-python",
   "name": "python",
   "nbconvert_exporter": "python",
   "pygments_lexer": "ipython3",
   "version": "3.11.7"
  }
 },
 "nbformat": 4,
 "nbformat_minor": 5
}
