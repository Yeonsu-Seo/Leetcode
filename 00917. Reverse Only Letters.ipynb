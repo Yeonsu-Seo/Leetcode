{
 "cells": [
  {
   "cell_type": "code",
   "execution_count": null,
   "id": "db1b037c-3736-4279-9a50-91d533a67192",
   "metadata": {},
   "outputs": [],
   "source": [
    "class Solution:\n",
    "    def reverseOnlyLetters(self, s: str) -> str:\n",
    "        \n",
    "        alpha = \"\"\n",
    "        nonAlpha = \"\"\n",
    "        for i in s:\n",
    "            if i.isalpha():\n",
    "                alpha += i\n",
    "            else:\n",
    "                nonAlpha += i\n",
    "\n",
    "        newS = \"\"\n",
    "        countNon = 0\n",
    "        countAlpha = -1\n",
    "        for i in range(len(s)):\n",
    "            if not s[i].isalpha():\n",
    "                newS += nonAlpha[countNon]\n",
    "                countNon += 1\n",
    "            else:\n",
    "                newS += alpha[countAlpha]\n",
    "                countAlpha -= 1\n",
    "        return newS"
   ]
  }
 ],
 "metadata": {
  "kernelspec": {
   "display_name": "Python 3 (ipykernel)",
   "language": "python",
   "name": "python3"
  },
  "language_info": {
   "codemirror_mode": {
    "name": "ipython",
    "version": 3
   },
   "file_extension": ".py",
   "mimetype": "text/x-python",
   "name": "python",
   "nbconvert_exporter": "python",
   "pygments_lexer": "ipython3",
   "version": "3.11.7"
  }
 },
 "nbformat": 4,
 "nbformat_minor": 5
}
