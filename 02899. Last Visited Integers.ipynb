{
 "cells": [
  {
   "cell_type": "code",
   "execution_count": null,
   "id": "d56cf9fe-7188-4056-acf3-c512a9d51bf4",
   "metadata": {},
   "outputs": [],
   "source": [
    "class Solution:\n",
    "    def lastVisitedIntegers(self, nums: List[int]) -> List[int]:\n",
    "        seen = []\n",
    "        ans = []\n",
    "        k = 0\n",
    "\n",
    "        for i in range(len(nums)):\n",
    "            num = nums[i]\n",
    "            if num==-1:\n",
    "                if k >= len(seen):\n",
    "                    ans.append(-1)\n",
    "                    continue\n",
    "                ans.append(seen[k])\n",
    "                k += 1\n",
    "            else:\n",
    "                seen.insert(0, num)\n",
    "                k = 0\n",
    "            i+=1\n",
    "        \n",
    "        return ans"
   ]
  }
 ],
 "metadata": {
  "kernelspec": {
   "display_name": "Python 3 (ipykernel)",
   "language": "python",
   "name": "python3"
  },
  "language_info": {
   "codemirror_mode": {
    "name": "ipython",
    "version": 3
   },
   "file_extension": ".py",
   "mimetype": "text/x-python",
   "name": "python",
   "nbconvert_exporter": "python",
   "pygments_lexer": "ipython3",
   "version": "3.11.7"
  }
 },
 "nbformat": 4,
 "nbformat_minor": 5
}
