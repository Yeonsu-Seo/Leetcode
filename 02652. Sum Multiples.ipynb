{
 "cells": [
  {
   "cell_type": "code",
   "execution_count": null,
   "id": "b860c0ce-cf31-474f-b8a6-0da2887a9290",
   "metadata": {},
   "outputs": [],
   "source": [
    "class Solution:\n",
    "    def sumOfMultiples(self, n: int) -> int:\n",
    "        answer = 0\n",
    "        for i in range(1, n+1):\n",
    "            if (i%3==0) or (i%5==0) or (i%7==0):\n",
    "                answer += i\n",
    "        return answer"
   ]
  }
 ],
 "metadata": {
  "kernelspec": {
   "display_name": "Python 3 (ipykernel)",
   "language": "python",
   "name": "python3"
  },
  "language_info": {
   "codemirror_mode": {
    "name": "ipython",
    "version": 3
   },
   "file_extension": ".py",
   "mimetype": "text/x-python",
   "name": "python",
   "nbconvert_exporter": "python",
   "pygments_lexer": "ipython3",
   "version": "3.11.7"
  }
 },
 "nbformat": 4,
 "nbformat_minor": 5
}
