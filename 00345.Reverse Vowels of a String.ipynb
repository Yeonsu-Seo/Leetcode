{
 "cells": [
  {
   "cell_type": "code",
   "execution_count": null,
   "id": "d8cafcb2-570c-4c0f-ac13-863f3baed3b5",
   "metadata": {},
   "outputs": [],
   "source": [
    "class Solution:\n",
    "    def reverseVowels(self, s: str) -> str:\n",
    "        vowel = [\"a\", \"e\", \"i\", \"o\", \"u\", \"A\", \"E\", \"I\", \"O\", \"U\"]\n",
    "\n",
    "        vowelList = []\n",
    "        for i in s:\n",
    "            if i in vowel:\n",
    "                vowelList.append(i)\n",
    "\n",
    "        newS = \"\"\n",
    "        count = -1\n",
    "        for i in s:\n",
    "            if i not in vowel:\n",
    "                newS += i\n",
    "            else:\n",
    "                newS += vowelList[count]\n",
    "                count -= 1\n",
    "        \n",
    "        return newS"
   ]
  }
 ],
 "metadata": {
  "kernelspec": {
   "display_name": "Python 3 (ipykernel)",
   "language": "python",
   "name": "python3"
  },
  "language_info": {
   "codemirror_mode": {
    "name": "ipython",
    "version": 3
   },
   "file_extension": ".py",
   "mimetype": "text/x-python",
   "name": "python",
   "nbconvert_exporter": "python",
   "pygments_lexer": "ipython3",
   "version": "3.11.7"
  }
 },
 "nbformat": 4,
 "nbformat_minor": 5
}
