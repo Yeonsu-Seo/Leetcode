{
 "cells": [
  {
   "cell_type": "code",
   "execution_count": null,
   "id": "4c4b1a10-67a0-4324-8a49-b7ad1e107229",
   "metadata": {},
   "outputs": [],
   "source": [
    "class Solution:\n",
    "    def destCity(self, paths: List[List[str]]) -> str:\n",
    "        i = 0\n",
    "        while True:\n",
    "            for j in range(len(paths)):\n",
    "                if paths[i][1] == paths[j][0]:\n",
    "                    i = j\n",
    "                    break\n",
    "            else:\n",
    "                return paths[i][1]\n",
    "\n",
    "# paths[0][1] == paths[i][0] 인 i 찾기 (i 존재x -> return paths[0][1])\n",
    "# paths[i][1] == paths[j][0] 인 j 찾기 (j 존재x -> return paths[i][1])\n",
    "# ...반복"
   ]
  }
 ],
 "metadata": {
  "kernelspec": {
   "display_name": "Python 3 (ipykernel)",
   "language": "python",
   "name": "python3"
  },
  "language_info": {
   "codemirror_mode": {
    "name": "ipython",
    "version": 3
   },
   "file_extension": ".py",
   "mimetype": "text/x-python",
   "name": "python",
   "nbconvert_exporter": "python",
   "pygments_lexer": "ipython3",
   "version": "3.11.7"
  }
 },
 "nbformat": 4,
 "nbformat_minor": 5
}
