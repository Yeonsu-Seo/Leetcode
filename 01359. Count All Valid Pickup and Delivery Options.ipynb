{
 "cells": [
  {
   "cell_type": "code",
   "execution_count": null,
   "id": "a4da2fd3-c6b5-49ab-80d5-e46ae63b8c45",
   "metadata": {},
   "outputs": [],
   "source": [
    "class Solution:\n",
    "    def countOrders(self, n: int) -> int:\n",
    "        import math\n",
    "        result = factorial(2*n) // (2**n)\n",
    "        if result >= (10**9+7):\n",
    "            result %= 10**9+7\n",
    "        return result"
   ]
  }
 ],
 "metadata": {
  "kernelspec": {
   "display_name": "Python 3 (ipykernel)",
   "language": "python",
   "name": "python3"
  },
  "language_info": {
   "codemirror_mode": {
    "name": "ipython",
    "version": 3
   },
   "file_extension": ".py",
   "mimetype": "text/x-python",
   "name": "python",
   "nbconvert_exporter": "python",
   "pygments_lexer": "ipython3",
   "version": "3.11.7"
  }
 },
 "nbformat": 4,
 "nbformat_minor": 5
}
