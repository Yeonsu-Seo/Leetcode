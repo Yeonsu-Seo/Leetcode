{
 "cells": [
  {
   "cell_type": "code",
   "execution_count": null,
   "id": "1767713b-7dda-4f71-979d-73d25c1fd2f8",
   "metadata": {},
   "outputs": [],
   "source": [
    "class Solution:\n",
    "    def thirdMax(self, nums: List[int]) -> int:\n",
    "        numList = list(set(nums))\n",
    "\n",
    "        if len(numList) <= 2:\n",
    "            return max(numList)\n",
    "        else:\n",
    "            maxNum = max(numList)\n",
    "            for i in range(2):\n",
    "                numList.pop(numList.index(maxNum))\n",
    "                maxNum = max(numList)\n",
    "            return maxNum"
   ]
  }
 ],
 "metadata": {
  "kernelspec": {
   "display_name": "Python 3 (ipykernel)",
   "language": "python",
   "name": "python3"
  },
  "language_info": {
   "codemirror_mode": {
    "name": "ipython",
    "version": 3
   },
   "file_extension": ".py",
   "mimetype": "text/x-python",
   "name": "python",
   "nbconvert_exporter": "python",
   "pygments_lexer": "ipython3",
   "version": "3.11.7"
  }
 },
 "nbformat": 4,
 "nbformat_minor": 5
}
