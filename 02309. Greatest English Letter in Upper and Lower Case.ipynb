{
 "cells": [
  {
   "cell_type": "code",
   "execution_count": 17,
   "id": "13ae1a96-4c93-457b-96d3-7e1b17b042e1",
   "metadata": {},
   "outputs": [],
   "source": [
    "class Solution:\n",
    "    def greatestLetter(self, s: str) -> str:\n",
    "        both = []\n",
    "        sSet = set(list(s.lower()))\n",
    "        for i in sSet:\n",
    "            iUp = i.upper()\n",
    "            iLow = i.lower()\n",
    "            if (iUp in s) and (iLow in s):\n",
    "                both.append(ord(iUp))\n",
    "        both.sort()\n",
    "\n",
    "        if len(both) == 0:\n",
    "            return \"\"\n",
    "        return chr(both[-1])"
   ]
  }
 ],
 "metadata": {
  "kernelspec": {
   "display_name": "Python 3 (ipykernel)",
   "language": "python",
   "name": "python3"
  },
  "language_info": {
   "codemirror_mode": {
    "name": "ipython",
    "version": 3
   },
   "file_extension": ".py",
   "mimetype": "text/x-python",
   "name": "python",
   "nbconvert_exporter": "python",
   "pygments_lexer": "ipython3",
   "version": "3.11.7"
  }
 },
 "nbformat": 4,
 "nbformat_minor": 5
}
