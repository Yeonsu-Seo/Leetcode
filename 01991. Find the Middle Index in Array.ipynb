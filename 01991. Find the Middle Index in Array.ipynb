{
 "cells": [
  {
   "cell_type": "code",
   "execution_count": null,
   "id": "a2dcde41-b015-4727-8338-66044a0ffd92",
   "metadata": {},
   "outputs": [],
   "source": [
    "class Solution:\n",
    "    def findMiddleIndex(self, nums: List[int]) -> int:\n",
    "        for i in range(len(nums)):\n",
    "            if i == 0:\n",
    "                left = 0\n",
    "            else:\n",
    "                left = sum(nums[:i])\n",
    "            \n",
    "            if i == len(nums)-1:\n",
    "                right = 0\n",
    "            else:\n",
    "                right = sum(nums[i+1:])\n",
    "            \n",
    "            if left == right:\n",
    "                return i\n",
    "        return -1"
   ]
  }
 ],
 "metadata": {
  "kernelspec": {
   "display_name": "Python 3 (ipykernel)",
   "language": "python",
   "name": "python3"
  },
  "language_info": {
   "codemirror_mode": {
    "name": "ipython",
    "version": 3
   },
   "file_extension": ".py",
   "mimetype": "text/x-python",
   "name": "python",
   "nbconvert_exporter": "python",
   "pygments_lexer": "ipython3",
   "version": "3.11.7"
  }
 },
 "nbformat": 4,
 "nbformat_minor": 5
}
