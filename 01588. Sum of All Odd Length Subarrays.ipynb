{
 "cells": [
  {
   "cell_type": "code",
   "execution_count": null,
   "id": "2b370a54-cfc1-47e1-b294-975a3d5b0614",
   "metadata": {},
   "outputs": [],
   "source": [
    "class Solution:\n",
    "    def sumOddLengthSubarrays(self, arr: List[int]) -> int:\n",
    "        result = 0\n",
    "\n",
    "        length = 1\n",
    "        while length <= len(arr):\n",
    "            for i in range(len(arr)-length+1):\n",
    "                result += sum(arr[i:i+length])\n",
    "            length += 2\n",
    "        return result"
   ]
  }
 ],
 "metadata": {
  "kernelspec": {
   "display_name": "Python 3 (ipykernel)",
   "language": "python",
   "name": "python3"
  },
  "language_info": {
   "codemirror_mode": {
    "name": "ipython",
    "version": 3
   },
   "file_extension": ".py",
   "mimetype": "text/x-python",
   "name": "python",
   "nbconvert_exporter": "python",
   "pygments_lexer": "ipython3",
   "version": "3.11.7"
  }
 },
 "nbformat": 4,
 "nbformat_minor": 5
}
