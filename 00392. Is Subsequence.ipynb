{
 "cells": [
  {
   "cell_type": "code",
   "execution_count": null,
   "id": "17f72d3b-29c7-4514-adbb-6b76b15a85cf",
   "metadata": {},
   "outputs": [],
   "source": [
    "class Solution:\n",
    "    def isSubsequence(self, s: str, t: str) -> bool:\n",
    "\n",
    "        if s == \"\":\n",
    "            return True\n",
    "\n",
    "        sCount = 0\n",
    "\n",
    "        for i in t:\n",
    "            if sCount == len(s):\n",
    "                return True\n",
    "            if s[sCount] == i:\n",
    "                sCount += 1\n",
    "        \n",
    "        return sCount == len(s)"
   ]
  }
 ],
 "metadata": {
  "kernelspec": {
   "display_name": "Python 3 (ipykernel)",
   "language": "python",
   "name": "python3"
  },
  "language_info": {
   "codemirror_mode": {
    "name": "ipython",
    "version": 3
   },
   "file_extension": ".py",
   "mimetype": "text/x-python",
   "name": "python",
   "nbconvert_exporter": "python",
   "pygments_lexer": "ipython3",
   "version": "3.11.7"
  }
 },
 "nbformat": 4,
 "nbformat_minor": 5
}
