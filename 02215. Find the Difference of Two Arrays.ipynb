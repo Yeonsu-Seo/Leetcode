{
 "cells": [
  {
   "cell_type": "code",
   "execution_count": null,
   "id": "68714fc6-8999-4630-8549-afe00b143bda",
   "metadata": {},
   "outputs": [],
   "source": [
    "class Solution:\n",
    "    def findDifference(self, nums1: List[int], nums2: List[int]) -> List[List[int]]:\n",
    "        answer = [[], []]\n",
    "        for i in range(len(nums1)):\n",
    "            if nums1[i] not in nums2:\n",
    "                answer[0].append(nums1[i])\n",
    "        for i in range(len(nums2)):\n",
    "            if nums2[i] not in nums1:\n",
    "                answer[1].append(nums2[i])\n",
    "        answer[0] = list(set(answer[0]))\n",
    "        answer[1] = list(set(answer[1]))\n",
    "        return answer"
   ]
  }
 ],
 "metadata": {
  "kernelspec": {
   "display_name": "Python 3 (ipykernel)",
   "language": "python",
   "name": "python3"
  },
  "language_info": {
   "codemirror_mode": {
    "name": "ipython",
    "version": 3
   },
   "file_extension": ".py",
   "mimetype": "text/x-python",
   "name": "python",
   "nbconvert_exporter": "python",
   "pygments_lexer": "ipython3",
   "version": "3.11.7"
  }
 },
 "nbformat": 4,
 "nbformat_minor": 5
}
