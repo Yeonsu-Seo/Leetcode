{
 "cells": [
  {
   "cell_type": "code",
   "execution_count": null,
   "id": "c1c6a75d-90f4-44b1-ae9f-19d285516dee",
   "metadata": {},
   "outputs": [],
   "source": [
    "class Solution:\n",
    "    def findNumbers(self, nums: List[int]) -> int:\n",
    "        count = 0\n",
    "        for i in nums:\n",
    "            if len(str(i))%2==0:\n",
    "                count += 1\n",
    "        return count"
   ]
  }
 ],
 "metadata": {
  "kernelspec": {
   "display_name": "Python 3 (ipykernel)",
   "language": "python",
   "name": "python3"
  },
  "language_info": {
   "codemirror_mode": {
    "name": "ipython",
    "version": 3
   },
   "file_extension": ".py",
   "mimetype": "text/x-python",
   "name": "python",
   "nbconvert_exporter": "python",
   "pygments_lexer": "ipython3",
   "version": "3.11.7"
  }
 },
 "nbformat": 4,
 "nbformat_minor": 5
}
