{
 "cells": [
  {
   "cell_type": "code",
   "execution_count": null,
   "id": "fcc98d66-b602-4515-83eb-d33050f2e3a2",
   "metadata": {},
   "outputs": [],
   "source": [
    "class Solution:\n",
    "    def reverseWords(self, s: str) -> str:\n",
    "        sList = s.split()\n",
    "        for i in range(len(sList)):\n",
    "            sList[i] = sList[i][::-1]\n",
    "\n",
    "        return \" \".join(sList)"
   ]
  }
 ],
 "metadata": {
  "kernelspec": {
   "display_name": "Python 3 (ipykernel)",
   "language": "python",
   "name": "python3"
  },
  "language_info": {
   "codemirror_mode": {
    "name": "ipython",
    "version": 3
   },
   "file_extension": ".py",
   "mimetype": "text/x-python",
   "name": "python",
   "nbconvert_exporter": "python",
   "pygments_lexer": "ipython3",
   "version": "3.11.7"
  }
 },
 "nbformat": 4,
 "nbformat_minor": 5
}
