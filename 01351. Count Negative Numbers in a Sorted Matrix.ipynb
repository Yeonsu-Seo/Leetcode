{
 "cells": [
  {
   "cell_type": "code",
   "execution_count": null,
   "id": "6bad3927-c970-49c2-94db-c5a257adcc45",
   "metadata": {},
   "outputs": [],
   "source": [
    "class Solution:\n",
    "    def countNegatives(self, grid: List[List[int]]) -> int:\n",
    "        count = 0\n",
    "        index = 0\n",
    "        for i in range(len(grid)):\n",
    "            count += index\n",
    "            for j in range(index, len(grid[0])):\n",
    "                if grid[i][len(grid[0])-1-j] < 0:\n",
    "                    count += 1\n",
    "                else:\n",
    "                    break\n",
    "            index = j\n",
    "        return count"
   ]
  }
 ],
 "metadata": {
  "kernelspec": {
   "display_name": "Python 3 (ipykernel)",
   "language": "python",
   "name": "python3"
  },
  "language_info": {
   "codemirror_mode": {
    "name": "ipython",
    "version": 3
   },
   "file_extension": ".py",
   "mimetype": "text/x-python",
   "name": "python",
   "nbconvert_exporter": "python",
   "pygments_lexer": "ipython3",
   "version": "3.11.7"
  }
 },
 "nbformat": 4,
 "nbformat_minor": 5
}
