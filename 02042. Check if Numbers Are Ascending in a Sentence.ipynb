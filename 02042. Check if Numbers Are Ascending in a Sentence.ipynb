{
 "cells": [
  {
   "cell_type": "code",
   "execution_count": null,
   "id": "76403185-83ac-43e8-ab92-defabb41a377",
   "metadata": {},
   "outputs": [],
   "source": [
    "class Solution:\n",
    "    def areNumbersAscending(self, s: str) -> bool:\n",
    "        alpha = \"abcdefghigklmnopqrstuvwzyx \"\n",
    "        s = s.split()\n",
    "        num = [-1]\n",
    "        for i in s:\n",
    "            if i.isnumeric():\n",
    "                num.append(int(i))\n",
    "                if num[-2] >= num[-1]:\n",
    "                    return False\n",
    "        return True"
   ]
  }
 ],
 "metadata": {
  "kernelspec": {
   "display_name": "Python 3 (ipykernel)",
   "language": "python",
   "name": "python3"
  },
  "language_info": {
   "codemirror_mode": {
    "name": "ipython",
    "version": 3
   },
   "file_extension": ".py",
   "mimetype": "text/x-python",
   "name": "python",
   "nbconvert_exporter": "python",
   "pygments_lexer": "ipython3",
   "version": "3.11.7"
  }
 },
 "nbformat": 4,
 "nbformat_minor": 5
}
