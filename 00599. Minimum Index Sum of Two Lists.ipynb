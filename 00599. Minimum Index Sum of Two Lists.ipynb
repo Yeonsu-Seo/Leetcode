{
 "cells": [
  {
   "cell_type": "code",
   "execution_count": null,
   "id": "9ae92279-3523-44be-aa95-58e12918ff10",
   "metadata": {},
   "outputs": [],
   "source": [
    "class Solution:\n",
    "    def findRestaurant(self, list1: List[str], list2: List[str]) -> List[str]:\n",
    "        commonDict = {}\n",
    "        for i in range(len(list1)):\n",
    "            for j in range(len(list2)):\n",
    "                if list1[i] == list2[j]:\n",
    "                    if (i+j) in commonDict.keys():\n",
    "                        commonDict[i+j] += [list1[i]]\n",
    "                    else:\n",
    "                        commonDict[i+j] = [list1[i]]\n",
    "        minIndex = min(commonDict.keys())\n",
    "        return commonDict[minIndex]"
   ]
  }
 ],
 "metadata": {
  "kernelspec": {
   "display_name": "Python 3 (ipykernel)",
   "language": "python",
   "name": "python3"
  },
  "language_info": {
   "codemirror_mode": {
    "name": "ipython",
    "version": 3
   },
   "file_extension": ".py",
   "mimetype": "text/x-python",
   "name": "python",
   "nbconvert_exporter": "python",
   "pygments_lexer": "ipython3",
   "version": "3.11.7"
  }
 },
 "nbformat": 4,
 "nbformat_minor": 5
}
