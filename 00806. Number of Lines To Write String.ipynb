{
 "cells": [
  {
   "cell_type": "code",
   "execution_count": null,
   "id": "660cbae3-b3f2-4829-855f-69434a061a09",
   "metadata": {},
   "outputs": [],
   "source": [
    "class Solution:\n",
    "    def numberOfLines(self, widths: List[int], s: str) -> List[int]:\n",
    "        result = [1, 0]\n",
    "\n",
    "        for i in range(len(s)):\n",
    "            if result[1]+widths[ord(s[i])-97] > 100:\n",
    "                result[0] += 1\n",
    "                result[1] = widths[ord(s[i])-97]\n",
    "            elif result[1]+widths[ord(s[i])-97] == 100:\n",
    "                result[0] += 1\n",
    "                result[1] = 0\n",
    "            else:\n",
    "                result[1] += widths[ord(s[i])-97]\n",
    "        \n",
    "        if result[1] == 0:\n",
    "            result[0] -= 1\n",
    "            result[1] = 100\n",
    "\n",
    "        return result"
   ]
  }
 ],
 "metadata": {
  "kernelspec": {
   "display_name": "Python 3 (ipykernel)",
   "language": "python",
   "name": "python3"
  },
  "language_info": {
   "codemirror_mode": {
    "name": "ipython",
    "version": 3
   },
   "file_extension": ".py",
   "mimetype": "text/x-python",
   "name": "python",
   "nbconvert_exporter": "python",
   "pygments_lexer": "ipython3",
   "version": "3.11.7"
  }
 },
 "nbformat": 4,
 "nbformat_minor": 5
}
