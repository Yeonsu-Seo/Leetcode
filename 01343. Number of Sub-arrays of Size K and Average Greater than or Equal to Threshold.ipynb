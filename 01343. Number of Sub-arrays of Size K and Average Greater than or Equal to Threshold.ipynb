{
 "cells": [
  {
   "cell_type": "code",
   "execution_count": null,
   "id": "8c141904-caa5-4318-98d5-515e76c99864",
   "metadata": {},
   "outputs": [],
   "source": [
    "class Solution:\n",
    "    def numOfSubarrays(self, arr: List[int], k: int, threshold: int) -> int:\n",
    "        result = 0\n",
    "        init = sum(arr[:k])\n",
    "        if init >= threshold*k:\n",
    "                result += 1\n",
    "                \n",
    "        for i in range(len(arr)-k):\n",
    "            init += arr[i+k]\n",
    "            init -= arr[i]\n",
    "            if init >= threshold*k:\n",
    "                result += 1\n",
    "        return result"
   ]
  }
 ],
 "metadata": {
  "kernelspec": {
   "display_name": "Python 3 (ipykernel)",
   "language": "python",
   "name": "python3"
  },
  "language_info": {
   "codemirror_mode": {
    "name": "ipython",
    "version": 3
   },
   "file_extension": ".py",
   "mimetype": "text/x-python",
   "name": "python",
   "nbconvert_exporter": "python",
   "pygments_lexer": "ipython3",
   "version": "3.11.7"
  }
 },
 "nbformat": 4,
 "nbformat_minor": 5
}
