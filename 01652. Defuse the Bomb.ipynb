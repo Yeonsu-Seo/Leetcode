{
 "cells": [
  {
   "cell_type": "code",
   "execution_count": null,
   "id": "db89327a-71c7-4cd6-8620-6d22d4d313f7",
   "metadata": {},
   "outputs": [],
   "source": [
    "class Solution:\n",
    "    def decrypt(self, code: List[int], k: int) -> List[int]:\n",
    "        if k == 0:\n",
    "            return [0]*len(code)\n",
    "        elif k < 0:\n",
    "            result = []\n",
    "            for i in range(len(code)):\n",
    "                temp = 0\n",
    "                for j in range(-k):\n",
    "                    temp += code[i-j-1]\n",
    "                result.append(temp)\n",
    "            return result\n",
    "        else:\n",
    "            result = []\n",
    "            for i in range(len(code)):\n",
    "                temp = 0\n",
    "                for j in range(k):\n",
    "                    index = i+j+1\n",
    "                    while index>=len(code):\n",
    "                        index -= len(code)\n",
    "                    temp += code[index]\n",
    "                result.append(temp)\n",
    "            return result"
   ]
  }
 ],
 "metadata": {
  "kernelspec": {
   "display_name": "Python 3 (ipykernel)",
   "language": "python",
   "name": "python3"
  },
  "language_info": {
   "codemirror_mode": {
    "name": "ipython",
    "version": 3
   },
   "file_extension": ".py",
   "mimetype": "text/x-python",
   "name": "python",
   "nbconvert_exporter": "python",
   "pygments_lexer": "ipython3",
   "version": "3.11.7"
  }
 },
 "nbformat": 4,
 "nbformat_minor": 5
}
