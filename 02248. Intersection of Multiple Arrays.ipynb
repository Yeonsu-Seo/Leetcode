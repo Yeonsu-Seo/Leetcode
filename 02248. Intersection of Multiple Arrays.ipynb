{
 "cells": [
  {
   "cell_type": "code",
   "execution_count": null,
   "id": "973b65f8-5cb5-4529-bf6d-769a6ef38afa",
   "metadata": {},
   "outputs": [],
   "source": [
    "class Solution:\n",
    "    def intersection(self, nums: List[List[int]]) -> List[int]:\n",
    "        nums[0].sort()\n",
    "        numSet = set(nums[0])\n",
    "        if len(nums) == 1:\n",
    "            return nums[0]\n",
    "        \n",
    "        for i in range(1, len(nums)):\n",
    "            numSet = numSet.intersection(set(nums[i]))\n",
    "\n",
    "        numList = list(numSet)\n",
    "        numList.sort()\n",
    "\n",
    "        return numList"
   ]
  }
 ],
 "metadata": {
  "kernelspec": {
   "display_name": "Python 3 (ipykernel)",
   "language": "python",
   "name": "python3"
  },
  "language_info": {
   "codemirror_mode": {
    "name": "ipython",
    "version": 3
   },
   "file_extension": ".py",
   "mimetype": "text/x-python",
   "name": "python",
   "nbconvert_exporter": "python",
   "pygments_lexer": "ipython3",
   "version": "3.11.7"
  }
 },
 "nbformat": 4,
 "nbformat_minor": 5
}
