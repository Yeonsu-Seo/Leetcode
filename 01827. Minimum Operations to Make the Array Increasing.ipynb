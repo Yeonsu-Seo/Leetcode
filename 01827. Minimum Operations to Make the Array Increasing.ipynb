{
 "cells": [
  {
   "cell_type": "code",
   "execution_count": null,
   "id": "a22864d3-d407-4083-bcf2-8f492e75b85a",
   "metadata": {},
   "outputs": [],
   "source": [
    "class Solution:\n",
    "    def minOperations(self, nums: List[int]) -> int:\n",
    "        count = 0\n",
    "        for i in range(len(nums)-1):\n",
    "            if nums[i] >= nums[i+1]:\n",
    "                gap = nums[i] - nums[i+1]\n",
    "                nums[i+1] += gap+1\n",
    "                count += gap+1\n",
    "        return count"
   ]
  }
 ],
 "metadata": {
  "kernelspec": {
   "display_name": "Python 3 (ipykernel)",
   "language": "python",
   "name": "python3"
  },
  "language_info": {
   "codemirror_mode": {
    "name": "ipython",
    "version": 3
   },
   "file_extension": ".py",
   "mimetype": "text/x-python",
   "name": "python",
   "nbconvert_exporter": "python",
   "pygments_lexer": "ipython3",
   "version": "3.11.7"
  }
 },
 "nbformat": 4,
 "nbformat_minor": 5
}
