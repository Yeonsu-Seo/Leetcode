{
 "cells": [
  {
   "cell_type": "code",
   "execution_count": null,
   "id": "48aaa46e-f83e-4584-8841-47acabb0e6d2",
   "metadata": {},
   "outputs": [],
   "source": [
    "class Solution:\n",
    "    def countPrimeSetBits(self, left: int, right: int) -> int:\n",
    "        def isPrime(n): #n이 소수면 1, 아니면 0 반환\n",
    "            if n==0 or n==1:\n",
    "                return 0\n",
    "\n",
    "            for i in range(2, int(n**0.5)+1):\n",
    "                if n%i==0:\n",
    "                    return 0\n",
    "            return 1\n",
    "\n",
    "        \n",
    "        answer = 0\n",
    "\n",
    "        for i in range(left, right+1):\n",
    "            bits = str(bin(i))[2:]\n",
    "            number = bits.count(\"1\")\n",
    "            answer += isPrime(number)\n",
    "        \n",
    "        return answer"
   ]
  }
 ],
 "metadata": {
  "kernelspec": {
   "display_name": "Python 3 (ipykernel)",
   "language": "python",
   "name": "python3"
  },
  "language_info": {
   "codemirror_mode": {
    "name": "ipython",
    "version": 3
   },
   "file_extension": ".py",
   "mimetype": "text/x-python",
   "name": "python",
   "nbconvert_exporter": "python",
   "pygments_lexer": "ipython3",
   "version": "3.11.7"
  }
 },
 "nbformat": 4,
 "nbformat_minor": 5
}
