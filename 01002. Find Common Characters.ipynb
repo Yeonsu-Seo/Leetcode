{
 "cells": [
  {
   "cell_type": "code",
   "execution_count": null,
   "id": "7b66b011-116a-4ecd-8ba7-5aee0292fd46",
   "metadata": {},
   "outputs": [],
   "source": [
    "class Solution:\n",
    "    def commonChars(self, words: List[str]) -> List[str]:\n",
    "        commonSet = set(words[0])\n",
    "        for i in range(len(words)):\n",
    "            commonSet = commonSet.intersection(set(words[i]))\n",
    "        \n",
    "        common = []\n",
    "        for i in commonSet:\n",
    "            count = []\n",
    "            for j in words:\n",
    "                count.append(j.count(i))\n",
    "            count = min(count)\n",
    "            common += [i]*count\n",
    "        return common"
   ]
  }
 ],
 "metadata": {
  "kernelspec": {
   "display_name": "Python 3 (ipykernel)",
   "language": "python",
   "name": "python3"
  },
  "language_info": {
   "codemirror_mode": {
    "name": "ipython",
    "version": 3
   },
   "file_extension": ".py",
   "mimetype": "text/x-python",
   "name": "python",
   "nbconvert_exporter": "python",
   "pygments_lexer": "ipython3",
   "version": "3.11.7"
  }
 },
 "nbformat": 4,
 "nbformat_minor": 5
}
