{
 "cells": [
  {
   "cell_type": "code",
   "execution_count": 6,
   "id": "b89b9459-313a-4423-bb86-400535057293",
   "metadata": {},
   "outputs": [],
   "source": [
    "class Solution:\n",
    "    def wordPattern(self, pattern: str, s: str) -> bool:\n",
    "        sList = s.split()\n",
    "        patDict = {}\n",
    "        \n",
    "        if len(pattern) != len(sList):\n",
    "            return False\n",
    "\n",
    "        for i in range(len(sList)):\n",
    "            if pattern[i] not in patDict.keys():\n",
    "                if sList[i] in patDict.values():\n",
    "                    return False\n",
    "                patDict[pattern[i]] = sList[i]\n",
    "            else:\n",
    "                if patDict[pattern[i]] != sList[i]:\n",
    "                    return False\n",
    "        return True"
   ]
  }
 ],
 "metadata": {
  "kernelspec": {
   "display_name": "Python 3 (ipykernel)",
   "language": "python",
   "name": "python3"
  },
  "language_info": {
   "codemirror_mode": {
    "name": "ipython",
    "version": 3
   },
   "file_extension": ".py",
   "mimetype": "text/x-python",
   "name": "python",
   "nbconvert_exporter": "python",
   "pygments_lexer": "ipython3",
   "version": "3.11.7"
  }
 },
 "nbformat": 4,
 "nbformat_minor": 5
}
