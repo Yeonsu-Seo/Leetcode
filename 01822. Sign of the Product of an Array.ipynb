{
 "cells": [
  {
   "cell_type": "code",
   "execution_count": null,
   "id": "a5917f3f-2cdd-48d9-8882-085d5a866c58",
   "metadata": {},
   "outputs": [],
   "source": [
    "class Solution:\n",
    "    def arraySign(self, nums: List[int]) -> int:\n",
    "        \n",
    "        countNegative = 0\n",
    "        for i in nums:\n",
    "            if i == 0:\n",
    "                return 0\n",
    "            elif i < 0:\n",
    "                countNegative += 1\n",
    "        \n",
    "        if countNegative%2==0:\n",
    "            return 1\n",
    "        else:\n",
    "            return -1"
   ]
  }
 ],
 "metadata": {
  "kernelspec": {
   "display_name": "Python 3 (ipykernel)",
   "language": "python",
   "name": "python3"
  },
  "language_info": {
   "codemirror_mode": {
    "name": "ipython",
    "version": 3
   },
   "file_extension": ".py",
   "mimetype": "text/x-python",
   "name": "python",
   "nbconvert_exporter": "python",
   "pygments_lexer": "ipython3",
   "version": "3.11.7"
  }
 },
 "nbformat": 4,
 "nbformat_minor": 5
}
