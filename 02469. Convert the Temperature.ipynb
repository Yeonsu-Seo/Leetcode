{
 "cells": [
  {
   "cell_type": "code",
   "execution_count": null,
   "id": "a98082eb-acdd-4c83-89d2-c020135270b3",
   "metadata": {},
   "outputs": [],
   "source": [
    "class Solution:\n",
    "    def convertTemperature(self, celsius: float) -> List[float]:\n",
    "        return [celsius+273.15, celsius*1.8 +32]"
   ]
  }
 ],
 "metadata": {
  "kernelspec": {
   "display_name": "Python 3 (ipykernel)",
   "language": "python",
   "name": "python3"
  },
  "language_info": {
   "codemirror_mode": {
    "name": "ipython",
    "version": 3
   },
   "file_extension": ".py",
   "mimetype": "text/x-python",
   "name": "python",
   "nbconvert_exporter": "python",
   "pygments_lexer": "ipython3",
   "version": "3.11.7"
  }
 },
 "nbformat": 4,
 "nbformat_minor": 5
}
