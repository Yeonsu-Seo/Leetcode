{
 "cells": [
  {
   "cell_type": "code",
   "execution_count": null,
   "id": "b853bb32-d9fe-4180-8e38-89845290db1f",
   "metadata": {},
   "outputs": [],
   "source": [
    "class Solution:\n",
    "    def replaceDigits(self, s: str) -> str:\n",
    "        alpha = \"abcdefghijklmnopqrstuvwxyz\"\n",
    "\n",
    "        result = \"\"\n",
    "\n",
    "        for i in range(len(s)//2):\n",
    "            a = s[i*2]\n",
    "            result += a\n",
    "            b = ord(a) + int(s[2*i+1])\n",
    "            result += chr(b)\n",
    "        \n",
    "        if len(s)%2==0:\n",
    "            return result\n",
    "        else:\n",
    "            return result+s[-1]"
   ]
  }
 ],
 "metadata": {
  "kernelspec": {
   "display_name": "Python 3 (ipykernel)",
   "language": "python",
   "name": "python3"
  },
  "language_info": {
   "codemirror_mode": {
    "name": "ipython",
    "version": 3
   },
   "file_extension": ".py",
   "mimetype": "text/x-python",
   "name": "python",
   "nbconvert_exporter": "python",
   "pygments_lexer": "ipython3",
   "version": "3.11.7"
  }
 },
 "nbformat": 4,
 "nbformat_minor": 5
}
