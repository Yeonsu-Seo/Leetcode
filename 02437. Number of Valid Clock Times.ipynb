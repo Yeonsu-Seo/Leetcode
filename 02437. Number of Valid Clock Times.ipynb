{
 "cells": [
  {
   "cell_type": "code",
   "execution_count": 2,
   "id": "cf9a4e3f-bfe2-4874-adb9-04adaa972c8a",
   "metadata": {},
   "outputs": [],
   "source": [
    "class Solution:\n",
    "    def countTime(self, time: str) -> int:\n",
    "        hour, min = time.split(\":\")\n",
    "        \n",
    "        countH = 1\n",
    "        if \"?\" in hour:\n",
    "            if \"??\" in hour:\n",
    "                countH = 24\n",
    "            else:\n",
    "                if hour[1] == \"?\":\n",
    "                    if int(hour[0]) == 2:\n",
    "                        countH = 4\n",
    "                    else:\n",
    "                        countH = 10\n",
    "                else:\n",
    "                    if int(hour[1]) <= 3:\n",
    "                        countH = 3\n",
    "                    else:\n",
    "                        countH = 2\n",
    "        \n",
    "        countM = 1\n",
    "        if \"?\" in min:\n",
    "            if \"??\" in min:\n",
    "                countM = 60\n",
    "            else:\n",
    "                if min[1] == \"?\":\n",
    "                    countM = 10\n",
    "                else:\n",
    "                    countM = 6\n",
    "\n",
    "        return countH*countM"
   ]
  }
 ],
 "metadata": {
  "kernelspec": {
   "display_name": "Python 3 (ipykernel)",
   "language": "python",
   "name": "python3"
  },
  "language_info": {
   "codemirror_mode": {
    "name": "ipython",
    "version": 3
   },
   "file_extension": ".py",
   "mimetype": "text/x-python",
   "name": "python",
   "nbconvert_exporter": "python",
   "pygments_lexer": "ipython3",
   "version": "3.11.7"
  }
 },
 "nbformat": 4,
 "nbformat_minor": 5
}
