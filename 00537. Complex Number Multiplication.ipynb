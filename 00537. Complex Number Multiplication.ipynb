{
 "cells": [
  {
   "cell_type": "code",
   "execution_count": null,
   "id": "1234995b-9f89-49a5-bd77-2f16f3a44227",
   "metadata": {},
   "outputs": [],
   "source": [
    "class Solution:\n",
    "    def complexNumberMultiply(self, num1: str, num2: str) -> str:\n",
    "        n1R, n1I = num1.split(\"+\")\n",
    "        n2R, n2I = num2.split(\"+\")\n",
    "        n1R = int(n1R)\n",
    "        n2R = int(n2R)\n",
    "        n1I = int(n1I[:-1])\n",
    "        n2I = int(n2I[:-1])\n",
    "\n",
    "        resultReal = (n1R*n2R) - (n1I*n2I)\n",
    "        resultIma = (n1R*n2I) + (n1I*n2R)\n",
    "\n",
    "        return str(resultReal)+\"+\"+str(resultIma)+\"i\""
   ]
  }
 ],
 "metadata": {
  "kernelspec": {
   "display_name": "Python 3 (ipykernel)",
   "language": "python",
   "name": "python3"
  },
  "language_info": {
   "codemirror_mode": {
    "name": "ipython",
    "version": 3
   },
   "file_extension": ".py",
   "mimetype": "text/x-python",
   "name": "python",
   "nbconvert_exporter": "python",
   "pygments_lexer": "ipython3",
   "version": "3.11.7"
  }
 },
 "nbformat": 4,
 "nbformat_minor": 5
}
