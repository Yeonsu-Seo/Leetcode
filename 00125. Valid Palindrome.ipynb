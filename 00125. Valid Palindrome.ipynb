{
 "cells": [
  {
   "cell_type": "code",
   "execution_count": 11,
   "id": "5a20dc9a-f977-43bc-a59d-7553527b52dc",
   "metadata": {},
   "outputs": [],
   "source": [
    "class Solution:\n",
    "    def isPalindrome(self, s: str) -> bool:\n",
    "        s = s.lower()\n",
    "        alpha = [chr(i) for i in range(97, 123)]\n",
    "        num = [str(i) for i in range(0, 10)]\n",
    "\n",
    "        newS = \"\"\n",
    "        for i in range(len(s)):\n",
    "            if s[i] in alpha:\n",
    "                newS += s[i]\n",
    "            elif s[i] in num:\n",
    "                newS += s[i]\n",
    "\n",
    "        reS = newS[::-1]\n",
    "        return reS == newS"
   ]
  }
 ],
 "metadata": {
  "kernelspec": {
   "display_name": "Python 3 (ipykernel)",
   "language": "python",
   "name": "python3"
  },
  "language_info": {
   "codemirror_mode": {
    "name": "ipython",
    "version": 3
   },
   "file_extension": ".py",
   "mimetype": "text/x-python",
   "name": "python",
   "nbconvert_exporter": "python",
   "pygments_lexer": "ipython3",
   "version": "3.11.7"
  }
 },
 "nbformat": 4,
 "nbformat_minor": 5
}
