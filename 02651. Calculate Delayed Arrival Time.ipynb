{
 "cells": [
  {
   "cell_type": "code",
   "execution_count": null,
   "id": "1557146b-52a3-4886-97c7-3da45d835100",
   "metadata": {},
   "outputs": [],
   "source": [
    "class Solution:\n",
    "    def findDelayedArrivalTime(self, arrivalTime: int, delayedTime: int) -> int:\n",
    "        time = arrivalTime + delayedTime\n",
    "        while time >= 24:\n",
    "            time -= 24\n",
    "        \n",
    "        return time"
   ]
  }
 ],
 "metadata": {
  "kernelspec": {
   "display_name": "Python 3 (ipykernel)",
   "language": "python",
   "name": "python3"
  },
  "language_info": {
   "codemirror_mode": {
    "name": "ipython",
    "version": 3
   },
   "file_extension": ".py",
   "mimetype": "text/x-python",
   "name": "python",
   "nbconvert_exporter": "python",
   "pygments_lexer": "ipython3",
   "version": "3.11.7"
  }
 },
 "nbformat": 4,
 "nbformat_minor": 5
}
