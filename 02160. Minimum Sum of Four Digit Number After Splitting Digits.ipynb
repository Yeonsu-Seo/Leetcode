{
 "cells": [
  {
   "cell_type": "code",
   "execution_count": null,
   "id": "dfb8fdc2-04ff-4dc6-8eb7-f5bb3663fb8d",
   "metadata": {},
   "outputs": [],
   "source": [
    "class Solution:\n",
    "    def minimumSum(self, num: int) -> int:\n",
    "        nums = []\n",
    "        for i in str(num):\n",
    "            if i != 0:\n",
    "                nums.append(int(i))\n",
    "        nums.sort()\n",
    "\n",
    "        num1 = \"\"\n",
    "        num2 = \"\"\n",
    "        for i in range(len(nums)):\n",
    "            if i%2==0:\n",
    "                num1 += str(nums[i])\n",
    "            else:\n",
    "                num2 += str(nums[i])\n",
    "        return int(num1)+int(num2)"
   ]
  }
 ],
 "metadata": {
  "kernelspec": {
   "display_name": "Python 3 (ipykernel)",
   "language": "python",
   "name": "python3"
  },
  "language_info": {
   "codemirror_mode": {
    "name": "ipython",
    "version": 3
   },
   "file_extension": ".py",
   "mimetype": "text/x-python",
   "name": "python",
   "nbconvert_exporter": "python",
   "pygments_lexer": "ipython3",
   "version": "3.11.7"
  }
 },
 "nbformat": 4,
 "nbformat_minor": 5
}
