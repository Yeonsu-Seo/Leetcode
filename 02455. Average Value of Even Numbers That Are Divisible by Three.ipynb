{
 "cells": [
  {
   "cell_type": "code",
   "execution_count": null,
   "id": "dda4c285-b0d8-4790-914a-7a8b4397a876",
   "metadata": {},
   "outputs": [],
   "source": [
    "class Solution:\n",
    "    def averageValue(self, nums: List[int]) -> int:\n",
    "        numList = [num for num in nums if num%6==0]\n",
    "        if len(numList)==0:\n",
    "            return 0\n",
    "        return int(sum(numList)/len(numList))"
   ]
  }
 ],
 "metadata": {
  "kernelspec": {
   "display_name": "Python 3 (ipykernel)",
   "language": "python",
   "name": "python3"
  },
  "language_info": {
   "codemirror_mode": {
    "name": "ipython",
    "version": 3
   },
   "file_extension": ".py",
   "mimetype": "text/x-python",
   "name": "python",
   "nbconvert_exporter": "python",
   "pygments_lexer": "ipython3",
   "version": "3.11.7"
  }
 },
 "nbformat": 4,
 "nbformat_minor": 5
}
