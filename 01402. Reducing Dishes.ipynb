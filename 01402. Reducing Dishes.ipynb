{
 "cells": [
  {
   "cell_type": "code",
   "execution_count": null,
   "id": "0f0a7baa-d5e8-4faf-adaf-21596f2a20ba",
   "metadata": {},
   "outputs": [],
   "source": [
    "class Solution:\n",
    "    def maxSatisfaction(self, satisfaction: List[int]) -> int:\n",
    "        if max(satisfaction) <= 0:\n",
    "            return 0\n",
    "        satisfaction.sort()\n",
    "\n",
    "        result = []\n",
    "        num = len([i for i in satisfaction if i<0])\n",
    "        for i in range(num+1):\n",
    "            temp = [j*satisfaction[j-1] for j in range(1, len(satisfaction)+1)]\n",
    "            result.append(sum(temp))\n",
    "            satisfaction = satisfaction[1:]\n",
    "\n",
    "        return max(result)"
   ]
  }
 ],
 "metadata": {
  "kernelspec": {
   "display_name": "Python 3 (ipykernel)",
   "language": "python",
   "name": "python3"
  },
  "language_info": {
   "codemirror_mode": {
    "name": "ipython",
    "version": 3
   },
   "file_extension": ".py",
   "mimetype": "text/x-python",
   "name": "python",
   "nbconvert_exporter": "python",
   "pygments_lexer": "ipython3",
   "version": "3.11.7"
  }
 },
 "nbformat": 4,
 "nbformat_minor": 5
}
