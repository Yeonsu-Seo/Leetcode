{
 "cells": [
  {
   "cell_type": "code",
   "execution_count": null,
   "id": "85060263-0e0e-4753-929a-ac1cfc655cda",
   "metadata": {},
   "outputs": [],
   "source": [
    "class Solution:\n",
    "    def vowelStrings(self, words: List[str], left: int, right: int) -> int:\n",
    "        vowel = \"aeiou\"\n",
    "        count = 0\n",
    "        for i in range(left, right+1):\n",
    "            word = words[i]\n",
    "            if (word[-1] in vowel) and(word[0] in vowel):\n",
    "                count += 1\n",
    "        return count"
   ]
  }
 ],
 "metadata": {
  "kernelspec": {
   "display_name": "Python 3 (ipykernel)",
   "language": "python",
   "name": "python3"
  },
  "language_info": {
   "codemirror_mode": {
    "name": "ipython",
    "version": 3
   },
   "file_extension": ".py",
   "mimetype": "text/x-python",
   "name": "python",
   "nbconvert_exporter": "python",
   "pygments_lexer": "ipython3",
   "version": "3.11.7"
  }
 },
 "nbformat": 4,
 "nbformat_minor": 5
}
