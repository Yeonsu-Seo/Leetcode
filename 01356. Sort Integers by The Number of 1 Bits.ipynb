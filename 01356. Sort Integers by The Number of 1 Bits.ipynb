{
 "cells": [
  {
   "cell_type": "code",
   "execution_count": null,
   "id": "de222279-3237-4e36-9f49-599646c6026a",
   "metadata": {},
   "outputs": [],
   "source": [
    "class Solution:\n",
    "    def sortByBits(self, arr: List[int]) -> List[int]:\n",
    "        numDict = {}\n",
    "        for i in arr:\n",
    "            nums = bin(i).count(\"1\")\n",
    "            numDict[nums] = numDict.get(nums, []) + [i]\n",
    "        \n",
    "        result = []\n",
    "        numList = list(numDict.keys())\n",
    "        numList.sort()\n",
    "        for i in numList:\n",
    "            temp = numDict[i]\n",
    "            temp.sort()\n",
    "            result += temp\n",
    "        return result"
   ]
  }
 ],
 "metadata": {
  "kernelspec": {
   "display_name": "Python 3 (ipykernel)",
   "language": "python",
   "name": "python3"
  },
  "language_info": {
   "codemirror_mode": {
    "name": "ipython",
    "version": 3
   },
   "file_extension": ".py",
   "mimetype": "text/x-python",
   "name": "python",
   "nbconvert_exporter": "python",
   "pygments_lexer": "ipython3",
   "version": "3.11.7"
  }
 },
 "nbformat": 4,
 "nbformat_minor": 5
}
