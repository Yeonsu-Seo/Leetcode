{
 "cells": [
  {
   "cell_type": "code",
   "execution_count": null,
   "id": "345d6afe-3cc0-4a80-bdb2-17b3fe04ff9b",
   "metadata": {},
   "outputs": [],
   "source": [
    "class Solution:\n",
    "    def truncateSentence(self, s: str, k: int) -> str:\n",
    "        s = s.split()\n",
    "        return \" \".join(s[:k])"
   ]
  }
 ],
 "metadata": {
  "kernelspec": {
   "display_name": "Python 3 (ipykernel)",
   "language": "python",
   "name": "python3"
  },
  "language_info": {
   "codemirror_mode": {
    "name": "ipython",
    "version": 3
   },
   "file_extension": ".py",
   "mimetype": "text/x-python",
   "name": "python",
   "nbconvert_exporter": "python",
   "pygments_lexer": "ipython3",
   "version": "3.11.7"
  }
 },
 "nbformat": 4,
 "nbformat_minor": 5
}
