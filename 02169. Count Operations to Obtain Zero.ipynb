{
 "cells": [
  {
   "cell_type": "code",
   "execution_count": null,
   "id": "045f46d9-c63d-4670-b191-06c2c995ada8",
   "metadata": {},
   "outputs": [],
   "source": [
    "class Solution:\n",
    "    def countOperations(self, num1: int, num2: int) -> int:\n",
    "        count = 0\n",
    "        while num1 != 0 and num2 != 0:\n",
    "            if num1>num2:\n",
    "                num1 -= num2\n",
    "            else:\n",
    "                num2 -= num1\n",
    "            count += 1\n",
    "        return count"
   ]
  }
 ],
 "metadata": {
  "kernelspec": {
   "display_name": "Python 3 (ipykernel)",
   "language": "python",
   "name": "python3"
  },
  "language_info": {
   "codemirror_mode": {
    "name": "ipython",
    "version": 3
   },
   "file_extension": ".py",
   "mimetype": "text/x-python",
   "name": "python",
   "nbconvert_exporter": "python",
   "pygments_lexer": "ipython3",
   "version": "3.11.7"
  }
 },
 "nbformat": 4,
 "nbformat_minor": 5
}
