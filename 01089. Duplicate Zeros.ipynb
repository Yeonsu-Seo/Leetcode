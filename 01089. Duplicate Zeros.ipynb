{
 "cells": [
  {
   "cell_type": "code",
   "execution_count": null,
   "id": "c8306aa6-cf8f-4fbf-97cb-b97986700991",
   "metadata": {},
   "outputs": [],
   "source": [
    "class Solution:\n",
    "    def duplicateZeros(self, arr: List[int]) -> None:\n",
    "        \n",
    "        i = 0\n",
    "        while i < len(arr):\n",
    "            e = arr[i]\n",
    "            if e == 0:\n",
    "                for j in range(len(arr)-1, i, -1):\n",
    "                    arr[j] = arr[j-1]\n",
    "                i += 2\n",
    "            else:\n",
    "                i += 1"
   ]
  }
 ],
 "metadata": {
  "kernelspec": {
   "display_name": "Python 3 (ipykernel)",
   "language": "python",
   "name": "python3"
  },
  "language_info": {
   "codemirror_mode": {
    "name": "ipython",
    "version": 3
   },
   "file_extension": ".py",
   "mimetype": "text/x-python",
   "name": "python",
   "nbconvert_exporter": "python",
   "pygments_lexer": "ipython3",
   "version": "3.11.7"
  }
 },
 "nbformat": 4,
 "nbformat_minor": 5
}
