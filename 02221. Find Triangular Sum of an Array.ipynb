{
 "cells": [
  {
   "cell_type": "code",
   "execution_count": null,
   "id": "2caf610f-ae64-4f1a-8e1a-128d26acdd0d",
   "metadata": {},
   "outputs": [],
   "source": [
    "class Solution:\n",
    "    def triangularSum(self, nums: List[int]) -> int:\n",
    "        for i in range(len(nums)-1):\n",
    "            new = []\n",
    "            for j in range(len(nums)-1):\n",
    "                newnum = nums[j] + nums[j+1]\n",
    "                newnum = int(str(newnum)[-1])\n",
    "                new.append(newnum)\n",
    "            nums = new\n",
    "        return nums[0]"
   ]
  }
 ],
 "metadata": {
  "kernelspec": {
   "display_name": "Python 3 (ipykernel)",
   "language": "python",
   "name": "python3"
  },
  "language_info": {
   "codemirror_mode": {
    "name": "ipython",
    "version": 3
   },
   "file_extension": ".py",
   "mimetype": "text/x-python",
   "name": "python",
   "nbconvert_exporter": "python",
   "pygments_lexer": "ipython3",
   "version": "3.11.7"
  }
 },
 "nbformat": 4,
 "nbformat_minor": 5
}
