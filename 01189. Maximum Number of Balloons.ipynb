{
 "cells": [
  {
   "cell_type": "code",
   "execution_count": null,
   "id": "6da28d8d-453c-4ce8-a479-fdf80ee32bf5",
   "metadata": {},
   "outputs": [],
   "source": [
    "class Solution:\n",
    "    def maxNumberOfBalloons(self, text: str) -> int:\n",
    "        count = []\n",
    "        textList = list(text)\n",
    "        textSet = set(list(text))\n",
    "        sSet = {'b', 'a', 'n', 'l', 'o'}\n",
    "        if (textSet.intersection(sSet)) != sSet:\n",
    "            return 0\n",
    "\n",
    "        for i in textSet:\n",
    "            if i in \"ban\":\n",
    "                count.append(textList.count(i))\n",
    "            elif i in \"lo\":\n",
    "                count.append(textList.count(i)//2)\n",
    "        \n",
    "        return min(count)"
   ]
  }
 ],
 "metadata": {
  "kernelspec": {
   "display_name": "Python 3 (ipykernel)",
   "language": "python",
   "name": "python3"
  },
  "language_info": {
   "codemirror_mode": {
    "name": "ipython",
    "version": 3
   },
   "file_extension": ".py",
   "mimetype": "text/x-python",
   "name": "python",
   "nbconvert_exporter": "python",
   "pygments_lexer": "ipython3",
   "version": "3.11.7"
  }
 },
 "nbformat": 4,
 "nbformat_minor": 5
}
