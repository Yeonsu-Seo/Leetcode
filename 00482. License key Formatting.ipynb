{
 "cells": [
  {
   "cell_type": "code",
   "execution_count": 3,
   "id": "5541fc2e-ef9b-4ef9-8274-53029f37792a",
   "metadata": {},
   "outputs": [],
   "source": [
    "class Solution:\n",
    "    def licenseKeyFormatting(self, s: str, k: int) -> str:\n",
    "        if set(s.split(\"-\")) == {''}:\n",
    "            return \"\"\n",
    "            \n",
    "        s = s.upper()\n",
    "        temp = 0\n",
    "        newS = \"\"\n",
    "        for i in s[::-1]:\n",
    "            if temp == k:\n",
    "                if i == \"-\":\n",
    "                    newS += \"-\"\n",
    "                    temp = 0\n",
    "                else:\n",
    "                    newS += \"-\"\n",
    "                    newS += i\n",
    "                    temp = 1\n",
    "                continue\n",
    "            if i == \"-\":\n",
    "                if temp < k:\n",
    "                    continue\n",
    "            newS += i\n",
    "            temp += 1\n",
    "\n",
    "        s = newS[::-1]\n",
    "        if s[0] == \"-\":\n",
    "            return s[1:]\n",
    "        return s"
   ]
  }
 ],
 "metadata": {
  "kernelspec": {
   "display_name": "Python 3 (ipykernel)",
   "language": "python",
   "name": "python3"
  },
  "language_info": {
   "codemirror_mode": {
    "name": "ipython",
    "version": 3
   },
   "file_extension": ".py",
   "mimetype": "text/x-python",
   "name": "python",
   "nbconvert_exporter": "python",
   "pygments_lexer": "ipython3",
   "version": "3.11.7"
  }
 },
 "nbformat": 4,
 "nbformat_minor": 5
}
