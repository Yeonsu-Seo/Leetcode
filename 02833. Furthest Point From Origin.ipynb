{
 "cells": [
  {
   "cell_type": "code",
   "execution_count": null,
   "id": "d13f97e4-86c3-4146-aa74-e79bcbc115a7",
   "metadata": {},
   "outputs": [],
   "source": [
    "class Solution:\n",
    "    def furthestDistanceFromOrigin(self, moves: str) -> int:\n",
    "        moveList = list(moves)\n",
    "\n",
    "        l = moveList.count(\"L\")\n",
    "        r = moveList.count(\"R\")\n",
    "        if l == r:\n",
    "            return moveList.count(\"_\")\n",
    "        elif l > r:\n",
    "            return l-r+moveList.count(\"_\")\n",
    "        else:\n",
    "            return -l+r+moveList.count(\"_\")"
   ]
  }
 ],
 "metadata": {
  "kernelspec": {
   "display_name": "Python 3 (ipykernel)",
   "language": "python",
   "name": "python3"
  },
  "language_info": {
   "codemirror_mode": {
    "name": "ipython",
    "version": 3
   },
   "file_extension": ".py",
   "mimetype": "text/x-python",
   "name": "python",
   "nbconvert_exporter": "python",
   "pygments_lexer": "ipython3",
   "version": "3.11.7"
  }
 },
 "nbformat": 4,
 "nbformat_minor": 5
}
