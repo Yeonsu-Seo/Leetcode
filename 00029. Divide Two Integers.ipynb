{
 "cells": [
  {
   "cell_type": "code",
   "execution_count": null,
   "id": "ddde0e1b-0b5b-484c-90b2-137416468167",
   "metadata": {},
   "outputs": [],
   "source": [
    "class Solution:\n",
    "    def divide(self, dividend: int, divisor: int) -> int:\n",
    "        if dividend*divisor < 0:\n",
    "            if dividend/divisor == dividend//divisor:\n",
    "                quotient = dividend//divisor\n",
    "            else:\n",
    "                quotient = dividend//divisor + 1\n",
    "        else:\n",
    "            quotient = dividend//divisor\n",
    "        \n",
    "        if (quotient<-2**31):\n",
    "            return -2**31\n",
    "        elif (quotient>2**31-1):\n",
    "            return 2**31-1\n",
    "        else:\n",
    "            return quotient"
   ]
  }
 ],
 "metadata": {
  "kernelspec": {
   "display_name": "Python 3 (ipykernel)",
   "language": "python",
   "name": "python3"
  },
  "language_info": {
   "codemirror_mode": {
    "name": "ipython",
    "version": 3
   },
   "file_extension": ".py",
   "mimetype": "text/x-python",
   "name": "python",
   "nbconvert_exporter": "python",
   "pygments_lexer": "ipython3",
   "version": "3.11.7"
  }
 },
 "nbformat": 4,
 "nbformat_minor": 5
}
