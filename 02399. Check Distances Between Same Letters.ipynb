{
 "cells": [
  {
   "cell_type": "code",
   "execution_count": null,
   "id": "7f0dc85e-4cde-4ca1-817c-e0b29aa36da9",
   "metadata": {},
   "outputs": [],
   "source": [
    "    def checkDistances(self, s: str, distance: List[int]) -> bool:\n",
    "        for i in range(len(distance)):\n",
    "            letter = chr(i+97)\n",
    "            index1 = s.find(letter)\n",
    "            index2 = s.find(letter, index1+1)\n",
    "            if index1 == -1:\n",
    "                continue\n",
    "            if distance[i] != index2-index1-1:\n",
    "                return False\n",
    "        return True"
   ]
  }
 ],
 "metadata": {
  "kernelspec": {
   "display_name": "Python 3 (ipykernel)",
   "language": "python",
   "name": "python3"
  },
  "language_info": {
   "codemirror_mode": {
    "name": "ipython",
    "version": 3
   },
   "file_extension": ".py",
   "mimetype": "text/x-python",
   "name": "python",
   "nbconvert_exporter": "python",
   "pygments_lexer": "ipython3",
   "version": "3.11.7"
  }
 },
 "nbformat": 4,
 "nbformat_minor": 5
}
