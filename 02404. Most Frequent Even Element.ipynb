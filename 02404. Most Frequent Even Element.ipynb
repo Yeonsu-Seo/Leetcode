{
 "cells": [
  {
   "cell_type": "code",
   "execution_count": null,
   "id": "bf9fb4bf-8d14-4738-ae4b-00703d2c301d",
   "metadata": {},
   "outputs": [],
   "source": [
    "class Solution:\n",
    "    def mostFrequentEven(self, nums: List[int]) -> int:\n",
    "        even_nums = []\n",
    "        max_fre = 0\n",
    "        for num in set(nums):\n",
    "            if num%2==0:\n",
    "                if max_fre == nums.count(num):\n",
    "                    even_nums.append(num)\n",
    "                elif max_fre < nums.count(num):\n",
    "                    even_nums = [num]\n",
    "                    max_fre = nums.count(num)\n",
    "        if even_nums == []:\n",
    "            return -1\n",
    "        return min(even_nums)"
   ]
  }
 ],
 "metadata": {
  "kernelspec": {
   "display_name": "Python 3 (ipykernel)",
   "language": "python",
   "name": "python3"
  },
  "language_info": {
   "codemirror_mode": {
    "name": "ipython",
    "version": 3
   },
   "file_extension": ".py",
   "mimetype": "text/x-python",
   "name": "python",
   "nbconvert_exporter": "python",
   "pygments_lexer": "ipython3",
   "version": "3.11.7"
  }
 },
 "nbformat": 4,
 "nbformat_minor": 5
}
