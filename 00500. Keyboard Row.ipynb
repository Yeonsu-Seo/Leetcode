{
 "cells": [
  {
   "cell_type": "code",
   "execution_count": null,
   "id": "3a186fb7-0ded-40ac-918e-739f5313be8c",
   "metadata": {},
   "outputs": [],
   "source": [
    "class Solution:\n",
    "    def findWords(self, words: List[str]) -> List[str]:\n",
    "        rowList = [\"qwertyuiopQWERTYUIOP\", \"asdfghjklASDFGHJKL\", \"zxcvbnmZXCVBNM\"]\n",
    "        wordList = []\n",
    "\n",
    "        for i in words:\n",
    "            count = len(i) - 1\n",
    "            if i[0] in rowList[0]:\n",
    "                for j in i[1:]:\n",
    "                    if j in rowList[0]:\n",
    "                        count -= 1\n",
    "            elif i[0] in rowList[1]:\n",
    "                for j in i[1:]:\n",
    "                    if j in rowList[1]:\n",
    "                        count -= 1\n",
    "            elif i[0] in rowList[2]:\n",
    "                for j in i[1:]:\n",
    "                    if j in rowList[2]:\n",
    "                        count -= 1\n",
    "            if count == 0:\n",
    "                wordList.append(i)\n",
    "        return wordList"
   ]
  }
 ],
 "metadata": {
  "kernelspec": {
   "display_name": "Python 3 (ipykernel)",
   "language": "python",
   "name": "python3"
  },
  "language_info": {
   "codemirror_mode": {
    "name": "ipython",
    "version": 3
   },
   "file_extension": ".py",
   "mimetype": "text/x-python",
   "name": "python",
   "nbconvert_exporter": "python",
   "pygments_lexer": "ipython3",
   "version": "3.11.7"
  }
 },
 "nbformat": 4,
 "nbformat_minor": 5
}
