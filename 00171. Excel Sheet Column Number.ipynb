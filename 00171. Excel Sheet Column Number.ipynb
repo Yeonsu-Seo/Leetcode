{
 "cells": [
  {
   "cell_type": "code",
   "execution_count": 69,
   "id": "57048617-fc39-428b-ba61-1d07768a29cc",
   "metadata": {},
   "outputs": [],
   "source": [
    "class Solution:\n",
    "    def titleToNumber(self, columnTitle: str) -> int:\n",
    "        numList = [i for i in range(65, 91)]\n",
    "        num = 0\n",
    "\n",
    "        k = 0\n",
    "        for i in columnTitle[::-1]:\n",
    "            num += (ord(i)-64) * (26**k)\n",
    "            k += 1\n",
    "\n",
    "        return num"
   ]
  }
 ],
 "metadata": {
  "kernelspec": {
   "display_name": "Python 3 (ipykernel)",
   "language": "python",
   "name": "python3"
  },
  "language_info": {
   "codemirror_mode": {
    "name": "ipython",
    "version": 3
   },
   "file_extension": ".py",
   "mimetype": "text/x-python",
   "name": "python",
   "nbconvert_exporter": "python",
   "pygments_lexer": "ipython3",
   "version": "3.11.7"
  }
 },
 "nbformat": 4,
 "nbformat_minor": 5
}
