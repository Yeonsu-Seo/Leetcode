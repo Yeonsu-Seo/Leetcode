{
 "cells": [
  {
   "cell_type": "code",
   "execution_count": null,
   "id": "c3ca80f3-87f6-4be7-bceb-a3b26bd00609",
   "metadata": {},
   "outputs": [],
   "source": [
    "class Solution:\n",
    "    def smallestEquivalentString(self, s1: str, s2: str, baseStr: str) -> str:\n",
    "        total = []\n",
    "        classes = []\n",
    "        \n",
    "        for i in range(len(s1)):\n",
    "            if (s1[i] not in total) and (s2[i] not in total):\n",
    "                classes.append([s1[i], s2[i]])\n",
    "                total.append(s1[i])\n",
    "                total.append(s2[i])\n",
    "            elif (s1[i] not in total):\n",
    "                for j in range(len(classes)):\n",
    "                    if s2[i] in classes[j]:\n",
    "                        classes[j].append(s1[i])\n",
    "                        total.append(s1[i])\n",
    "                        break\n",
    "            elif (s2[i] not in total):\n",
    "                for j in range(len(classes)):\n",
    "                    if s1[i] in classes[j]:\n",
    "                        classes[j].append(s2[i])\n",
    "                        total.append(s2[i])\n",
    "                        break\n",
    "            else:\n",
    "                for j in range(len(classes)):\n",
    "                    if s1[i] in classes[j]:\n",
    "                        index1 = j\n",
    "                    if s2[i] in classes[j]:\n",
    "                        index2 = j\n",
    "                if index1 != index2:\n",
    "                    temp = classes.pop(max(index1, index2))\n",
    "                    temp += classes.pop(min(index1, index2))\n",
    "                    classes.append(temp)\n",
    "        \n",
    "        temp = []\n",
    "        for i in range(len(classes)):\n",
    "            classes[i].sort()\n",
    "            temp.append(classes[i])\n",
    "        classes = temp\n",
    "\n",
    "        result = \"\"\n",
    "        for i in baseStr:\n",
    "            if i not in total:\n",
    "                result += i\n",
    "            else:\n",
    "                for j in classes:\n",
    "                    if i in j:\n",
    "                        result += j[0]\n",
    "                        break\n",
    "        return result"
   ]
  }
 ],
 "metadata": {
  "kernelspec": {
   "display_name": "Python 3 (ipykernel)",
   "language": "python",
   "name": "python3"
  },
  "language_info": {
   "codemirror_mode": {
    "name": "ipython",
    "version": 3
   },
   "file_extension": ".py",
   "mimetype": "text/x-python",
   "name": "python",
   "nbconvert_exporter": "python",
   "pygments_lexer": "ipython3",
   "version": "3.11.7"
  }
 },
 "nbformat": 4,
 "nbformat_minor": 5
}
