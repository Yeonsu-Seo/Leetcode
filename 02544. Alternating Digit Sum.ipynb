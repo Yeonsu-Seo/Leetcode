{
 "cells": [
  {
   "cell_type": "code",
   "execution_count": null,
   "id": "218a95fd-d92a-481f-9e66-412ac4c6665d",
   "metadata": {},
   "outputs": [],
   "source": [
    "class Solution:\n",
    "    def alternateDigitSum(self, n: int) -> int:\n",
    "        result = 0\n",
    "        n = list(str(n))\n",
    "        for i in range(len(n)):\n",
    "            i = int(i)\n",
    "            if i%2==0:\n",
    "                result += int(n[i])\n",
    "            else:\n",
    "                result -= int(n[i])\n",
    "        return result"
   ]
  }
 ],
 "metadata": {
  "kernelspec": {
   "display_name": "Python 3 (ipykernel)",
   "language": "python",
   "name": "python3"
  },
  "language_info": {
   "codemirror_mode": {
    "name": "ipython",
    "version": 3
   },
   "file_extension": ".py",
   "mimetype": "text/x-python",
   "name": "python",
   "nbconvert_exporter": "python",
   "pygments_lexer": "ipython3",
   "version": "3.11.7"
  }
 },
 "nbformat": 4,
 "nbformat_minor": 5
}
