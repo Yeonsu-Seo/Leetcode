{
 "cells": [
  {
   "cell_type": "code",
   "execution_count": null,
   "id": "891ecacb-1b55-4bc8-81e8-1d9ff8a2e35b",
   "metadata": {},
   "outputs": [],
   "source": [
    "class Solution:\n",
    "    def splitNum(self, num: int) -> int:\n",
    "        numList = [i for i in str(num)]\n",
    "        numList.sort()\n",
    "        num1 = int(\"\".join([numList[i] for i in range(len(numList)) if i%2==0]))\n",
    "        num2 = int(\"\".join([numList[i] for i in range(len(numList)) if i%2==1]))\n",
    "        return num1+num2\n",
    "        "
   ]
  }
 ],
 "metadata": {
  "kernelspec": {
   "display_name": "Python 3 (ipykernel)",
   "language": "python",
   "name": "python3"
  },
  "language_info": {
   "codemirror_mode": {
    "name": "ipython",
    "version": 3
   },
   "file_extension": ".py",
   "mimetype": "text/x-python",
   "name": "python",
   "nbconvert_exporter": "python",
   "pygments_lexer": "ipython3",
   "version": "3.11.7"
  }
 },
 "nbformat": 4,
 "nbformat_minor": 5
}
