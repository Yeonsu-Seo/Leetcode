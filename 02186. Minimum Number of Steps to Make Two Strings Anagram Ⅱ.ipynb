{
 "cells": [
  {
   "cell_type": "code",
   "execution_count": null,
   "id": "96f41084-91a6-4235-9956-38d5d94237c8",
   "metadata": {},
   "outputs": [],
   "source": [
    "class Solution:\n",
    "    def minSteps(self, s: str, t: str) -> int:\n",
    "        setS = set(list(s))\n",
    "        setT = set(list(t))\n",
    "        total = setS.union(setT)\n",
    "        count = 0\n",
    "\n",
    "        for i in total:\n",
    "            if s.count(i) > t.count(i):\n",
    "                count += s.count(i) - t.count(i)\n",
    "            elif s.count(i) < t.count(i):\n",
    "                count += t.count(i) - s.count(i)\n",
    "        return count\n"
   ]
  }
 ],
 "metadata": {
  "kernelspec": {
   "display_name": "Python 3 (ipykernel)",
   "language": "python",
   "name": "python3"
  },
  "language_info": {
   "codemirror_mode": {
    "name": "ipython",
    "version": 3
   },
   "file_extension": ".py",
   "mimetype": "text/x-python",
   "name": "python",
   "nbconvert_exporter": "python",
   "pygments_lexer": "ipython3",
   "version": "3.11.7"
  }
 },
 "nbformat": 4,
 "nbformat_minor": 5
}
