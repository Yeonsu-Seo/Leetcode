{
 "cells": [
  {
   "cell_type": "code",
   "execution_count": null,
   "id": "7b9684ca-666e-4d9f-9bbe-2a67c4c047c1",
   "metadata": {},
   "outputs": [],
   "source": [
    "class Solution:\n",
    "    def kthFactor(self, n: int, k: int) -> int:\n",
    "        count = 0\n",
    "\n",
    "        for i in range(1, n+1):\n",
    "            if n%i==0:\n",
    "                count += 1\n",
    "            if count == k:\n",
    "                return i\n",
    "\n",
    "        return -1"
   ]
  }
 ],
 "metadata": {
  "kernelspec": {
   "display_name": "Python 3 (ipykernel)",
   "language": "python",
   "name": "python3"
  },
  "language_info": {
   "codemirror_mode": {
    "name": "ipython",
    "version": 3
   },
   "file_extension": ".py",
   "mimetype": "text/x-python",
   "name": "python",
   "nbconvert_exporter": "python",
   "pygments_lexer": "ipython3",
   "version": "3.11.7"
  }
 },
 "nbformat": 4,
 "nbformat_minor": 5
}
