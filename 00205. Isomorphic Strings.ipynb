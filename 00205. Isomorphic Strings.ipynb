{
 "cells": [
  {
   "cell_type": "code",
   "execution_count": 7,
   "id": "025f9ac8-ac1f-43b4-9c08-cd7733a55c7a",
   "metadata": {},
   "outputs": [],
   "source": [
    "class Solution:\n",
    "    def isIsomorphic(self, s: str, t: str) -> bool:\n",
    "        if len(s) != len(t):\n",
    "            return False\n",
    "        \n",
    "        tranDict = {}\n",
    "        for i in range(len(s)):\n",
    "            if s[i] not in tranDict.keys():\n",
    "                if t[i] in tranDict.values():\n",
    "                    return False\n",
    "                tranDict[s[i]] = t[i]\n",
    "            else:\n",
    "                if tranDict[s[i]] != t[i]:\n",
    "                    return False\n",
    "        return True"
   ]
  }
 ],
 "metadata": {
  "kernelspec": {
   "display_name": "Python 3 (ipykernel)",
   "language": "python",
   "name": "python3"
  },
  "language_info": {
   "codemirror_mode": {
    "name": "ipython",
    "version": 3
   },
   "file_extension": ".py",
   "mimetype": "text/x-python",
   "name": "python",
   "nbconvert_exporter": "python",
   "pygments_lexer": "ipython3",
   "version": "3.11.7"
  }
 },
 "nbformat": 4,
 "nbformat_minor": 5
}
