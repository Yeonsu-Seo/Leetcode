{
 "cells": [
  {
   "cell_type": "code",
   "execution_count": null,
   "id": "959d2185-7fd4-478c-8d63-bf664d2a3ee1",
   "metadata": {},
   "outputs": [],
   "source": [
    "class Solution:\n",
    "    def findSubarrays(self, nums: List[int]) -> bool:\n",
    "        subsum = []\n",
    "        for i in range(len(nums)-1):\n",
    "            subsum.append(nums[i]+nums[i+1])\n",
    "        return len(subsum) != len(set(subsum))"
   ]
  }
 ],
 "metadata": {
  "kernelspec": {
   "display_name": "Python 3 (ipykernel)",
   "language": "python",
   "name": "python3"
  },
  "language_info": {
   "codemirror_mode": {
    "name": "ipython",
    "version": 3
   },
   "file_extension": ".py",
   "mimetype": "text/x-python",
   "name": "python",
   "nbconvert_exporter": "python",
   "pygments_lexer": "ipython3",
   "version": "3.11.7"
  }
 },
 "nbformat": 4,
 "nbformat_minor": 5
}
