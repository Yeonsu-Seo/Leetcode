{
 "cells": [
  {
   "cell_type": "code",
   "execution_count": null,
   "id": "81e1e89f-736f-4ce7-b078-2229e80c2a8e",
   "metadata": {},
   "outputs": [],
   "source": [
    "class Solution:\n",
    "    def sumBase(self, n: int, k: int) -> int:\n",
    "        baseK= \"\"\n",
    "\n",
    "        while n >= 1:\n",
    "            baseK += str(n%k)\n",
    "            n //= k\n",
    "        \n",
    "        baseK = baseK[::-1]\n",
    "\n",
    "        answer = 0\n",
    "        for i in baseK:\n",
    "            answer += int(i)\n",
    "        \n",
    "        return answer"
   ]
  }
 ],
 "metadata": {
  "kernelspec": {
   "display_name": "Python 3 (ipykernel)",
   "language": "python",
   "name": "python3"
  },
  "language_info": {
   "codemirror_mode": {
    "name": "ipython",
    "version": 3
   },
   "file_extension": ".py",
   "mimetype": "text/x-python",
   "name": "python",
   "nbconvert_exporter": "python",
   "pygments_lexer": "ipython3",
   "version": "3.11.7"
  }
 },
 "nbformat": 4,
 "nbformat_minor": 5
}
