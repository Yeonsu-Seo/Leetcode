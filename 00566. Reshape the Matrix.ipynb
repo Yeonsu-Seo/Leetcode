{
 "cells": [
  {
   "cell_type": "code",
   "execution_count": 5,
   "id": "ec0363f8-b558-4be3-8698-4bda0b2f0735",
   "metadata": {},
   "outputs": [
    {
     "ename": "NameError",
     "evalue": "name 'List' is not defined",
     "output_type": "error",
     "traceback": [
      "\u001b[1;31m---------------------------------------------------------------------------\u001b[0m",
      "\u001b[1;31mNameError\u001b[0m                                 Traceback (most recent call last)",
      "Cell \u001b[1;32mIn[5], line 1\u001b[0m\n\u001b[1;32m----> 1\u001b[0m \u001b[38;5;28;01mclass\u001b[39;00m \u001b[38;5;21;01mSolution\u001b[39;00m:\n\u001b[0;32m      2\u001b[0m     \u001b[38;5;28;01mdef\u001b[39;00m \u001b[38;5;21mmatrixReshape\u001b[39m(\u001b[38;5;28mself\u001b[39m, mat: List[List[\u001b[38;5;28mint\u001b[39m]], r: \u001b[38;5;28mint\u001b[39m, c: \u001b[38;5;28mint\u001b[39m) \u001b[38;5;241m-\u001b[39m\u001b[38;5;241m>\u001b[39m List[List[\u001b[38;5;28mint\u001b[39m]]:\n\u001b[0;32m      3\u001b[0m         \u001b[38;5;28;01mif\u001b[39;00m \u001b[38;5;28mlen\u001b[39m(mat)\u001b[38;5;241m*\u001b[39m\u001b[38;5;28mlen\u001b[39m(mat[\u001b[38;5;241m0\u001b[39m]) \u001b[38;5;241m!=\u001b[39m r\u001b[38;5;241m*\u001b[39mc:\n",
      "Cell \u001b[1;32mIn[5], line 2\u001b[0m, in \u001b[0;36mSolution\u001b[1;34m()\u001b[0m\n\u001b[0;32m      1\u001b[0m \u001b[38;5;28;01mclass\u001b[39;00m \u001b[38;5;21;01mSolution\u001b[39;00m:\n\u001b[1;32m----> 2\u001b[0m     \u001b[38;5;28;01mdef\u001b[39;00m \u001b[38;5;21mmatrixReshape\u001b[39m(\u001b[38;5;28mself\u001b[39m, mat: List[List[\u001b[38;5;28mint\u001b[39m]], r: \u001b[38;5;28mint\u001b[39m, c: \u001b[38;5;28mint\u001b[39m) \u001b[38;5;241m-\u001b[39m\u001b[38;5;241m>\u001b[39m List[List[\u001b[38;5;28mint\u001b[39m]]:\n\u001b[0;32m      3\u001b[0m         \u001b[38;5;28;01mif\u001b[39;00m \u001b[38;5;28mlen\u001b[39m(mat)\u001b[38;5;241m*\u001b[39m\u001b[38;5;28mlen\u001b[39m(mat[\u001b[38;5;241m0\u001b[39m]) \u001b[38;5;241m!=\u001b[39m r\u001b[38;5;241m*\u001b[39mc:\n\u001b[0;32m      4\u001b[0m             \u001b[38;5;28;01mreturn\u001b[39;00m mat\n",
      "\u001b[1;31mNameError\u001b[0m: name 'List' is not defined"
     ]
    }
   ],
   "source": [
    "class Solution:\n",
    "    def matrixReshape(self, mat: List[List[int]], r: int, c: int) -> List[List[int]]:\n",
    "        if len(mat)*len(mat[0]) != r*c:\n",
    "            return mat\n",
    "        \n",
    "        newMat = []\n",
    "\n",
    "        row = 0\n",
    "        col = 0\n",
    "        for i in range(r):\n",
    "            rowList = []\n",
    "            for j in range(c):\n",
    "                try:\n",
    "                    rowList.append(mat[row][col])\n",
    "                    col += 1\n",
    "                except:\n",
    "                    row += 1\n",
    "                    rowList.append(mat[row][0])\n",
    "                    col = 1\n",
    "            newMat.append(rowList)\n",
    "\n",
    "        return newMat"
   ]
  }
 ],
 "metadata": {
  "kernelspec": {
   "display_name": "Python 3 (ipykernel)",
   "language": "python",
   "name": "python3"
  },
  "language_info": {
   "codemirror_mode": {
    "name": "ipython",
    "version": 3
   },
   "file_extension": ".py",
   "mimetype": "text/x-python",
   "name": "python",
   "nbconvert_exporter": "python",
   "pygments_lexer": "ipython3",
   "version": "3.11.7"
  }
 },
 "nbformat": 4,
 "nbformat_minor": 5
}
