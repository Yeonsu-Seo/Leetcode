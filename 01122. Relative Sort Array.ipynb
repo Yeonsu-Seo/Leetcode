{
 "cells": [
  {
   "cell_type": "code",
   "execution_count": null,
   "id": "0b6d415b-8d4e-4c28-9d59-e94c4cc35db6",
   "metadata": {},
   "outputs": [],
   "source": [
    "class Solution:\n",
    "    def relativeSortArray(self, arr1: List[int], arr2: List[int]) -> List[int]:\n",
    "        Setarr1 = set(arr1)\n",
    "        result = []\n",
    "        for i in arr2:\n",
    "            result += [i]*(arr1.count(i))\n",
    "        \n",
    "        temp = []\n",
    "        for i in arr1:\n",
    "            if i not in result:\n",
    "                temp.append(i)\n",
    "        temp.sort()\n",
    "\n",
    "        return result+temp"
   ]
  }
 ],
 "metadata": {
  "kernelspec": {
   "display_name": "",
   "name": ""
  },
  "language_info": {
   "name": ""
  }
 },
 "nbformat": 4,
 "nbformat_minor": 5
}
