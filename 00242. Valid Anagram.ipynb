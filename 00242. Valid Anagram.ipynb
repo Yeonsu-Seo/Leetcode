{
 "cells": [
  {
   "cell_type": "code",
   "execution_count": null,
   "id": "24fa8945-fd1b-4b84-92ca-4521d68479d2",
   "metadata": {},
   "outputs": [],
   "source": [
    "class Solution:\n",
    "    def isAnagram(self, s: str, t: str) -> bool:\n",
    "        if len(s) != len(t):\n",
    "            return False\n",
    "            \n",
    "        sDict = {}\n",
    "        for i in s:\n",
    "            if i not in sDict.keys():\n",
    "                sDict[i] = 1\n",
    "            else:\n",
    "                sDict[i] += 1\n",
    "\n",
    "        tSet = set(list(t))\n",
    "        for i in tSet:\n",
    "            if i not in sDict.keys():\n",
    "                return False\n",
    "            elif t.count(i) != sDict[i]:\n",
    "                return False\n",
    "        return True"
   ]
  }
 ],
 "metadata": {
  "kernelspec": {
   "display_name": "Python 3 (ipykernel)",
   "language": "python",
   "name": "python3"
  },
  "language_info": {
   "codemirror_mode": {
    "name": "ipython",
    "version": 3
   },
   "file_extension": ".py",
   "mimetype": "text/x-python",
   "name": "python",
   "nbconvert_exporter": "python",
   "pygments_lexer": "ipython3",
   "version": "3.11.7"
  }
 },
 "nbformat": 4,
 "nbformat_minor": 5
}
