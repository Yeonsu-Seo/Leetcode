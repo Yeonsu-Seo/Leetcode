{
 "cells": [
  {
   "cell_type": "code",
   "execution_count": null,
   "id": "dc73991f-b16a-4267-9a23-9f3db1b98878",
   "metadata": {},
   "outputs": [],
   "source": [
    "class Solution:\n",
    "    def constructRectangle(self, area: int) -> List[int]:\n",
    "        import math\n",
    "\n",
    "        answer = []\n",
    "        \n",
    "        for i in range(1, int(math.sqrt(area))+1):\n",
    "            if area%i==0:\n",
    "                answer.append([area//i,i])\n",
    "        \n",
    "        return answer[-1]"
   ]
  }
 ],
 "metadata": {
  "kernelspec": {
   "display_name": "Python 3 (ipykernel)",
   "language": "python",
   "name": "python3"
  },
  "language_info": {
   "codemirror_mode": {
    "name": "ipython",
    "version": 3
   },
   "file_extension": ".py",
   "mimetype": "text/x-python",
   "name": "python",
   "nbconvert_exporter": "python",
   "pygments_lexer": "ipython3",
   "version": "3.11.7"
  }
 },
 "nbformat": 4,
 "nbformat_minor": 5
}
