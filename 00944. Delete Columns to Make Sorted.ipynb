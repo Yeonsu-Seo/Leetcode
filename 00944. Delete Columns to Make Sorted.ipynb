{
 "cells": [
  {
   "cell_type": "code",
   "execution_count": null,
   "id": "bca5f909-1fd8-467c-af07-95ee6e822df1",
   "metadata": {},
   "outputs": [],
   "source": [
    "class Solution:\n",
    "    def minDeletionSize(self, strs: List[str]) -> int:\n",
    "        result = 0\n",
    "        for i in range(len(strs[0])):\n",
    "            for j in range(len(strs)-1):\n",
    "                if strs[j][i] > strs[j+1][i]:\n",
    "                    result += 1\n",
    "                    break\n",
    "        return result"
   ]
  }
 ],
 "metadata": {
  "kernelspec": {
   "display_name": "Python 3 (ipykernel)",
   "language": "python",
   "name": "python3"
  },
  "language_info": {
   "codemirror_mode": {
    "name": "ipython",
    "version": 3
   },
   "file_extension": ".py",
   "mimetype": "text/x-python",
   "name": "python",
   "nbconvert_exporter": "python",
   "pygments_lexer": "ipython3",
   "version": "3.11.7"
  }
 },
 "nbformat": 4,
 "nbformat_minor": 5
}
