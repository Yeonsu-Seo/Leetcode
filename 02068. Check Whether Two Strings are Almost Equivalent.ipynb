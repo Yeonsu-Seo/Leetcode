{
 "cells": [
  {
   "cell_type": "code",
   "execution_count": null,
   "id": "9efe0233-e2af-4844-a0ec-533bce52fdaa",
   "metadata": {},
   "outputs": [],
   "source": [
    "class Solution:\n",
    "    def checkAlmostEquivalent(self, word1: str, word2: str) -> bool:\n",
    "        word1List = list(word1)\n",
    "        word2List = list(word2)\n",
    "\n",
    "        for i in set(list(word1+word2)):\n",
    "            occur1 = word1List.count(i)\n",
    "            occur2 = word2List.count(i)\n",
    "            if (occur1-occur2>3) or (occur1-occur2<-3):\n",
    "                return False\n",
    "        return True"
   ]
  }
 ],
 "metadata": {
  "kernelspec": {
   "display_name": "Python 3 (ipykernel)",
   "language": "python",
   "name": "python3"
  },
  "language_info": {
   "codemirror_mode": {
    "name": "ipython",
    "version": 3
   },
   "file_extension": ".py",
   "mimetype": "text/x-python",
   "name": "python",
   "nbconvert_exporter": "python",
   "pygments_lexer": "ipython3",
   "version": "3.11.7"
  }
 },
 "nbformat": 4,
 "nbformat_minor": 5
}
