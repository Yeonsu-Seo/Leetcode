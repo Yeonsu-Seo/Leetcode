{
 "cells": [
  {
   "cell_type": "code",
   "execution_count": null,
   "id": "15c7b0bc-51be-45a3-9f5b-8d8bab277e31",
   "metadata": {},
   "outputs": [],
   "source": [
    "class Solution:\n",
    "    def groupThePeople(self, groupSizes: List[int]) -> List[List[int]]:\n",
    "        groups = {}\n",
    "        for i in range(len(groupSizes)):\n",
    "            groups[groupSizes[i]] = groups.get(groupSizes[i], []) + [i]\n",
    "\n",
    "        result = []\n",
    "        for size in groups.keys():\n",
    "            temp = []\n",
    "            count = 0\n",
    "            for i in range(len(groups[size])):\n",
    "                temp.append(groups[size][i])\n",
    "                count += 1\n",
    "                if count == size:\n",
    "                    result.append(temp)\n",
    "                    count = 0\n",
    "                    temp = []\n",
    "        return result\n"
   ]
  }
 ],
 "metadata": {
  "kernelspec": {
   "display_name": "Python 3 (ipykernel)",
   "language": "python",
   "name": "python3"
  },
  "language_info": {
   "codemirror_mode": {
    "name": "ipython",
    "version": 3
   },
   "file_extension": ".py",
   "mimetype": "text/x-python",
   "name": "python",
   "nbconvert_exporter": "python",
   "pygments_lexer": "ipython3",
   "version": "3.11.7"
  }
 },
 "nbformat": 4,
 "nbformat_minor": 5
}
