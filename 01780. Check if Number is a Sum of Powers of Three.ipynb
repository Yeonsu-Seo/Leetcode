{
 "cells": [
  {
   "cell_type": "code",
   "execution_count": null,
   "id": "5130ce6d-78fc-45e2-9e8e-dfd051361127",
   "metadata": {},
   "outputs": [],
   "source": [
    "class Solution:\n",
    "    def checkPowersOfThree(self, n: int) -> bool:\n",
    "        while n != 1:\n",
    "            if n%3==0:\n",
    "                n //= 3\n",
    "            else:\n",
    "                n -= 1\n",
    "                if n%3!=0:\n",
    "                    return False\n",
    "\n",
    "        return True"
   ]
  }
 ],
 "metadata": {
  "kernelspec": {
   "display_name": "Python 3 (ipykernel)",
   "language": "python",
   "name": "python3"
  },
  "language_info": {
   "codemirror_mode": {
    "name": "ipython",
    "version": 3
   },
   "file_extension": ".py",
   "mimetype": "text/x-python",
   "name": "python",
   "nbconvert_exporter": "python",
   "pygments_lexer": "ipython3",
   "version": "3.11.7"
  }
 },
 "nbformat": 4,
 "nbformat_minor": 5
}
