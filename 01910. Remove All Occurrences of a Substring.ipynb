{
 "cells": [
  {
   "cell_type": "code",
   "execution_count": null,
   "id": "ae122326-7797-4045-be23-a07d623780b9",
   "metadata": {},
   "outputs": [],
   "source": [
    "class Solution:\n",
    "    def removeOccurrences(self, s: str, part: str) -> str:\n",
    "        length = len(part)\n",
    "        while part in s:\n",
    "            index = s.index(part)\n",
    "            if index == 0:\n",
    "                s = s[length:]\n",
    "            elif index == len(s)-length:\n",
    "                s = s[:index]\n",
    "            else:\n",
    "                s = s[:index] + s[index+length:]\n",
    "        return s"
   ]
  }
 ],
 "metadata": {
  "kernelspec": {
   "display_name": "Python 3 (ipykernel)",
   "language": "python",
   "name": "python3"
  },
  "language_info": {
   "codemirror_mode": {
    "name": "ipython",
    "version": 3
   },
   "file_extension": ".py",
   "mimetype": "text/x-python",
   "name": "python",
   "nbconvert_exporter": "python",
   "pygments_lexer": "ipython3",
   "version": "3.11.7"
  }
 },
 "nbformat": 4,
 "nbformat_minor": 5
}
