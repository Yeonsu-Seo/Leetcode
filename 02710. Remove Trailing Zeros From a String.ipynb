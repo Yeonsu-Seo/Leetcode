{
 "cells": [
  {
   "cell_type": "code",
   "execution_count": null,
   "id": "b7b72d39-b533-4a72-a878-f4d6d667b442",
   "metadata": {},
   "outputs": [],
   "source": [
    "class Solution:\n",
    "    def removeTrailingZeros(self, num: str) -> str:\n",
    "        index = 0\n",
    "        for i in num[::-1]:\n",
    "            if i == \"0\":\n",
    "                index += 1\n",
    "            else:\n",
    "                break\n",
    "        return num[:len(num)-index]"
   ]
  }
 ],
 "metadata": {
  "kernelspec": {
   "display_name": "Python 3 (ipykernel)",
   "language": "python",
   "name": "python3"
  },
  "language_info": {
   "codemirror_mode": {
    "name": "ipython",
    "version": 3
   },
   "file_extension": ".py",
   "mimetype": "text/x-python",
   "name": "python",
   "nbconvert_exporter": "python",
   "pygments_lexer": "ipython3",
   "version": "3.11.7"
  }
 },
 "nbformat": 4,
 "nbformat_minor": 5
}
