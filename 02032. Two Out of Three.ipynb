{
 "cells": [
  {
   "cell_type": "code",
   "execution_count": null,
   "id": "74d7d231-a84e-4649-9d5e-23f49899e943",
   "metadata": {},
   "outputs": [],
   "source": [
    "class Solution:\n",
    "    def twoOutOfThree(self, nums1: List[int], nums2: List[int], nums3: List[int]) -> List[int]:\n",
    "        check = list(set(nums1).union(set(nums2).union(set(nums3))))\n",
    "        result = []\n",
    "        for i in check:\n",
    "            count = 0\n",
    "            if i in nums1:\n",
    "                count+=1\n",
    "            if i in nums2:\n",
    "                count+=1\n",
    "            if i in nums3:\n",
    "                count+=1\n",
    "            \n",
    "            if count >= 2:\n",
    "                result.append(i)\n",
    "        return result"
   ]
  }
 ],
 "metadata": {
  "kernelspec": {
   "display_name": "Python 3 (ipykernel)",
   "language": "python",
   "name": "python3"
  },
  "language_info": {
   "codemirror_mode": {
    "name": "ipython",
    "version": 3
   },
   "file_extension": ".py",
   "mimetype": "text/x-python",
   "name": "python",
   "nbconvert_exporter": "python",
   "pygments_lexer": "ipython3",
   "version": "3.11.7"
  }
 },
 "nbformat": 4,
 "nbformat_minor": 5
}
