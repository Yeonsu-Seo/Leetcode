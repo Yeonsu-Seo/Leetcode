{
 "cells": [
  {
   "cell_type": "code",
   "execution_count": null,
   "id": "22eae95d-e58e-4b14-9d26-25ff962051ae",
   "metadata": {},
   "outputs": [],
   "source": [
    "class Solution:\n",
    "    def findRelativeRanks(self, score: List[int]) -> List[str]:\n",
    "        result = [0]*len(score)\n",
    "        j = 1\n",
    "        for i in range(len(score)):\n",
    "            index = score.index(max(score))\n",
    "            score[index] = -1\n",
    "\n",
    "            if j == 1:\n",
    "                result[index] = \"Gold Medal\"\n",
    "            elif j == 2:\n",
    "                result[index] = \"Silver Medal\"\n",
    "            elif j == 3:\n",
    "                result[index] = \"Bronze Medal\"\n",
    "            else:\n",
    "                result[index] = str(j)\n",
    "            j += 1\n",
    "        return result"
   ]
  }
 ],
 "metadata": {
  "kernelspec": {
   "display_name": "Python 3 (ipykernel)",
   "language": "python",
   "name": "python3"
  },
  "language_info": {
   "codemirror_mode": {
    "name": "ipython",
    "version": 3
   },
   "file_extension": ".py",
   "mimetype": "text/x-python",
   "name": "python",
   "nbconvert_exporter": "python",
   "pygments_lexer": "ipython3",
   "version": "3.11.7"
  }
 },
 "nbformat": 4,
 "nbformat_minor": 5
}
