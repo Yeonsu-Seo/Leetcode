{
 "cells": [
  {
   "cell_type": "code",
   "execution_count": null,
   "id": "abaaa634-de23-4e0b-9f4d-e07b1f04855c",
   "metadata": {},
   "outputs": [],
   "source": [
    "class Solution:\n",
    "    def arrangeWords(self, text: str) -> str:\n",
    "        text = text.lower()\n",
    "        textList = text.split()\n",
    "\n",
    "        maxlen = 0\n",
    "        for i in textList:\n",
    "            if len(i) > maxlen:\n",
    "                maxlen = len(i)\n",
    "\n",
    "        newText = []\n",
    "        for i in range(1, maxlen+1):\n",
    "            for j in textList:\n",
    "                if i == len(j):\n",
    "                    newText.append(j)\n",
    "        \n",
    "        firstWordList = list(newText[0])\n",
    "        firstWordList[0] = firstWordList[0].upper()\n",
    "        newText[0] = \"\".join(firstWordList)\n",
    "\n",
    "        return \" \".join(newText)"
   ]
  }
 ],
 "metadata": {
  "kernelspec": {
   "display_name": "Python 3 (ipykernel)",
   "language": "python",
   "name": "python3"
  },
  "language_info": {
   "codemirror_mode": {
    "name": "ipython",
    "version": 3
   },
   "file_extension": ".py",
   "mimetype": "text/x-python",
   "name": "python",
   "nbconvert_exporter": "python",
   "pygments_lexer": "ipython3",
   "version": "3.11.7"
  }
 },
 "nbformat": 4,
 "nbformat_minor": 5
}
