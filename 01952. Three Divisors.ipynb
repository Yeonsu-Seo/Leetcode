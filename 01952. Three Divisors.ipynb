{
 "cells": [
  {
   "cell_type": "code",
   "execution_count": null,
   "id": "a28673d8-d218-4ccb-9534-5bd04e450a8a",
   "metadata": {},
   "outputs": [],
   "source": [
    "class Solution:\n",
    "    def isThree(self, n: int) -> bool:\n",
    "        import math\n",
    "\n",
    "        count = 0\n",
    "        for i in range(2, int(math.sqrt(n)+1)):\n",
    "            if n%i==0:\n",
    "                if n//i!=i:\n",
    "                    return False\n",
    "                count += 1\n",
    "        return count == 1"
   ]
  }
 ],
 "metadata": {
  "kernelspec": {
   "display_name": "Python 3 (ipykernel)",
   "language": "python",
   "name": "python3"
  },
  "language_info": {
   "codemirror_mode": {
    "name": "ipython",
    "version": 3
   },
   "file_extension": ".py",
   "mimetype": "text/x-python",
   "name": "python",
   "nbconvert_exporter": "python",
   "pygments_lexer": "ipython3",
   "version": "3.11.7"
  }
 },
 "nbformat": 4,
 "nbformat_minor": 5
}
