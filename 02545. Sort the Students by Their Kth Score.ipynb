{
 "cells": [
  {
   "cell_type": "code",
   "execution_count": null,
   "id": "1c5761c7-34b3-4077-9ef6-105dd56a4add",
   "metadata": {},
   "outputs": [],
   "source": [
    "class Solution:\n",
    "    def sortTheStudents(self, score: List[List[int]], k: int) -> List[List[int]]:\n",
    "        scoreDict = {}\n",
    "        for i in range(len(score)):\n",
    "            scoreDict[score[i][k]] = score[i]\n",
    "        \n",
    "        result = []\n",
    "        kscore = list(scoreDict.keys())\n",
    "        kscore.sort(reverse=True)\n",
    "        for i in kscore:\n",
    "            result.append(scoreDict[i])\n",
    "        return result"
   ]
  }
 ],
 "metadata": {
  "kernelspec": {
   "display_name": "Python 3 (ipykernel)",
   "language": "python",
   "name": "python3"
  },
  "language_info": {
   "codemirror_mode": {
    "name": "ipython",
    "version": 3
   },
   "file_extension": ".py",
   "mimetype": "text/x-python",
   "name": "python",
   "nbconvert_exporter": "python",
   "pygments_lexer": "ipython3",
   "version": "3.11.7"
  }
 },
 "nbformat": 4,
 "nbformat_minor": 5
}
