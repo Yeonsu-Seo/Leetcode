{
 "cells": [
  {
   "cell_type": "code",
   "execution_count": null,
   "id": "edfe72de-54a5-4ccf-b7b6-08ad69250527",
   "metadata": {},
   "outputs": [],
   "source": [
    "class Solution:\n",
    "    def maxPower(self, s: str) -> int:\n",
    "        if len(set(list(s))) == 1:\n",
    "            return len(s)\n",
    "\n",
    "        i = 0\n",
    "        maxNum = 1\n",
    "        count = 1\n",
    "        while i < len(s)-1:\n",
    "            if s[i] != s[i+1]:\n",
    "                maxNum = max(count, maxNum)\n",
    "                count = 1\n",
    "            else:\n",
    "                count += 1\n",
    "            i += 1\n",
    "        if s[i] == s[i-1]:\n",
    "            maxNum = max(count, maxNum)\n",
    "            \n",
    "        return maxNum"
   ]
  }
 ],
 "metadata": {
  "kernelspec": {
   "display_name": "Python 3 (ipykernel)",
   "language": "python",
   "name": "python3"
  },
  "language_info": {
   "codemirror_mode": {
    "name": "ipython",
    "version": 3
   },
   "file_extension": ".py",
   "mimetype": "text/x-python",
   "name": "python",
   "nbconvert_exporter": "python",
   "pygments_lexer": "ipython3",
   "version": "3.11.7"
  }
 },
 "nbformat": 4,
 "nbformat_minor": 5
}
