{
 "cells": [
  {
   "cell_type": "code",
   "execution_count": null,
   "id": "dea700d8-a1ce-4e50-bd81-8beebfd10903",
   "metadata": {},
   "outputs": [],
   "source": [
    "class Solution:\n",
    "    def divisorGame(self, n: int) -> bool:\n",
    "        count = 0\n",
    "        while n != 1:\n",
    "            for i in range(1, n):\n",
    "                if n%i==0:\n",
    "                    x = i\n",
    "                    break\n",
    "            n = n - x\n",
    "            count += 1\n",
    "        return count%2==1"
   ]
  }
 ],
 "metadata": {
  "kernelspec": {
   "display_name": "Python 3 (ipykernel)",
   "language": "python",
   "name": "python3"
  },
  "language_info": {
   "codemirror_mode": {
    "name": "ipython",
    "version": 3
   },
   "file_extension": ".py",
   "mimetype": "text/x-python",
   "name": "python",
   "nbconvert_exporter": "python",
   "pygments_lexer": "ipython3",
   "version": "3.11.7"
  }
 },
 "nbformat": 4,
 "nbformat_minor": 5
}
