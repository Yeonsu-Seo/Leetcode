{
 "cells": [
  {
   "cell_type": "code",
   "execution_count": null,
   "id": "7efb64c6-e71b-4576-a793-cc5f42023fa8",
   "metadata": {},
   "outputs": [],
   "source": [
    "class Solution:\n",
    "    def getHint(self, secret: str, guess: str) -> str:\n",
    "        bulls = 0\n",
    "        cows = 0\n",
    "        \n",
    "        numDict = {}\n",
    "        for i in secret:\n",
    "            numDict[i] = numDict.get(i, 0) + 1\n",
    "        for i in numDict.keys():\n",
    "            if guess.count(i) == 0:\n",
    "                pass\n",
    "            elif numDict[i] <= guess.count(i):\n",
    "                cows += numDict[i]\n",
    "            else:\n",
    "                cows += guess.count(i)\n",
    "        \n",
    "        for i in range(len(secret)):\n",
    "            if secret[i] == guess[i]:\n",
    "                cows -= 1\n",
    "                bulls += 1\n",
    "        \n",
    "        return f\"{bulls}A{cows}B\""
   ]
  }
 ],
 "metadata": {
  "kernelspec": {
   "display_name": "Python 3 (ipykernel)",
   "language": "python",
   "name": "python3"
  },
  "language_info": {
   "codemirror_mode": {
    "name": "ipython",
    "version": 3
   },
   "file_extension": ".py",
   "mimetype": "text/x-python",
   "name": "python",
   "nbconvert_exporter": "python",
   "pygments_lexer": "ipython3",
   "version": "3.11.7"
  }
 },
 "nbformat": 4,
 "nbformat_minor": 5
}
