{
 "cells": [
  {
   "cell_type": "code",
   "execution_count": null,
   "id": "85e90c33-22cc-4c17-bc07-25cf1ba0c57b",
   "metadata": {},
   "outputs": [],
   "source": [
    "class Solution:\n",
    "    def totalMoney(self, n: int) -> int:\n",
    "        result = 0\n",
    "\n",
    "        week = 0\n",
    "        weekcount = 0\n",
    "        i = 1\n",
    "        while n > 0:\n",
    "            result += i\n",
    "\n",
    "            i += 1\n",
    "            n -= 1\n",
    "            weekcount += 1\n",
    "            if weekcount == 7:\n",
    "                week += 1\n",
    "                i = 1+week\n",
    "                weekcount = 0\n",
    "                \n",
    "        return result"
   ]
  }
 ],
 "metadata": {
  "kernelspec": {
   "display_name": "Python 3 (ipykernel)",
   "language": "python",
   "name": "python3"
  },
  "language_info": {
   "codemirror_mode": {
    "name": "ipython",
    "version": 3
   },
   "file_extension": ".py",
   "mimetype": "text/x-python",
   "name": "python",
   "nbconvert_exporter": "python",
   "pygments_lexer": "ipython3",
   "version": "3.11.7"
  }
 },
 "nbformat": 4,
 "nbformat_minor": 5
}
