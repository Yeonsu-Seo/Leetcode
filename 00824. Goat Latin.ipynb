{
 "cells": [
  {
   "cell_type": "code",
   "execution_count": null,
   "id": "b097c2a8-5b88-430e-87ea-173a47d7003c",
   "metadata": {},
   "outputs": [],
   "source": [
    "class Solution:\n",
    "    def toGoatLatin(self, sentence: str) -> str:\n",
    "        sList = sentence.split()\n",
    "        vowel = \"aeiouAEIOU\"\n",
    "\n",
    "        for i in range(len(sList)):\n",
    "            newS = \"\"\n",
    "            if sList[i][0] in vowel:\n",
    "                newS += (sList[i] + \"ma\")\n",
    "            else:\n",
    "                newS += (sList[i][1:] + sList[i][0] + \"ma\")\n",
    "            newS += 'a'*(i+1)\n",
    "            sList[i] = newS\n",
    "        return \" \".join(sList)"
   ]
  }
 ],
 "metadata": {
  "kernelspec": {
   "display_name": "Python 3 (ipykernel)",
   "language": "python",
   "name": "python3"
  },
  "language_info": {
   "codemirror_mode": {
    "name": "ipython",
    "version": 3
   },
   "file_extension": ".py",
   "mimetype": "text/x-python",
   "name": "python",
   "nbconvert_exporter": "python",
   "pygments_lexer": "ipython3",
   "version": "3.11.7"
  }
 },
 "nbformat": 4,
 "nbformat_minor": 5
}
