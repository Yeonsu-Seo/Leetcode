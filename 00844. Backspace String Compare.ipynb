{
 "cells": [
  {
   "cell_type": "code",
   "execution_count": 5,
   "id": "4ac1f2c1-0b5d-4b99-be1a-06c542fadbf7",
   "metadata": {},
   "outputs": [],
   "source": [
    "class Solution:\n",
    "    def backspaceCompare(self, s: str, t: str) -> bool:\n",
    "        newS = \"\"\n",
    "        for i in s:\n",
    "            if i != \"#\":\n",
    "                newS += i\n",
    "            else:\n",
    "                newS = newS[:len(newS)-1]\n",
    "\n",
    "        newT = \"\"\n",
    "        for i in t:\n",
    "            if i != \"#\":\n",
    "                newT += i\n",
    "            else:\n",
    "                newT = newT[:len(newT)-1]\n",
    "        \n",
    "        return newS == newT"
   ]
  }
 ],
 "metadata": {
  "kernelspec": {
   "display_name": "Python 3 (ipykernel)",
   "language": "python",
   "name": "python3"
  },
  "language_info": {
   "codemirror_mode": {
    "name": "ipython",
    "version": 3
   },
   "file_extension": ".py",
   "mimetype": "text/x-python",
   "name": "python",
   "nbconvert_exporter": "python",
   "pygments_lexer": "ipython3",
   "version": "3.11.7"
  }
 },
 "nbformat": 4,
 "nbformat_minor": 5
}
