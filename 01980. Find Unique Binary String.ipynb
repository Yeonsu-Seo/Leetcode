{
 "cells": [
  {
   "cell_type": "code",
   "execution_count": null,
   "id": "b91f452f-a4b9-4c6c-8103-082423686bd3",
   "metadata": {},
   "outputs": [],
   "source": [
    "class Solution:\n",
    "    def findDifferentBinaryString(self, nums: List[str]) -> str:\n",
    "        result = \"\"\n",
    "        for i in range(len(nums)):\n",
    "            if nums[i][i] == \"0\":\n",
    "                result += \"1\"\n",
    "            else:\n",
    "                result += \"0\"\n",
    "        return result"
   ]
  }
 ],
 "metadata": {
  "kernelspec": {
   "display_name": "Python 3 (ipykernel)",
   "language": "python",
   "name": "python3"
  },
  "language_info": {
   "codemirror_mode": {
    "name": "ipython",
    "version": 3
   },
   "file_extension": ".py",
   "mimetype": "text/x-python",
   "name": "python",
   "nbconvert_exporter": "python",
   "pygments_lexer": "ipython3",
   "version": "3.11.7"
  }
 },
 "nbformat": 4,
 "nbformat_minor": 5
}
