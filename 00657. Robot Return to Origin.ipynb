{
 "cells": [
  {
   "cell_type": "code",
   "execution_count": null,
   "id": "6f6b3457-aa36-42f1-862a-88a7c8143520",
   "metadata": {},
   "outputs": [],
   "source": [
    "class Solution:\n",
    "    def judgeCircle(self, moves: str) -> bool:\n",
    "        moves = list(moves)\n",
    "        if moves.count(\"D\") != moves.count(\"U\"):\n",
    "            return False\n",
    "        elif moves.count(\"L\") != moves.count(\"R\"):\n",
    "            return False\n",
    "        return True"
   ]
  }
 ],
 "metadata": {
  "kernelspec": {
   "display_name": "Python 3 (ipykernel)",
   "language": "python",
   "name": "python3"
  },
  "language_info": {
   "codemirror_mode": {
    "name": "ipython",
    "version": 3
   },
   "file_extension": ".py",
   "mimetype": "text/x-python",
   "name": "python",
   "nbconvert_exporter": "python",
   "pygments_lexer": "ipython3",
   "version": "3.11.7"
  }
 },
 "nbformat": 4,
 "nbformat_minor": 5
}
