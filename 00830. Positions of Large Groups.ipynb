{
 "cells": [
  {
   "cell_type": "code",
   "execution_count": null,
   "id": "74d3ba67-957f-4a48-b066-33cd7da1b81c",
   "metadata": {},
   "outputs": [],
   "source": [
    "class Solution:\n",
    "    def largeGroupPositions(self, s: str) -> List[List[int]]:\n",
    "        count = 1\n",
    "        rangeList = []\n",
    "        \n",
    "        if len(set(list(s))) == 1:\n",
    "            if len(s) >= 3:\n",
    "                return [[0, len(s)-1]]\n",
    "            else:\n",
    "                return []\n",
    "\n",
    "        for i in range(len(s)-1):\n",
    "            if s[i] != s[i+1]:\n",
    "                if count >= 3:\n",
    "                    rangeList.append([i-count+1, i])\n",
    "                count = 1\n",
    "            else:\n",
    "                count += 1\n",
    "        \n",
    "        if count>=3 and s[-1] == s[-count]:\n",
    "            rangeList.append([len(s)-count ,len(s)-1])\n",
    "        \n",
    "        return rangeList"
   ]
  }
 ],
 "metadata": {
  "kernelspec": {
   "display_name": "Python 3 (ipykernel)",
   "language": "python",
   "name": "python3"
  },
  "language_info": {
   "codemirror_mode": {
    "name": "ipython",
    "version": 3
   },
   "file_extension": ".py",
   "mimetype": "text/x-python",
   "name": "python",
   "nbconvert_exporter": "python",
   "pygments_lexer": "ipython3",
   "version": "3.11.7"
  }
 },
 "nbformat": 4,
 "nbformat_minor": 5
}
