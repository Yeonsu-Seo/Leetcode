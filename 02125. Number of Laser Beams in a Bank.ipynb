{
 "cells": [
  {
   "cell_type": "code",
   "execution_count": null,
   "id": "22f2fcb2-b4db-4c3c-a8a5-eafddad10d39",
   "metadata": {},
   "outputs": [],
   "source": [
    "class Solution:\n",
    "    def numberOfBeams(self, bank: List[str]) -> int:\n",
    "        laser = []\n",
    "        for i in bank:\n",
    "            num = i.count(\"1\")\n",
    "            if num != 0:\n",
    "                laser.append(num)\n",
    "        \n",
    "        result = 0\n",
    "        for i in range(len(laser)-1):\n",
    "            result += laser[i]*laser[i+1]\n",
    "        return result"
   ]
  }
 ],
 "metadata": {
  "kernelspec": {
   "display_name": "Python 3 (ipykernel)",
   "language": "python",
   "name": "python3"
  },
  "language_info": {
   "codemirror_mode": {
    "name": "ipython",
    "version": 3
   },
   "file_extension": ".py",
   "mimetype": "text/x-python",
   "name": "python",
   "nbconvert_exporter": "python",
   "pygments_lexer": "ipython3",
   "version": "3.11.7"
  }
 },
 "nbformat": 4,
 "nbformat_minor": 5
}
