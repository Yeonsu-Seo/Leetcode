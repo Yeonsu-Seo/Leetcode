{
 "cells": [
  {
   "cell_type": "code",
   "execution_count": null,
   "id": "ad2b2f01-ad2f-4f35-9c92-853249250ca6",
   "metadata": {},
   "outputs": [],
   "source": [
    "class Solution:\n",
    "    def productExceptSelf(self, nums: List[int]) -> List[int]:\n",
    "        totalProduct = 1\n",
    "        for i in nums:\n",
    "            if i != 0:\n",
    "                totalProduct *= i             \n",
    "        \n",
    "        if nums.count(0) >= 2:\n",
    "            return [0 for i in range(len(nums))]\n",
    "        elif nums.count(0) == 1:\n",
    "            answer = []\n",
    "            for i in nums:\n",
    "                if i != 0:\n",
    "                    answer.append(0)\n",
    "                else:\n",
    "                    answer.append(totalProduct)\n",
    "            return answer\n",
    "        else:\n",
    "            answer = []\n",
    "            for i in nums:\n",
    "                answer.append(totalProduct//i)\n",
    "            return answer"
   ]
  }
 ],
 "metadata": {
  "kernelspec": {
   "display_name": "Python 3 (ipykernel)",
   "language": "python",
   "name": "python3"
  },
  "language_info": {
   "codemirror_mode": {
    "name": "ipython",
    "version": 3
   },
   "file_extension": ".py",
   "mimetype": "text/x-python",
   "name": "python",
   "nbconvert_exporter": "python",
   "pygments_lexer": "ipython3",
   "version": "3.11.7"
  }
 },
 "nbformat": 4,
 "nbformat_minor": 5
}
