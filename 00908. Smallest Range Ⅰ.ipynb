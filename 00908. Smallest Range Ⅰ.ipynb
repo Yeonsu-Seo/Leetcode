{
 "cells": [
  {
   "cell_type": "code",
   "execution_count": null,
   "id": "64484e0a-0bbd-476b-971a-51411ba0924a",
   "metadata": {},
   "outputs": [],
   "source": [
    "class Solution:\n",
    "    def smallestRangeI(self, nums: List[int], k: int) -> int:\n",
    "        if len(nums) < 2:\n",
    "            return 0\n",
    "\n",
    "        maxi = max(nums)\n",
    "        mini = min(nums)\n",
    "        if maxi-mini <= k*2:\n",
    "            return 0\n",
    "        else:\n",
    "            return maxi-mini-k*2"
   ]
  }
 ],
 "metadata": {
  "kernelspec": {
   "display_name": "Python 3 (ipykernel)",
   "language": "python",
   "name": "python3"
  },
  "language_info": {
   "codemirror_mode": {
    "name": "ipython",
    "version": 3
   },
   "file_extension": ".py",
   "mimetype": "text/x-python",
   "name": "python",
   "nbconvert_exporter": "python",
   "pygments_lexer": "ipython3",
   "version": "3.11.7"
  }
 },
 "nbformat": 4,
 "nbformat_minor": 5
}
