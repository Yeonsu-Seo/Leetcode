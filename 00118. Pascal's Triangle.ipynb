{
 "cells": [
  {
   "cell_type": "code",
   "execution_count": null,
   "id": "7b6b1e58-0312-4c54-8144-190481150e10",
   "metadata": {},
   "outputs": [],
   "source": [
    "class Solution:\n",
    "    def generate(self, numRows: int) -> List[List[int]]:\n",
    "        if numRows == 1:\n",
    "            return [[1]]\n",
    "\n",
    "        result = [[1], [1, 1]]\n",
    "        for i in range(2, numRows):\n",
    "            nRow = []\n",
    "            for j in range(i+1):\n",
    "                if j == 0 or j == i:\n",
    "                    nRow.append(1)\n",
    "                else:\n",
    "                    nRow.append(result[i-1][j-1]+result[i-1][j])\n",
    "            result.append(nRow)\n",
    "        return result"
   ]
  }
 ],
 "metadata": {
  "kernelspec": {
   "display_name": "Python 3 (ipykernel)",
   "language": "python",
   "name": "python3"
  },
  "language_info": {
   "codemirror_mode": {
    "name": "ipython",
    "version": 3
   },
   "file_extension": ".py",
   "mimetype": "text/x-python",
   "name": "python",
   "nbconvert_exporter": "python",
   "pygments_lexer": "ipython3",
   "version": "3.11.7"
  }
 },
 "nbformat": 4,
 "nbformat_minor": 5
}
