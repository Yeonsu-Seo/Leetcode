{
 "cells": [
  {
   "cell_type": "code",
   "execution_count": null,
   "id": "09940757-5f1a-4ecd-bc94-38c50a031501",
   "metadata": {},
   "outputs": [],
   "source": [
    "class Solution:\n",
    "    def findMissingAndRepeatedValues(self, grid: List[List[int]]) -> List[int]:\n",
    "        check = []\n",
    "        for i in range(len(grid)):\n",
    "            for j in range(len(grid[0])):\n",
    "                if grid[i][j] in check:\n",
    "                    repeated = grid[i][j]\n",
    "                check.append(grid[i][j])\n",
    "\n",
    "        num = [i for i in range(1, len(grid)**2+1)]\n",
    "        miss = list(set(num)-set(check))[0]\n",
    "        return [repeated, miss]"
   ]
  }
 ],
 "metadata": {
  "kernelspec": {
   "display_name": "Python 3 (ipykernel)",
   "language": "python",
   "name": "python3"
  },
  "language_info": {
   "codemirror_mode": {
    "name": "ipython",
    "version": 3
   },
   "file_extension": ".py",
   "mimetype": "text/x-python",
   "name": "python",
   "nbconvert_exporter": "python",
   "pygments_lexer": "ipython3",
   "version": "3.11.7"
  }
 },
 "nbformat": 4,
 "nbformat_minor": 5
}
