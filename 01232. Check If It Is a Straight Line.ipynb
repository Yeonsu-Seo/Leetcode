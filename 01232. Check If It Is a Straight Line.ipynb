{
 "cells": [
  {
   "cell_type": "code",
   "execution_count": null,
   "id": "904dd661-c597-4b29-9fad-78290ac4bdd7",
   "metadata": {},
   "outputs": [],
   "source": [
    "class Solution:\n",
    "    def checkStraightLine(self, coordinates: List[List[int]]) -> bool:\n",
    "        \n",
    "        tangent = []\n",
    "        for i in range(len(coordinates)-1):\n",
    "            dx = coordinates[i+1][0] - coordinates[i][0]\n",
    "            dy = coordinates[i+1][1] - coordinates[i][1]\n",
    "            if dx == 0:\n",
    "                tangent.append(\"y\")\n",
    "            else:\n",
    "                tangent.append(dy/dx)\n",
    "            if len(set(tangent)) > 1:\n",
    "                return False\n",
    "        return True"
   ]
  }
 ],
 "metadata": {
  "kernelspec": {
   "display_name": "Python 3 (ipykernel)",
   "language": "python",
   "name": "python3"
  },
  "language_info": {
   "codemirror_mode": {
    "name": "ipython",
    "version": 3
   },
   "file_extension": ".py",
   "mimetype": "text/x-python",
   "name": "python",
   "nbconvert_exporter": "python",
   "pygments_lexer": "ipython3",
   "version": "3.11.7"
  }
 },
 "nbformat": 4,
 "nbformat_minor": 5
}
