{
 "cells": [
  {
   "cell_type": "code",
   "execution_count": null,
   "id": "40bb0fff-a4f5-4b70-be61-9ebec14638f2",
   "metadata": {},
   "outputs": [],
   "source": [
    "class Solution:\n",
    "    def differenceOfSum(self, nums: List[int]) -> int:\n",
    "        \n",
    "        elesum = sum(nums)\n",
    "        digitsum = 0\n",
    "        for i in nums:\n",
    "            i = str(i)\n",
    "            for j in i:\n",
    "                digitsum += int(j)\n",
    "\n",
    "        return abs(elesum-digitsum)"
   ]
  }
 ],
 "metadata": {
  "kernelspec": {
   "display_name": "Python 3 (ipykernel)",
   "language": "python",
   "name": "python3"
  },
  "language_info": {
   "codemirror_mode": {
    "name": "ipython",
    "version": 3
   },
   "file_extension": ".py",
   "mimetype": "text/x-python",
   "name": "python",
   "nbconvert_exporter": "python",
   "pygments_lexer": "ipython3",
   "version": "3.11.7"
  }
 },
 "nbformat": 4,
 "nbformat_minor": 5
}
