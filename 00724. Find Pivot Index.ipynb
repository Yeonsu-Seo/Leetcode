{
 "cells": [
  {
   "cell_type": "code",
   "execution_count": null,
   "id": "1e53ff6b-d619-40ea-9ca9-bd7565073baa",
   "metadata": {},
   "outputs": [],
   "source": [
    "class Solution:\n",
    "    def pivotIndex(self, nums: List[int]) -> int:\n",
    "        nums = [0] + nums +[0]\n",
    "        for i in range(1, len(nums)-1):\n",
    "            if sum(nums[:i]) == sum(nums[i+1:]):\n",
    "                return i-1\n",
    "        return -1"
   ]
  }
 ],
 "metadata": {
  "kernelspec": {
   "display_name": "Python 3 (ipykernel)",
   "language": "python",
   "name": "python3"
  },
  "language_info": {
   "codemirror_mode": {
    "name": "ipython",
    "version": 3
   },
   "file_extension": ".py",
   "mimetype": "text/x-python",
   "name": "python",
   "nbconvert_exporter": "python",
   "pygments_lexer": "ipython3",
   "version": "3.11.7"
  }
 },
 "nbformat": 4,
 "nbformat_minor": 5
}
