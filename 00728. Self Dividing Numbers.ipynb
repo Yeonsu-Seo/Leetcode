{
 "cells": [
  {
   "cell_type": "code",
   "execution_count": null,
   "id": "b2a90817-27f9-4c16-a214-00b1bfe67123",
   "metadata": {},
   "outputs": [],
   "source": [
    "class Solution:\n",
    "    def selfDividingNumbers(self, left: int, right: int) -> List[int]:\n",
    "        answer = []\n",
    "\n",
    "        checkList = [str(i) for i in range(left, right+1)]\n",
    "\n",
    "        for i in range(len(checkList)):\n",
    "            number = checkList[i]\n",
    "            if \"0\" in number:\n",
    "                continue\n",
    "            count = len(set(list(number)))\n",
    "            for j in set(list(number)):\n",
    "                if int(number)%int(j)==0:\n",
    "                    count -= 1\n",
    "            if count == 0:\n",
    "                answer.append(int(number))\n",
    "        \n",
    "        return answer"
   ]
  }
 ],
 "metadata": {
  "kernelspec": {
   "display_name": "Python 3 (ipykernel)",
   "language": "python",
   "name": "python3"
  },
  "language_info": {
   "codemirror_mode": {
    "name": "ipython",
    "version": 3
   },
   "file_extension": ".py",
   "mimetype": "text/x-python",
   "name": "python",
   "nbconvert_exporter": "python",
   "pygments_lexer": "ipython3",
   "version": "3.11.7"
  }
 },
 "nbformat": 4,
 "nbformat_minor": 5
}
