{
 "cells": [
  {
   "cell_type": "code",
   "execution_count": 5,
   "id": "e18f85a2-3190-47a6-9c76-578a72ccf127",
   "metadata": {},
   "outputs": [],
   "source": [
    "class Solution:\n",
    "    def reverseWords(sel90f, s: str) -> str:\n",
    "        sList = s.split()\n",
    "        sList = sList[::-1]\n",
    "        return \" \".join(sList)"
   ]
  }
 ],
 "metadata": {
  "kernelspec": {
   "display_name": "Python 3 (ipykernel)",
   "language": "python",
   "name": "python3"
  },
  "language_info": {
   "codemirror_mode": {
    "name": "ipython",
    "version": 3
   },
   "file_extension": ".py",
   "mimetype": "text/x-python",
   "name": "python",
   "nbconvert_exporter": "python",
   "pygments_lexer": "ipython3",
   "version": "3.11.7"
  }
 },
 "nbformat": 4,
 "nbformat_minor": 5
}
