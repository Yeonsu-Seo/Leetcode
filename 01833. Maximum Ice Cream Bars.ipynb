{
 "cells": [
  {
   "cell_type": "code",
   "execution_count": null,
   "id": "50383d24-7158-4b9f-822a-48aeab708e40",
   "metadata": {},
   "outputs": [],
   "source": [
    "class Solution:\n",
    "    def maxIceCream(self, costs: List[int], coins: int) -> int:\n",
    "        if sum(costs) <= coins:\n",
    "            return len(costs)\n",
    "            \n",
    "        result = 0\n",
    "        costs.sort()\n",
    "        while True:\n",
    "            cost = costs.pop(0)\n",
    "            if cost > coins:\n",
    "                return result\n",
    "            result += 1\n",
    "            coins -= cost"
   ]
  }
 ],
 "metadata": {
  "kernelspec": {
   "display_name": "Python 3 (ipykernel)",
   "language": "python",
   "name": "python3"
  },
  "language_info": {
   "codemirror_mode": {
    "name": "ipython",
    "version": 3
   },
   "file_extension": ".py",
   "mimetype": "text/x-python",
   "name": "python",
   "nbconvert_exporter": "python",
   "pygments_lexer": "ipython3",
   "version": "3.11.7"
  }
 },
 "nbformat": 4,
 "nbformat_minor": 5
}
