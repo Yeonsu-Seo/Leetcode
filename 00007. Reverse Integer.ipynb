{
 "cells": [
  {
   "cell_type": "code",
   "execution_count": null,
   "id": "c8a621e1-647b-432d-a63b-f66ce4c52342",
   "metadata": {},
   "outputs": [],
   "source": [
    "class Solution:\n",
    "    def reverse(self, x: int) -> int:\n",
    "        if x < 0:\n",
    "            xStr = str(x)[1:]\n",
    "            xStr = -int(xStr[::-1])\n",
    "        else:\n",
    "            xStr = int(str(x)[::-1])\n",
    "        if (xStr>=-2**31) and (xStr<=2**31-1):\n",
    "            return xStr \n",
    "        return 0"
   ]
  }
 ],
 "metadata": {
  "kernelspec": {
   "display_name": "Python 3 (ipykernel)",
   "language": "python",
   "name": "python3"
  },
  "language_info": {
   "codemirror_mode": {
    "name": "ipython",
    "version": 3
   },
   "file_extension": ".py",
   "mimetype": "text/x-python",
   "name": "python",
   "nbconvert_exporter": "python",
   "pygments_lexer": "ipython3",
   "version": "3.11.7"
  }
 },
 "nbformat": 4,
 "nbformat_minor": 5
}
