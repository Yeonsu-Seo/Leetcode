{
 "cells": [
  {
   "cell_type": "code",
   "execution_count": null,
   "id": "caea514f-d818-46f0-ab4a-b1a234c36bd8",
   "metadata": {},
   "outputs": [],
   "source": [
    "class Solution:\n",
    "    def maxWidthOfVerticalArea(self, points: List[List[int]]) -> int:\n",
    "        x = []\n",
    "        for i in points:\n",
    "            x.append(i[0])\n",
    "        x = list(set(x))\n",
    "        x.sort()\n",
    "        \n",
    "        maxi = 0\n",
    "        for i in range(len(x)-1):\n",
    "            temp = x[i+1]-x[i]\n",
    "            if temp>maxi:\n",
    "                maxi = temp\n",
    "        \n",
    "        return maxi"
   ]
  }
 ],
 "metadata": {
  "kernelspec": {
   "display_name": "Python 3 (ipykernel)",
   "language": "python",
   "name": "python3"
  },
  "language_info": {
   "codemirror_mode": {
    "name": "ipython",
    "version": 3
   },
   "file_extension": ".py",
   "mimetype": "text/x-python",
   "name": "python",
   "nbconvert_exporter": "python",
   "pygments_lexer": "ipython3",
   "version": "3.11.7"
  }
 },
 "nbformat": 4,
 "nbformat_minor": 5
}
