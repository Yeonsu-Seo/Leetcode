{
 "cells": [
  {
   "cell_type": "code",
   "execution_count": null,
   "id": "40beaf72-ab40-4630-8918-9ab201aef85d",
   "metadata": {},
   "outputs": [],
   "source": [
    "class Solution:\n",
    "    def timeRequiredToBuy(self, tickets: List[int], k: int) -> int:\n",
    "        result = 0\n",
    "        for i in range(len(tickets)):\n",
    "            if i <= k:\n",
    "                result += min(tickets[i], tickets[k])\n",
    "            else:\n",
    "                if min(tickets[i], tickets[k])==tickets[k]:\n",
    "                    result += tickets[k]-1\n",
    "                else:\n",
    "                    result += tickets[i]\n",
    "        return result"
   ]
  }
 ],
 "metadata": {
  "kernelspec": {
   "display_name": "Python 3 (ipykernel)",
   "language": "python",
   "name": "python3"
  },
  "language_info": {
   "codemirror_mode": {
    "name": "ipython",
    "version": 3
   },
   "file_extension": ".py",
   "mimetype": "text/x-python",
   "name": "python",
   "nbconvert_exporter": "python",
   "pygments_lexer": "ipython3",
   "version": "3.11.7"
  }
 },
 "nbformat": 4,
 "nbformat_minor": 5
}
