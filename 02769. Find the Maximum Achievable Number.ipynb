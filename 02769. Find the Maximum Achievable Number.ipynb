{
 "cells": [
  {
   "cell_type": "code",
   "execution_count": null,
   "id": "50498472-34c3-4b7f-bfca-5cbd19a798f8",
   "metadata": {},
   "outputs": [],
   "source": [
    "class Solution:\n",
    "    def theMaximumAchievableX(self, num: int, t: int) -> int:\n",
    "        return num +t*2"
   ]
  }
 ],
 "metadata": {
  "kernelspec": {
   "display_name": "Python 3 (ipykernel)",
   "language": "python",
   "name": "python3"
  },
  "language_info": {
   "codemirror_mode": {
    "name": "ipython",
    "version": 3
   },
   "file_extension": ".py",
   "mimetype": "text/x-python",
   "name": "python",
   "nbconvert_exporter": "python",
   "pygments_lexer": "ipython3",
   "version": "3.11.7"
  }
 },
 "nbformat": 4,
 "nbformat_minor": 5
}
