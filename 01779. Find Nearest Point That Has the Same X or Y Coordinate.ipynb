{
 "cells": [
  {
   "cell_type": "code",
   "execution_count": null,
   "id": "5cb0536c-0af4-4caa-bcb9-d8150f8d4ef0",
   "metadata": {},
   "outputs": [],
   "source": [
    "class Solution:\n",
    "    def nearestValidPoint(self, x: int, y: int, points: List[List[int]]) -> int:\n",
    "        dis = []\n",
    "        for i in points:\n",
    "            if i[0] == x:\n",
    "                dis.append(abs(i[1]-y))\n",
    "            elif i[1] == y:\n",
    "                dis.append(abs(i[0]-x))\n",
    "            else:\n",
    "                dis.append(10000)\n",
    "        \n",
    "        if dis == [10000]*len(points):\n",
    "            return -1\n",
    " \n",
    "        return dis.index(min(dis))"
   ]
  }
 ],
 "metadata": {
  "kernelspec": {
   "display_name": "Python 3 (ipykernel)",
   "language": "python",
   "name": "python3"
  },
  "language_info": {
   "codemirror_mode": {
    "name": "ipython",
    "version": 3
   },
   "file_extension": ".py",
   "mimetype": "text/x-python",
   "name": "python",
   "nbconvert_exporter": "python",
   "pygments_lexer": "ipython3",
   "version": "3.11.7"
  }
 },
 "nbformat": 4,
 "nbformat_minor": 5
}
